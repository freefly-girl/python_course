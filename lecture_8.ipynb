{
 "cells": [
  {
   "cell_type": "markdown",
   "metadata": {},
   "source": [
    "# Lecture 8: Python's collections\n",
    "\n",
    "Python’s collections module provides a rich set of specialized container data types carefully designed to approach specific programming problems in a Pythonic and efficient way."
   ]
  },
  {
   "cell_type": "markdown",
   "metadata": {},
   "source": [
    "## Function: deque()\n",
    "\n",
    "Python’s deque was the first data structure in collections.\n",
    "\n",
    "This sequence-like data type is a generalization of stacks and queues designed to support memory-efficient and fast append and pop operations on both ends of the data structure."
   ]
  },
  {
   "cell_type": "code",
   "execution_count": 1,
   "metadata": {},
   "outputs": [
    {
     "name": "stdout",
     "output_type": "stream",
     "text": [
      "deque([])\n",
      "\n",
      "deque(['Jane', 'John', 'Linda'])\n",
      "\n",
      "Jane\n",
      "John\n",
      "Linda\n",
      "\n"
     ]
    },
    {
     "ename": "IndexError",
     "evalue": "pop from an empty deque",
     "output_type": "error",
     "traceback": [
      "\u001b[0;31m---------------------------------------------------------------------------\u001b[0m",
      "\u001b[0;31mIndexError\u001b[0m                                Traceback (most recent call last)",
      "\u001b[0;32m/var/folders/38/bgjzx19n7z50tbjs_n3vpgdw0000gn/T/ipykernel_9325/1880463641.py\u001b[0m in \u001b[0;36m<module>\u001b[0;34m\u001b[0m\n\u001b[1;32m     22\u001b[0m \u001b[0;34m\u001b[0m\u001b[0m\n\u001b[1;32m     23\u001b[0m \u001b[0;31m# No people on the queue\u001b[0m\u001b[0;34m\u001b[0m\u001b[0;34m\u001b[0m\u001b[0;34m\u001b[0m\u001b[0m\n\u001b[0;32m---> 24\u001b[0;31m \u001b[0mprint\u001b[0m\u001b[0;34m(\u001b[0m\u001b[0mticket_queue\u001b[0m\u001b[0;34m.\u001b[0m\u001b[0mpopleft\u001b[0m\u001b[0;34m(\u001b[0m\u001b[0;34m)\u001b[0m\u001b[0;34m)\u001b[0m\u001b[0;34m\u001b[0m\u001b[0;34m\u001b[0m\u001b[0m\n\u001b[0m",
      "\u001b[0;31mIndexError\u001b[0m: pop from an empty deque"
     ]
    }
   ],
   "source": [
    "from collections import deque\n",
    "\n",
    "ticket_queue = deque()\n",
    "print(ticket_queue)\n",
    "\n",
    "print()\n",
    "\n",
    "# People arrive to the queue\n",
    "ticket_queue.append(\"Jane\")\n",
    "ticket_queue.append(\"John\")\n",
    "ticket_queue.append(\"Linda\")\n",
    "print(ticket_queue)\n",
    "\n",
    "print()\n",
    "\n",
    "# People bought their tickets\n",
    "print(ticket_queue.popleft())\n",
    "print(ticket_queue.popleft())\n",
    "print(ticket_queue.popleft())\n",
    "\n",
    "print()\n",
    "\n",
    "# No people on the queue\n",
    "print(ticket_queue.popleft())"
   ]
  },
  {
   "cell_type": "code",
   "execution_count": 2,
   "metadata": {},
   "outputs": [
    {
     "name": "stdout",
     "output_type": "stream",
     "text": [
      "deque(['database.py', 'core.py', 'README.md'], maxlen=3)\n",
      "deque(['requirements.txt', 'database.py', 'core.py'], maxlen=3)\n"
     ]
    }
   ],
   "source": [
    "from collections import deque\n",
    "\n",
    "recent_files = deque([\"core.py\", \"README.md\", \"__init__.py\"], maxlen=3)\n",
    "\n",
    "recent_files.appendleft(\"database.py\")\n",
    "print(recent_files)\n",
    "\n",
    "recent_files.appendleft(\"requirements.txt\")\n",
    "print(recent_files)"
   ]
  },
  {
   "cell_type": "code",
   "execution_count": 3,
   "metadata": {},
   "outputs": [],
   "source": [
    "### Deques also support sequence operations:\n",
    "\n",
    "# Method           Description\n",
    "# .clear()         Remove all the elements from a deque\n",
    "# .copy()          Create a shallow copy of a deque\n",
    "# .count(x)        Count the number of deque elements equal to x\n",
    "# .remove(value)   Remove the first occurrence of value\n",
    "# and so on."
   ]
  },
  {
   "cell_type": "markdown",
   "metadata": {},
   "source": [
    "## Function: defaultdict()\n",
    "\n",
    "A dictionary subclass for constructing default values for missing keys and automatically adding them to the dictionary."
   ]
  },
  {
   "cell_type": "code",
   "execution_count": 4,
   "metadata": {},
   "outputs": [
    {
     "ename": "KeyError",
     "evalue": "'fruit'",
     "output_type": "error",
     "traceback": [
      "\u001b[0;31m---------------------------------------------------------------------------\u001b[0m",
      "\u001b[0;31mKeyError\u001b[0m                                  Traceback (most recent call last)",
      "\u001b[0;32m/var/folders/38/bgjzx19n7z50tbjs_n3vpgdw0000gn/T/ipykernel_9325/24195966.py\u001b[0m in \u001b[0;36m<module>\u001b[0;34m\u001b[0m\n\u001b[1;32m      3\u001b[0m \u001b[0;34m\u001b[0m\u001b[0m\n\u001b[1;32m      4\u001b[0m \u001b[0mfavorites\u001b[0m \u001b[0;34m=\u001b[0m \u001b[0;34m{\u001b[0m\u001b[0;34m\"pet\"\u001b[0m\u001b[0;34m:\u001b[0m \u001b[0;34m\"dog\"\u001b[0m\u001b[0;34m,\u001b[0m \u001b[0;34m\"color\"\u001b[0m\u001b[0;34m:\u001b[0m \u001b[0;34m\"blue\"\u001b[0m\u001b[0;34m,\u001b[0m \u001b[0;34m\"language\"\u001b[0m\u001b[0;34m:\u001b[0m \u001b[0;34m\"Python\"\u001b[0m\u001b[0;34m}\u001b[0m\u001b[0;34m\u001b[0m\u001b[0;34m\u001b[0m\u001b[0m\n\u001b[0;32m----> 5\u001b[0;31m \u001b[0mprint\u001b[0m\u001b[0;34m(\u001b[0m\u001b[0mfavorites\u001b[0m\u001b[0;34m[\u001b[0m\u001b[0;34m\"fruit\"\u001b[0m\u001b[0;34m]\u001b[0m\u001b[0;34m)\u001b[0m\u001b[0;34m\u001b[0m\u001b[0;34m\u001b[0m\u001b[0m\n\u001b[0m",
      "\u001b[0;31mKeyError\u001b[0m: 'fruit'"
     ]
    }
   ],
   "source": [
    "# A common problem you’ll face when you’re working with dictionaries in Python is how to handle missing keys. \n",
    "# If you try to access a key that doesn’t exist in a given dictionary, then you get a KeyError:\n",
    "\n",
    "favorites = {\"pet\": \"dog\", \"color\": \"blue\", \"language\": \"Python\"}\n",
    "print(favorites[\"fruit\"])"
   ]
  },
  {
   "cell_type": "code",
   "execution_count": null,
   "metadata": {},
   "outputs": [],
   "source": [
    "# There are a few approaches to work around this issue. For example, you can use .setdefault()\n",
    "\n",
    "# Since this key doesn’t exist in favorites, .setdefault() creates it and assigns it the value of apple\n",
    "favorites = {\"pet\": \"dog\", \"color\": \"blue\", \"language\": \"Python\"}\n",
    "print(favorites.setdefault(\"fruit\", \"apple\"))\n",
    "print(favorites)\n",
    "\n",
    "print()\n",
    "\n",
    "# If you call .setdefault() with an existent key, then the call won’t affect the dictionary\n",
    "print(favorites.setdefault(\"pet\", \"cat\"))\n",
    "print(favorites)"
   ]
  },
  {
   "cell_type": "code",
   "execution_count": null,
   "metadata": {},
   "outputs": [],
   "source": [
    "# You can also use .get() to return a suitable default value if a given key is missing\n",
    "\n",
    "favorites = {\"pet\": \"dog\", \"color\": \"blue\", \"language\": \"Python\"}\n",
    "print(favorites.get(\"fruit\", \"apple\"))\n",
    "print(favorites)\n",
    "\n",
    "# However, .get() doesn’t create the new key for you."
   ]
  },
  {
   "cell_type": "code",
   "execution_count": null,
   "metadata": {},
   "outputs": [],
   "source": [
    "# You can use any callable to initialize your 'defaultdict' objects.\n",
    "# For example, with int() you can create a suitable counter to count different objects:\n",
    "from collections import defaultdict\n",
    "\n",
    "counter = defaultdict(int)\n",
    "print(counter)\n",
    "print(counter[\"dogs\"])\n",
    "print(counter)\n",
    "\n",
    "counter[\"dogs\"] += 1\n",
    "counter[\"dogs\"] += 1\n",
    "counter[\"dogs\"] += 1\n",
    "counter[\"cats\"] += 1\n",
    "counter[\"cats\"] += 1\n",
    "print(counter)"
   ]
  },
  {
   "cell_type": "code",
   "execution_count": null,
   "metadata": {},
   "outputs": [],
   "source": []
  },
  {
   "cell_type": "markdown",
   "metadata": {},
   "source": [
    "## Function: namedtuple()\n",
    "\n",
    "A factory function for creating subclasses of tuple that provides named fields that allow accessing items by name while keeping the ability to access items by index."
   ]
  },
  {
   "cell_type": "code",
   "execution_count": null,
   "metadata": {},
   "outputs": [],
   "source": [
    "from collections import namedtuple\n",
    "\n",
    "Car = namedtuple('Car', ['color', 'mileage'])\n",
    "\n",
    "my_car = Car('red', 3812.4)\n",
    "print(my_car.color, my_car.mileage)"
   ]
  },
  {
   "cell_type": "code",
   "execution_count": null,
   "metadata": {},
   "outputs": [],
   "source": [
    "my_car"
   ]
  },
  {
   "cell_type": "code",
   "execution_count": null,
   "metadata": {},
   "outputs": [],
   "source": [
    "my_car.color = 'blue'"
   ]
  },
  {
   "cell_type": "markdown",
   "metadata": {},
   "source": [
    "##### Attribute Name: _fields"
   ]
  },
  {
   "cell_type": "code",
   "execution_count": 5,
   "metadata": {},
   "outputs": [
    {
     "ename": "NameError",
     "evalue": "name 'namedtuple' is not defined",
     "output_type": "error",
     "traceback": [
      "\u001b[0;31m---------------------------------------------------------------------------\u001b[0m",
      "\u001b[0;31mNameError\u001b[0m                                 Traceback (most recent call last)",
      "\u001b[0;32m/var/folders/38/bgjzx19n7z50tbjs_n3vpgdw0000gn/T/ipykernel_9325/202662368.py\u001b[0m in \u001b[0;36m<module>\u001b[0;34m\u001b[0m\n\u001b[0;32m----> 1\u001b[0;31m \u001b[0mCar\u001b[0m \u001b[0;34m=\u001b[0m \u001b[0mnamedtuple\u001b[0m\u001b[0;34m(\u001b[0m\u001b[0;34m'Car'\u001b[0m\u001b[0;34m,\u001b[0m \u001b[0;34m'color mileage'\u001b[0m\u001b[0;34m)\u001b[0m\u001b[0;34m\u001b[0m\u001b[0;34m\u001b[0m\u001b[0m\n\u001b[0m\u001b[1;32m      2\u001b[0m \u001b[0mElectricCar\u001b[0m \u001b[0;34m=\u001b[0m \u001b[0mnamedtuple\u001b[0m\u001b[0;34m(\u001b[0m\u001b[0;34m'ElectricCar'\u001b[0m\u001b[0;34m,\u001b[0m \u001b[0mCar\u001b[0m\u001b[0;34m.\u001b[0m\u001b[0m_fields\u001b[0m \u001b[0;34m+\u001b[0m \u001b[0;34m(\u001b[0m\u001b[0;34m'charge'\u001b[0m\u001b[0;34m,\u001b[0m\u001b[0;34m)\u001b[0m\u001b[0;34m)\u001b[0m\u001b[0;34m\u001b[0m\u001b[0;34m\u001b[0m\u001b[0m\n\u001b[1;32m      3\u001b[0m \u001b[0;34m\u001b[0m\u001b[0m\n\u001b[1;32m      4\u001b[0m \u001b[0mElectricCar\u001b[0m\u001b[0;34m(\u001b[0m\u001b[0;34m'red'\u001b[0m\u001b[0;34m,\u001b[0m \u001b[0;36m1234\u001b[0m\u001b[0;34m,\u001b[0m \u001b[0;36m45.0\u001b[0m\u001b[0;34m)\u001b[0m\u001b[0;34m\u001b[0m\u001b[0;34m\u001b[0m\u001b[0m\n",
      "\u001b[0;31mNameError\u001b[0m: name 'namedtuple' is not defined"
     ]
    }
   ],
   "source": [
    "Car = namedtuple('Car', 'color mileage')\n",
    "ElectricCar = namedtuple('ElectricCar', Car._fields + ('charge',))\n",
    "\n",
    "ElectricCar('red', 1234, 45.0)"
   ]
  },
  {
   "cell_type": "markdown",
   "metadata": {},
   "source": [
    "##### Function: _asdict()"
   ]
  },
  {
   "cell_type": "code",
   "execution_count": null,
   "metadata": {},
   "outputs": [],
   "source": [
    "import json\n",
    "\n",
    "print(my_car._asdict())\n",
    "\n",
    "# avoid typos when generating JSON\n",
    "json.dumps(my_car._asdict())"
   ]
  },
  {
   "cell_type": "markdown",
   "metadata": {},
   "source": [
    "##### Function: _replace()"
   ]
  },
  {
   "cell_type": "code",
   "execution_count": null,
   "metadata": {},
   "outputs": [],
   "source": [
    "my_car._replace(color='blue')"
   ]
  },
  {
   "cell_type": "markdown",
   "metadata": {},
   "source": [
    "##### Function: _make()"
   ]
  },
  {
   "cell_type": "code",
   "execution_count": null,
   "metadata": {},
   "outputs": [],
   "source": [
    "Car._make(['red', 999])"
   ]
  },
  {
   "cell_type": "markdown",
   "metadata": {},
   "source": [
    "## Function: OrderedDict()\n",
    "\n",
    "A dictionary subclass that keeps the key-value pairs ordered according to when the keys are inserted.\n",
    "\n",
    "Sometimes you need your dictionaries to remember the order in which key-value pairs are inserted.\n",
    "\n",
    "Python’s regular dictionaries were unordered data structures for years."
   ]
  },
  {
   "cell_type": "code",
   "execution_count": null,
   "metadata": {},
   "outputs": [],
   "source": [
    "# In this example, you create an empty ordered dictionary by instantiating 'OrderedDict' without arguments.\n",
    "# Next, you add key-value pairs to the dictionary as you would with a regular dictionary.\n",
    "from collections import OrderedDict\n",
    "\n",
    "life_stages = OrderedDict()\n",
    "\n",
    "life_stages[\"childhood\"] = \"0-9\"\n",
    "life_stages[\"adolescence\"] = \"9-18\"\n",
    "life_stages[\"adulthood\"] = \"18-65\"\n",
    "life_stages[\"old\"] = \"+65\"\n",
    "\n",
    "for stage, years in life_stages.items():\n",
    "    print(f\"{stage}: {years}\")"
   ]
  },
  {
   "cell_type": "code",
   "execution_count": null,
   "metadata": {},
   "outputs": [],
   "source": [
    "from collections import OrderedDict\n",
    "\n",
    "letters = OrderedDict(b=2, d=4, a=1, c=3)\n",
    "print(letters)\n",
    "\n",
    "# Move b to the right end\n",
    "letters.move_to_end(\"b\")\n",
    "print(letters)\n",
    "\n",
    "# Move b to the left end\n",
    "letters.move_to_end(\"b\", last=False)\n",
    "print(letters)\n",
    "\n",
    "# Sort letters by key\n",
    "for key in sorted(letters):\n",
    "    letters.move_to_end(key)\n",
    "\n",
    "print(letters)"
   ]
  },
  {
   "cell_type": "code",
   "execution_count": null,
   "metadata": {},
   "outputs": [],
   "source": [
    "# Another important difference between OrderedDict and a regular dictionary is how they compare for equality:\n",
    "from collections import OrderedDict\n",
    "\n",
    "# Regular dictionaries compare the content only\n",
    "letters_0 = dict(a=1, b=2, c=3, d=4)\n",
    "letters_1 = dict(b=2, a=1, d=4, c=3)\n",
    "print(letters_0 == letters_1)\n",
    "\n",
    "# Ordered dictionaries compare content and order\n",
    "letters_0 = OrderedDict(a=1, b=2, c=3, d=4)\n",
    "letters_1 = OrderedDict(b=2, a=1, d=4, c=3)\n",
    "print(letters_0 == letters_1)\n",
    "\n",
    "letters_2 = OrderedDict(a=1, b=2, c=3, d=4)\n",
    "print(letters_0 == letters_2)"
   ]
  },
  {
   "cell_type": "markdown",
   "metadata": {},
   "source": [
    "## Function: Counter()\n",
    "\n",
    "A dictionary subclass that supports convenient counting of unique items in a sequence or iterable.\n",
    "\n",
    "Counting objects is a common operation in programming. Say you need to count how many times a given item appears in a list or iterable.\n",
    "\n",
    "If your list is short, then counting its items can be straightforward and quick.\n",
    "\n",
    "If you have a long list, then counting the items will be more challenging."
   ]
  },
  {
   "cell_type": "code",
   "execution_count": null,
   "metadata": {},
   "outputs": [],
   "source": [
    "word = \"mississippi\"\n",
    "counter = {}\n",
    "\n",
    "for letter in word:\n",
    "    if letter not in counter:\n",
    "        counter[letter] = 0\n",
    "    counter[letter] += 1\n",
    "\n",
    "print(counter)"
   ]
  },
  {
   "cell_type": "code",
   "execution_count": null,
   "metadata": {},
   "outputs": [],
   "source": [
    "from collections import defaultdict\n",
    "\n",
    "counter = defaultdict(int)\n",
    "\n",
    "for letter in \"mississippi\":\n",
    "    counter[letter] += 1\n",
    "\n",
    "print(counter)"
   ]
  },
  {
   "cell_type": "code",
   "execution_count": null,
   "metadata": {},
   "outputs": [],
   "source": [
    "from collections import Counter\n",
    "\n",
    "# A single line of code and you’re done.\n",
    "print(Counter(\"mississippi\"))"
   ]
  },
  {
   "cell_type": "code",
   "execution_count": null,
   "metadata": {},
   "outputs": [],
   "source": [
    "# your objects need to be hashable\n",
    "\n",
    "from collections import Counter\n",
    "\n",
    "my_list = [1, 1, 2, 3, 3, 3, 4]\n",
    "print(Counter(my_list))\n",
    "\n",
    "my_tuple = ([1], [1])\n",
    "print(Counter(my_tuple))"
   ]
  },
  {
   "cell_type": "code",
   "execution_count": null,
   "metadata": {},
   "outputs": [],
   "source": [
    "from collections import Counter\n",
    "\n",
    "letters = Counter(\"mississippi\")\n",
    "print(letters)\n",
    "\n",
    "# Update the counts of m and i\n",
    "letters.update(m=3, i=4)\n",
    "print(letters)\n",
    "\n",
    "# Add a new key-count pair\n",
    "letters.update({\"a\": 2})\n",
    "print(letters)\n",
    "\n",
    "# Update with another counter\n",
    "letters.update(Counter([\"s\", \"s\", \"p\"]))\n",
    "print(letters)"
   ]
  },
  {
   "cell_type": "code",
   "execution_count": null,
   "metadata": {},
   "outputs": [],
   "source": [
    "# Another difference between Counter and dict is that accessing a missing key returns 0 instead of raising a KeyError:\n",
    "\n",
    "from collections import Counter\n",
    "\n",
    "letters = Counter(\"mississippi\")\n",
    "print(letters[\"a\"])"
   ]
  },
  {
   "cell_type": "code",
   "execution_count": null,
   "metadata": {},
   "outputs": [],
   "source": [
    "from collections import Counter\n",
    "\n",
    "multiset = Counter({1, 1, 2, 3, 3, 3, 4, 4})\n",
    "print(multiset)\n",
    "\n",
    "print(multiset.keys() == {1, 2, 3, 4})"
   ]
  },
  {
   "cell_type": "code",
   "execution_count": null,
   "metadata": {},
   "outputs": [],
   "source": [
    "from collections import Counter\n",
    "\n",
    "inventory = Counter(dogs=23, cats=14, pythons=7)\n",
    "\n",
    "adopted = Counter(dogs=2, cats=5, pythons=1)\n",
    "inventory.subtract(adopted)\n",
    "print(inventory)\n",
    "\n",
    "new_pets = {\"dogs\": 4, \"cats\": 1}\n",
    "inventory.update(new_pets)\n",
    "print(inventory)\n",
    "\n",
    "inventory -= Counter(dogs=2, cats=3, pythons=1)\n",
    "print(inventory)\n",
    "\n",
    "new_pets = {\"dogs\": 4, \"pythons\": 2}\n",
    "inventory += new_pets\n",
    "print(inventory)"
   ]
  },
  {
   "cell_type": "markdown",
   "metadata": {},
   "source": [
    "## Function: ChainMap()\n",
    "\n",
    "A dictionary-like class that allows treating a number of mappings as a single dictionary object."
   ]
  },
  {
   "cell_type": "code",
   "execution_count": null,
   "metadata": {},
   "outputs": [],
   "source": [
    "# ChainMap allows you to define the appropriate priority for the application’s proxy configuration.\n",
    "from collections import ChainMap\n",
    "\n",
    "cmd_proxy = {}  # The user doesn't provide a proxy\n",
    "local_proxy = {\"proxy\": \"proxy.local.com\"}\n",
    "global_proxy = {\"proxy\": \"proxy.global.com\"}\n",
    "\n",
    "config = ChainMap(cmd_proxy, local_proxy, global_proxy)\n",
    "print(config[\"proxy\"])"
   ]
  },
  {
   "cell_type": "code",
   "execution_count": 6,
   "metadata": {},
   "outputs": [
    {
     "name": "stdout",
     "output_type": "stream",
     "text": [
      "ChainMap({'one': 1, 'two': 2}, {'a': 'A', 'b': 'B'})\n",
      "[{'one': 1, 'two': 2}, {'a': 'A', 'b': 'B'}]\n"
     ]
    }
   ],
   "source": [
    "# .maps public attribute that holds the internal list of mappings\n",
    "from collections import ChainMap\n",
    "\n",
    "numbers = {\"one\": 1, \"two\": 2}\n",
    "letters = {\"a\": \"A\", \"b\": \"B\"}\n",
    "\n",
    "alpha_nums = ChainMap(numbers, letters)\n",
    "print(alpha_nums)\n",
    "# print(list(alpha_nums))\n",
    "\n",
    "print(alpha_nums.maps)"
   ]
  },
  {
   "cell_type": "code",
   "execution_count": 7,
   "metadata": {},
   "outputs": [
    {
     "name": "stdout",
     "output_type": "stream",
     "text": [
      "ChainMap({'name': 'Jane', 'age': 31}, {'name': 'John', 'age': 35})\n",
      "{'name': 'Mike', 'age': 0}\n",
      "{'name': 'Jane', 'age': 31}\n",
      "{'name': 'John', 'age': 35}\n",
      "\n",
      "ChainMap({'name': 'Jane', 'age': 31}, {'name': 'John', 'age': 35})\n"
     ]
    }
   ],
   "source": [
    "# Additionally, ChainMap provides a .new_child() method and a .parents property\n",
    "\n",
    "from collections import ChainMap\n",
    "\n",
    "dad = {\"name\": \"John\", \"age\": 35}\n",
    "mom = {\"name\": \"Jane\", \"age\": 31}\n",
    "family = ChainMap(mom, dad)\n",
    "print(family)\n",
    "\n",
    "son = {\"name\": \"Mike\", \"age\": 0}\n",
    "family = family.new_child(son)\n",
    "\n",
    "for person in family.maps:\n",
    "    print(person)\n",
    "\n",
    "print()\n",
    "\n",
    "print(family.parents)"
   ]
  },
  {
   "cell_type": "code",
   "execution_count": 8,
   "metadata": {},
   "outputs": [
    {
     "name": "stdout",
     "output_type": "stream",
     "text": [
      "ChainMap({'one': 1, 'two': 2}, {'a': 'A', 'b': 'B'})\n",
      "ChainMap({'one': 1, 'two': 2, 'c': 'C'}, {'a': 'A', 'b': 'B'})\n",
      "2\n",
      "ChainMap({'one': 1, 'c': 'C'}, {'a': 'A', 'b': 'B'})\n",
      "ChainMap({}, {'a': 'A', 'b': 'B'})\n"
     ]
    }
   ],
   "source": [
    "# A final feature to highlight in ChainMap is that mutating operations, such as:\n",
    "# - updating keys\n",
    "# - adding new keys\n",
    "# - deleting existing keys\n",
    "# - popping keys\n",
    "# - clearing the dictionary\n",
    "# act on the first mapping in the internal list of mappings:\n",
    "\n",
    "from collections import ChainMap\n",
    "\n",
    "numbers = {\"one\": 1, \"two\": 2}\n",
    "letters = {\"a\": \"A\", \"b\": \"B\"}\n",
    "\n",
    "alpha_nums = ChainMap(numbers, letters)\n",
    "print(alpha_nums)\n",
    "\n",
    "# Add a new key-value pair\n",
    "alpha_nums[\"c\"] = \"C\"\n",
    "print(alpha_nums)\n",
    "\n",
    "# Pop a key that exists in the first dictionary\n",
    "print(alpha_nums.pop(\"two\"))\n",
    "print(alpha_nums)\n",
    "\n",
    "# Delete keys that don't exist in the first dict but do in others\n",
    "# del alpha_nums[\"a\"]\n",
    "\n",
    "# Clear the dictionary\n",
    "alpha_nums.clear()\n",
    "print(alpha_nums)"
   ]
  },
  {
   "cell_type": "markdown",
   "metadata": {},
   "source": [
    "## collections: three base classes\n",
    "\n",
    "Besides these specialized data types, 'collections' also provides three base classes that facilitate the creations of custom lists, dictionaries, and strings.\n",
    "\n",
    "> Class: UserDict\n",
    "\n",
    "A wrapper class around a dictionary object that facilitates subclassing dict.\n",
    "\n",
    "> Class: UserList\n",
    "\n",
    "A wrapper class around a list object that facilitates subclassing list.\n",
    "\n",
    "> Class: UserString\n",
    "\n",
    "A wrapper class around a string object that facilitates subclassing string.\n",
    "\n",
    "Built-in types were designed and implemented with the open-closed principle in mind. This means that they’re open for extension but closed for modification.\n",
    "\n",
    "Allowing modifications on the core features of these classes can potentially break their invariants. So, Python core developers decided to protect them from modifications."
   ]
  },
  {
   "cell_type": "code",
   "execution_count": 9,
   "metadata": {},
   "outputs": [
    {
     "name": "stdout",
     "output_type": "stream",
     "text": [
      "{'FIRST': 1, 'SECOND': 2, 'third': 3, 'FOURTH': 4}\n",
      "True\n"
     ]
    }
   ],
   "source": [
    "# create a dictionary that automatically lowercases the keys when you insert them.\n",
    "class LowerDict(dict):\n",
    "    def __setitem__(self, key, value):\n",
    "        key = key.lower()\n",
    "        super().__setitem__(key, value)\n",
    "\n",
    "ordinals = LowerDict({\"FIRST\": 1, \"SECOND\": 2})\n",
    "ordinals[\"THIRD\"] = 3\n",
    "ordinals.update({\"FOURTH\": 4})\n",
    "\n",
    "print(ordinals)\n",
    "print(isinstance(ordinals, dict))\n",
    "\n",
    "# This dictionary works correctly when you insert new keys using dictionary-style assignment with square brackets ([]).\n",
    "# However, it doesn’t work when you pass an initial dictionary to the class constructor or when you use .update(). \n",
    "\n",
    "# This means that you would need to override .__init__(), .update(), and probably some other methods \n",
    "# for your custom dictionary to work correctly."
   ]
  },
  {
   "cell_type": "code",
   "execution_count": 10,
   "metadata": {},
   "outputs": [
    {
     "name": "stdout",
     "output_type": "stream",
     "text": [
      "{'first': 1, 'second': 2, 'third': 3, 'fourth': 4}\n",
      "False\n"
     ]
    }
   ],
   "source": [
    "from collections import UserDict\n",
    "\n",
    "class LowerDict(UserDict):\n",
    "    def __setitem__(self, key, value):\n",
    "        key = key.lower()\n",
    "        super().__setitem__(key, value)\n",
    "\n",
    "ordinals = LowerDict({\"FIRST\": 1, \"SECOND\": 2})\n",
    "ordinals[\"THIRD\"] = 3\n",
    "ordinals.update({\"FOURTH\": 4})\n",
    "\n",
    "print(ordinals)\n",
    "print(isinstance(ordinals, dict))\n",
    "\n",
    "# Your custom dictionary now converts all the new keys into lowercase letters before \n",
    "# inserting them into the dictionary.\n",
    "\n",
    "# Note that since you don’t inherit from dict directly,\n",
    "# your class doesn’t return instances of dict as in the example above."
   ]
  },
  {
   "cell_type": "markdown",
   "metadata": {},
   "source": [
    "## Conclusion\n",
    "\n",
    "The need for these wrapper classes was partially eclipsed by the ability to subclass the corresponding standard built-in data types.\n",
    "\n",
    "However, sometimes using these classes is safer and less error-prone than using standard data types."
   ]
  },
  {
   "cell_type": "markdown",
   "metadata": {},
   "source": [
    "### References\n",
    "<ol>\n",
    "<li> <a href=\"https://realpython.com/python-collections-module/\">Python's collections: A Buffet of Specialized Data Types</a> </li>\n",
    "</ol>"
   ]
  }
 ],
 "metadata": {
  "kernelspec": {
   "display_name": "Python 3 (ipykernel)",
   "language": "python",
   "name": "python3"
  },
  "language_info": {
   "codemirror_mode": {
    "name": "ipython",
    "version": 3
   },
   "file_extension": ".py",
   "mimetype": "text/x-python",
   "name": "python",
   "nbconvert_exporter": "python",
   "pygments_lexer": "ipython3",
   "version": "3.8.10"
  }
 },
 "nbformat": 4,
 "nbformat_minor": 2
}
