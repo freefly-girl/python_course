{
 "cells": [
  {
   "cell_type": "markdown",
   "metadata": {},
   "source": [
    "# Lecture 9: Stack, Queue and Linked List"
   ]
  },
  {
   "cell_type": "markdown",
   "metadata": {},
   "source": [
    "## Data structure: Stack\n",
    "\n",
    "A stack is a collection of objects that are inserted and removed according to the **Last-In, First-Out (LIFO)** principle.\n",
    "\n",
    "A user may insert objects into a stack at any time, but may only access or remove the most recently inserted object that remains.\n",
    "\n",
    "They are used in many applications:\n",
    "\n",
    "> Example 1: Internet Web browsers store the addresses of recently visited sites in a stack. Each time a user visits a new site, that site’s address is “pushed” onto the stack of addresses. The browser then allows the user to “pop” back to previously visited sites using the “back” button.\n",
    "\n",
    "> Example 2: Text editors usually provide an “undo” mechanism that cancels recent editing operations and reverts to former states of a document. This undo operation can be accomplished by keeping text changes in a stack.\n",
    "\n",
    "Stack supports the following two methods:\n",
    "\n",
    "> push(): Add element to the top of stack.\n",
    "\n",
    "> pop( ): Remove and return the top element from the stack; an error occurs if the stack is empty.\n",
    "\n",
    "Additionally (for convenience):\n",
    "\n",
    "> top( ): Return a reference to the top element of stack, without removing it; an error occurs if the stack is empty.\n",
    "\n",
    "> is__empty( ): Return True if stack does not contain any elements.\n",
    "\n",
    "> len(): Return the number of elements in stack;"
   ]
  },
  {
   "cell_type": "code",
   "execution_count": 1,
   "metadata": {},
   "outputs": [],
   "source": [
    "# Although a programmer could directly use the list class in place of a formal stack class,\n",
    "# lists also include behaviors that would break the abstraction that the stack represents.\n",
    "\n",
    "# Stack Method     Realization with Python list\n",
    "# push()           append()\n",
    "# pop()            pop()\n",
    "# top()            L[−1]\n",
    "# is empty()       len(L) == 0\n",
    "# len()            len(L)"
   ]
  },
  {
   "cell_type": "code",
   "execution_count": 2,
   "metadata": {},
   "outputs": [],
   "source": [
    "# The space usage for a stack is O(n).\n",
    "class Stack:\n",
    "    \n",
    "    def __init__(self):\n",
    "        self._data = []\n",
    "\n",
    "    def __len__(self):\n",
    "        \"\"\"Return the number of elements in the stack.\n",
    "        Time Complexity: O(1)\n",
    "        \"\"\"\n",
    "        return len(self._data)\n",
    "\n",
    "    def is_empty(self):\n",
    "        \"\"\"Return True if the stack is empty.\n",
    "        Time Complexity: O(1)\n",
    "        \"\"\"\n",
    "        return len(self._data) == 0\n",
    "\n",
    "    def push(self, e):\n",
    "        \"\"\"Add element e to the top of the stack.\n",
    "        Time Complexity: O(1)\n",
    "        \"\"\"\n",
    "        self._data.append(e)  # new item stored at end of list\n",
    "\n",
    "    def top(self):\n",
    "        \"\"\"Return (but do not remove) the element at the top of the stack.\n",
    "        Raise exception if the stack is empty.\n",
    "        Time Complexity: O(1)\n",
    "        \"\"\"\n",
    "        if self.is_empty():\n",
    "            raise Exception(\"Stack is empty\")\n",
    "        return self._data[-1]  # the last item in the list\n",
    "\n",
    "    def pop(self):\n",
    "        \"\"\"Remove and return the element from the top of the stack (i.e., LIFO).\n",
    "        Raise exception if the stack is empty.\n",
    "        Time Complexity: O(1)\n",
    "        \"\"\"\n",
    "        if self.is_empty():\n",
    "            raise Exception(\"Stack is empty\")\n",
    "        return self._data.pop()  # remove last item from list\n"
   ]
  },
  {
   "cell_type": "code",
   "execution_count": 3,
   "metadata": {},
   "outputs": [
    {
     "name": "stdout",
     "output_type": "stream",
     "text": [
      "2\n",
      "False\n",
      "True\n"
     ]
    }
   ],
   "source": [
    "# example (using custom implementation)\n",
    "stack = Stack()\n",
    "\n",
    "stack.push(5)\n",
    "stack.push(3)\n",
    "print(len(stack))\n",
    "\n",
    "stack.pop()\n",
    "print(stack.is_empty())\n",
    "\n",
    "stack.pop()\n",
    "print(stack.is_empty())\n",
    "# stack.pop()"
   ]
  },
  {
   "cell_type": "markdown",
   "metadata": {},
   "source": [
    "### Example 1: Reversing String Using a Stack"
   ]
  },
  {
   "cell_type": "code",
   "execution_count": 4,
   "metadata": {},
   "outputs": [],
   "source": [
    "def reverse_string(string):\n",
    "    stack = Stack()\n",
    "    for char in string:\n",
    "        stack.push(char)\n",
    "    \n",
    "    reversed_string = \"\"\n",
    "    while len(stack):\n",
    "        reversed_string += stack.pop()\n",
    "    \n",
    "    return reversed_string"
   ]
  },
  {
   "cell_type": "code",
   "execution_count": 5,
   "metadata": {},
   "outputs": [
    {
     "name": "stdout",
     "output_type": "stream",
     "text": [
      "olleH\n"
     ]
    }
   ],
   "source": [
    "print(reverse_string(\"Hello\"))"
   ]
  },
  {
   "cell_type": "markdown",
   "metadata": {},
   "source": [
    "### Example 2: Matching Parentheses and HTML Tags\n",
    "\n",
    "Here we'll explore two related applications of stacks, both of which involve testing for pairs of matching delimiters."
   ]
  },
  {
   "cell_type": "markdown",
   "metadata": {},
   "source": [
    "#### 1. An Algorithm for Matching Delimiters\n",
    "\n",
    "An important task when processing arithmetic expressions is to make sure their delimiting symbols match up correctly."
   ]
  },
  {
   "cell_type": "code",
   "execution_count": 6,
   "metadata": {},
   "outputs": [],
   "source": [
    "def is_matched(expression):\n",
    "    \"\"\"Return True if all delimiters are properly match; False otherwise.\n",
    "    \"\"\"\n",
    "    lefty, righty = \"({[\", \")}]\"\n",
    "    \n",
    "    stack = Stack()\n",
    "    for char in expression:\n",
    "        if char in lefty:\n",
    "            stack.push(char)\n",
    "        elif char in righty:\n",
    "            if stack.is_empty():\n",
    "                return False\n",
    "            if righty.index(char) != lefty.index(stack.pop()):\n",
    "                return False\n",
    "    \n",
    "    return stack.is_empty()"
   ]
  },
  {
   "cell_type": "code",
   "execution_count": 7,
   "metadata": {},
   "outputs": [
    {
     "name": "stdout",
     "output_type": "stream",
     "text": [
      "True\n",
      "False\n",
      "False\n"
     ]
    }
   ],
   "source": [
    "# check the function: is_matched()\n",
    "expression = \"[(5 + x) - (y + z)]\"\n",
    "print(is_matched(expression))\n",
    "\n",
    "expression = \"[(5 + x) - (y + z)\"\n",
    "print(is_matched(expression))\n",
    "\n",
    "expression = \"[(5 + x) - (y + z)}\"\n",
    "print(is_matched(expression))"
   ]
  },
  {
   "cell_type": "markdown",
   "metadata": {},
   "source": [
    "#### 2. Matching Tags in a Markup Language\n",
    "\n",
    "Another application of matching delimiters is in the validation of markup languages such as HTML or XML.\n",
    "\n",
    "> HTML is the standard format for hyperlinked documents on the Internet\n",
    "\n",
    "> XML is an extensible markup language used for a variety of structured data sets."
   ]
  },
  {
   "cell_type": "code",
   "execution_count": 8,
   "metadata": {},
   "outputs": [],
   "source": [
    "html_document = \\\n",
    "\"\"\"<body>\n",
    "<center>\n",
    "<h1> The Little Boat </h1>\n",
    "</center>\n",
    "<p> The storm tossed the little\n",
    "boat like a cheap sneaker in an\n",
    "old washing machine. The three\n",
    "drunken fishermen were used to\n",
    "such treatment, of course, but\n",
    "not the tree salesman, who even as\n",
    "a stowaway now felt that he\n",
    "had overpaid for the voyage. </p>\n",
    "<ol>\n",
    "<li> Will the salesman die? </li>\n",
    "<li> What color is the boat? </li>\n",
    "<li> And what about Naomi? </li>\n",
    "</ol>\n",
    "</body>\"\"\""
   ]
  },
  {
   "cell_type": "code",
   "execution_count": 9,
   "metadata": {},
   "outputs": [],
   "source": [
    "def is_matched_html(html_string):\n",
    "    \"\"\"Return True if all HTML tags are properly match; False otherwise.\n",
    "    \"\"\"\n",
    "    \n",
    "    stack = Stack()\n",
    "    j = html_string.find(\"<\")  # find first ’<’ character (if any)\n",
    "    while j != -1:\n",
    "        k = html_string.find(\">\", j + 1)  # find next ’>’ character\n",
    "        if k == -1:\n",
    "            return False\n",
    "        \n",
    "        tag = html_string[j + 1:k]  # strip away < >\n",
    "        if not tag.startswith(\"/\"):\n",
    "            stack.push(tag)\n",
    "        else:\n",
    "            if stack.is_empty():\n",
    "                return False  # nothing to match with\n",
    "            \n",
    "            if tag[1:] != stack.pop():\n",
    "                return False  # mismatched delimiter\n",
    "        \n",
    "        j = html_string.find(\"<\", k + 1) # find next ’<’ character (if any)\n",
    "        \n",
    "    return stack.is_empty()  # were all opening tags matched?"
   ]
  },
  {
   "cell_type": "code",
   "execution_count": 10,
   "metadata": {},
   "outputs": [
    {
     "data": {
      "text/plain": [
       "True"
      ]
     },
     "execution_count": 10,
     "metadata": {},
     "output_type": "execute_result"
    }
   ],
   "source": [
    "# check the function: is_matched_html()\n",
    "is_matched_html(html_document)"
   ]
  },
  {
   "cell_type": "markdown",
   "metadata": {},
   "source": [
    "### Using Deque from Python's Collections as a Stack"
   ]
  },
  {
   "cell_type": "code",
   "execution_count": 11,
   "metadata": {},
   "outputs": [
    {
     "name": "stdout",
     "output_type": "stream",
     "text": [
      "2\n",
      "False\n",
      "True\n"
     ]
    }
   ],
   "source": [
    "# example (using python's collections)\n",
    "from collections import deque\n",
    "\n",
    "stack = deque()\n",
    "\n",
    "stack.append(5)\n",
    "stack.append(3)\n",
    "print(len(stack))\n",
    "\n",
    "stack.pop()\n",
    "print(len(stack) == 0)\n",
    "\n",
    "stack.pop()\n",
    "print(len(stack) == 0)\n",
    "# stack.pop()"
   ]
  },
  {
   "cell_type": "markdown",
   "metadata": {},
   "source": [
    "# Data structure: Queue\n",
    "\n",
    "Another fundamental data structure is the queue.\n",
    "\n",
    "It is a close “cousin” of the stack, as a queue is a collection of objects that are inserted and removed according to the **first-in, first-out (FIFO)** principle.\n",
    "\n",
    "That is, elements can be inserted at any time, but only the element that has been in the queue the longest can be next removed.\n",
    "\n",
    "Real-world examples of a first-in, first-out queue:\n",
    "\n",
    "> Example 1: People waiting in line to purchase tickets;\n",
    "\n",
    "> Example 2: Phone calls being routed to a customer service center.\n",
    "\n",
    "Queue supports the following two fundamental methods:\n",
    "\n",
    "> enqueue(): Add element to the back of queue.\n",
    "\n",
    "> dequeue(): Remove and return the first element from queue; an error occurs if the queue is empty.\n",
    "\n",
    "The queue also includes the following supporting methods:\n",
    "\n",
    "> first(): Return a reference to the element at the front of queue, without removing it; an error occurs if the queue is empty.\n",
    "\n",
    "> is__empty(): Return True if queue does not contain any elements.\n",
    "\n",
    "> len(): Return the number of elements in queue."
   ]
  },
  {
   "cell_type": "code",
   "execution_count": 12,
   "metadata": {},
   "outputs": [],
   "source": [
    "# Analyzing the Array-Based Queue Implementation\n",
    "# The space usage is O(n), where n is the current number of elements in the queue.\n",
    "\n",
    "# Operation     Running Time\n",
    "# enqueue()     O(1)\n",
    "# dequeue()     O(1)\n",
    "# first()       O(1)\n",
    "# is_empty()    O(1)\n",
    "# len()         O(1)"
   ]
  },
  {
   "cell_type": "code",
   "execution_count": 13,
   "metadata": {},
   "outputs": [],
   "source": [
    "class Queue:\n",
    "    DEFAULT_CAPACITY = 2\n",
    "\n",
    "    def __init__(self):\n",
    "        \"\"\"Create an empty queue.\"\"\"\n",
    "        self._data = [None] * Queue.DEFAULT_CAPACITY\n",
    "        self._size = 0   # is an integer representing the current number of elements stored in the queue\n",
    "        self._front = 0  # is an integer that represents the index within data of the first element of the queue\n",
    "\n",
    "    def __len__(self):\n",
    "        \"\"\"Return the number of elements in the queue.\n",
    "        Time Complexity: O(1)\n",
    "        \"\"\"\n",
    "        return self._size\n",
    "\n",
    "    def is_empty(self):\n",
    "        \"\"\"Return True if the queue is empty.\n",
    "        Time Complexity: O(1)\n",
    "        \"\"\"\n",
    "        return self._size == 0\n",
    "\n",
    "    def first(self):\n",
    "        \"\"\"Return (but do not remove) the element at the front of the queue.\n",
    "        Raise Empty exception if the queue is empty.\n",
    "        Time Complexity: O(1)\n",
    "        \"\"\"\n",
    "        if self.is_empty():\n",
    "            raise Exception(\"Queue is empty\")\n",
    "        \n",
    "        return self._data[self._front]\n",
    "\n",
    "    def dequeue(self):\n",
    "        \"\"\"Remove and return the first element of the queue.\n",
    "        Raise exception if the queue is empty.\n",
    "        Time Complexity: O(1)\n",
    "        \"\"\"\n",
    "        if self.is_empty():\n",
    "            raise Exception(\"Queue is empty\")\n",
    "        \n",
    "        answer = self._data[self._front]\n",
    "        self._data[self._front] = None  # help garbage collection\n",
    "        self._front = (self._front + 1) % len(self._data)\n",
    "        self._size -= 1\n",
    "        return answer\n",
    "    \n",
    "    def enqueue(self, e):\n",
    "        \"\"\"Add an element to the back of queue.\n",
    "        Time Complexity: O(1)\n",
    "        \"\"\"\n",
    "        if self._size == len(self._data):\n",
    "            self._resize(2 * len(self._data))  # double the array size\n",
    "        \n",
    "        avail = (self._front + self._size) % len(self._data)\n",
    "        self._data[avail] = e\n",
    "        self._size += 1\n",
    "        \n",
    "    def _resize(self, cap):\n",
    "        \"\"\"Resize to a new list of capacity >= len(self)\n",
    "        \"\"\"\n",
    "        old = self._data\n",
    "        self._data = [None] * cap  # allocate list with new capacity\n",
    "        walk = self._front\n",
    "        for k in range(self._size):\n",
    "            self._data[k] = old[walk]\n",
    "            walk = (1 + walk) % len(old)\n",
    "        self._front = 0"
   ]
  },
  {
   "cell_type": "code",
   "execution_count": 14,
   "metadata": {},
   "outputs": [
    {
     "name": "stdout",
     "output_type": "stream",
     "text": [
      "False\n",
      "\n",
      "False\n",
      "\n",
      "False\n"
     ]
    }
   ],
   "source": [
    "# example (using custom implementation)\n",
    "queue = Queue()\n",
    "\n",
    "queue.enqueue(5)\n",
    "queue.enqueue(3)\n",
    "queue.enqueue(2)\n",
    "\n",
    "print(queue.is_empty())\n",
    "print()\n",
    "\n",
    "queue.dequeue()\n",
    "print(queue.is_empty())\n",
    "print()\n",
    "\n",
    "queue.dequeue()\n",
    "print(queue.is_empty())"
   ]
  },
  {
   "cell_type": "code",
   "execution_count": 15,
   "metadata": {},
   "outputs": [
    {
     "name": "stdout",
     "output_type": "stream",
     "text": [
      "deque([5, 3])\n",
      "False\n",
      "\n",
      "deque([3])\n",
      "False\n",
      "\n",
      "True\n"
     ]
    }
   ],
   "source": [
    "# example (using python's collections)\n",
    "from collections import deque\n",
    "\n",
    "queue = deque()\n",
    "\n",
    "queue.append(5)\n",
    "queue.append(3)\n",
    "print(queue)\n",
    "print(len(queue) == 0)\n",
    "print()\n",
    "\n",
    "queue.popleft()\n",
    "print(queue)\n",
    "print(len(queue) == 0)\n",
    "print()\n",
    "\n",
    "queue.popleft()\n",
    "print(len(queue) == 0)\n",
    "# queue.popleft()"
   ]
  },
  {
   "cell_type": "markdown",
   "metadata": {},
   "source": [
    "# Data structure: Linked List\n",
    "\n",
    "A singly linked list, in its simplest form, is a collection of nodes that collectively form a linear sequence.\n",
    "\n",
    "Each node stores a reference to an object that is an element of the sequence, as well as a reference to the next node of the list."
   ]
  },
  {
   "cell_type": "code",
   "execution_count": 16,
   "metadata": {},
   "outputs": [],
   "source": [
    "class LinkedListNode:\n",
    "    def __init__(self, val=0, next=None):\n",
    "        self.val = val\n",
    "        self.next = next"
   ]
  },
  {
   "cell_type": "code",
   "execution_count": 17,
   "metadata": {},
   "outputs": [
    {
     "name": "stdout",
     "output_type": "stream",
     "text": [
      "1\n",
      "2\n",
      "3\n",
      "4\n",
      "5\n"
     ]
    }
   ],
   "source": [
    "# simple example\n",
    "head = LinkedListNode(1, LinkedListNode(2, LinkedListNode(3, LinkedListNode(4, LinkedListNode(5)))))\n",
    "\n",
    "while head:\n",
    "    print(head.val)\n",
    "    head = head.next"
   ]
  },
  {
   "cell_type": "code",
   "execution_count": 18,
   "metadata": {},
   "outputs": [],
   "source": [
    "\"\"\"Exercise 1: Remove Duplicates from Sorted Linked List (Coding Interview: Microsoft)\n",
    "Description: Given the head of a sorted linked list, delete all duplicates such that each element appears only once.\n",
    "             Return the linked list sorted as well.\n",
    "\n",
    "INPUT:\n",
    "head = LinkedListNode(1, LinkedListNode(1, LinkedListNode(2, LinkedListNode(3, LinkedListNode(3)))))\n",
    "\n",
    "OUTPUT:\n",
    "LinkedListNode(1, LinkedListNode(2, LinkedListNode(3)))\n",
    "\"\"\"\n",
    "\n",
    "from typing import Optional\n",
    "\n",
    "\n",
    "class Solution:\n",
    "    def deleteDuplicates(self, head: Optional[LinkedListNode]) -> Optional[LinkedListNode]:\n",
    "        current = head\n",
    "        while current and current.next:\n",
    "            if current.val == current.next.val:\n",
    "                current.next = current.next.next\n",
    "            else:\n",
    "                current = current.next\n",
    "        return head"
   ]
  },
  {
   "cell_type": "code",
   "execution_count": 19,
   "metadata": {},
   "outputs": [
    {
     "ename": "NameError",
     "evalue": "name 'ListNode' is not defined",
     "output_type": "error",
     "traceback": [
      "\u001b[0;31m---------------------------------------------------------------------------\u001b[0m",
      "\u001b[0;31mNameError\u001b[0m                                 Traceback (most recent call last)",
      "\u001b[0;32m/var/folders/38/bgjzx19n7z50tbjs_n3vpgdw0000gn/T/ipykernel_9353/2410299164.py\u001b[0m in \u001b[0;36m<module>\u001b[0;34m\u001b[0m\n\u001b[1;32m     10\u001b[0m \"\"\"\n\u001b[1;32m     11\u001b[0m \u001b[0;34m\u001b[0m\u001b[0m\n\u001b[0;32m---> 12\u001b[0;31m \u001b[0;32mclass\u001b[0m \u001b[0mSolution\u001b[0m\u001b[0;34m:\u001b[0m\u001b[0;34m\u001b[0m\u001b[0;34m\u001b[0m\u001b[0m\n\u001b[0m\u001b[1;32m     13\u001b[0m     \u001b[0;32mdef\u001b[0m \u001b[0mmiddleNode\u001b[0m\u001b[0;34m(\u001b[0m\u001b[0mself\u001b[0m\u001b[0;34m,\u001b[0m \u001b[0mhead\u001b[0m\u001b[0;34m:\u001b[0m \u001b[0mOptional\u001b[0m\u001b[0;34m[\u001b[0m\u001b[0mListNode\u001b[0m\u001b[0;34m]\u001b[0m\u001b[0;34m)\u001b[0m \u001b[0;34m->\u001b[0m \u001b[0mOptional\u001b[0m\u001b[0;34m[\u001b[0m\u001b[0mListNode\u001b[0m\u001b[0;34m]\u001b[0m\u001b[0;34m:\u001b[0m\u001b[0;34m\u001b[0m\u001b[0;34m\u001b[0m\u001b[0m\n\u001b[1;32m     14\u001b[0m         \u001b[0;31m# add your code\u001b[0m\u001b[0;34m\u001b[0m\u001b[0;34m\u001b[0m\u001b[0;34m\u001b[0m\u001b[0m\n",
      "\u001b[0;32m/var/folders/38/bgjzx19n7z50tbjs_n3vpgdw0000gn/T/ipykernel_9353/2410299164.py\u001b[0m in \u001b[0;36mSolution\u001b[0;34m()\u001b[0m\n\u001b[1;32m     11\u001b[0m \u001b[0;34m\u001b[0m\u001b[0m\n\u001b[1;32m     12\u001b[0m \u001b[0;32mclass\u001b[0m \u001b[0mSolution\u001b[0m\u001b[0;34m:\u001b[0m\u001b[0;34m\u001b[0m\u001b[0;34m\u001b[0m\u001b[0m\n\u001b[0;32m---> 13\u001b[0;31m     \u001b[0;32mdef\u001b[0m \u001b[0mmiddleNode\u001b[0m\u001b[0;34m(\u001b[0m\u001b[0mself\u001b[0m\u001b[0;34m,\u001b[0m \u001b[0mhead\u001b[0m\u001b[0;34m:\u001b[0m \u001b[0mOptional\u001b[0m\u001b[0;34m[\u001b[0m\u001b[0mListNode\u001b[0m\u001b[0;34m]\u001b[0m\u001b[0;34m)\u001b[0m \u001b[0;34m->\u001b[0m \u001b[0mOptional\u001b[0m\u001b[0;34m[\u001b[0m\u001b[0mListNode\u001b[0m\u001b[0;34m]\u001b[0m\u001b[0;34m:\u001b[0m\u001b[0;34m\u001b[0m\u001b[0;34m\u001b[0m\u001b[0m\n\u001b[0m\u001b[1;32m     14\u001b[0m         \u001b[0;31m# add your code\u001b[0m\u001b[0;34m\u001b[0m\u001b[0;34m\u001b[0m\u001b[0;34m\u001b[0m\u001b[0m\n\u001b[1;32m     15\u001b[0m         \u001b[0;32mpass\u001b[0m\u001b[0;34m\u001b[0m\u001b[0;34m\u001b[0m\u001b[0m\n",
      "\u001b[0;31mNameError\u001b[0m: name 'ListNode' is not defined"
     ]
    }
   ],
   "source": [
    "\"\"\"Exercise 2: Middle of the Linked List (Coding Interview: Amazon, Facebook).\n",
    "Description: Given the head of a singly linked list, return the middle node of the linked list.\n",
    "             If there are two middle nodes, return the second middle node.\n",
    "             \n",
    "INPUT:\n",
    "head = LinkedListNode(1, LinkedListNode(2, LinkedListNode(3, LinkedListNode(4, LinkedListNode(5)))))\n",
    "\n",
    "OUTPUT:\n",
    "LinkedListNode(3, LinkedListNode(4, LinkedListNode(5)))\n",
    "\"\"\"\n",
    "\n",
    "class Solution:\n",
    "    def middleNode(self, head: Optional[ListNode]) -> Optional[ListNode]:\n",
    "        # add your code\n",
    "        pass"
   ]
  },
  {
   "cell_type": "code",
   "execution_count": 20,
   "metadata": {},
   "outputs": [
    {
     "ename": "NameError",
     "evalue": "name 'ListNode' is not defined",
     "output_type": "error",
     "traceback": [
      "\u001b[0;31m---------------------------------------------------------------------------\u001b[0m",
      "\u001b[0;31mNameError\u001b[0m                                 Traceback (most recent call last)",
      "\u001b[0;32m/var/folders/38/bgjzx19n7z50tbjs_n3vpgdw0000gn/T/ipykernel_9353/2821333008.py\u001b[0m in \u001b[0;36m<module>\u001b[0;34m\u001b[0m\n\u001b[1;32m     13\u001b[0m \"\"\"\n\u001b[1;32m     14\u001b[0m \u001b[0;34m\u001b[0m\u001b[0m\n\u001b[0;32m---> 15\u001b[0;31m \u001b[0;32mclass\u001b[0m \u001b[0mSolution\u001b[0m\u001b[0;34m:\u001b[0m\u001b[0;34m\u001b[0m\u001b[0;34m\u001b[0m\u001b[0m\n\u001b[0m\u001b[1;32m     16\u001b[0m     \u001b[0;32mdef\u001b[0m \u001b[0mmergeTwoLists\u001b[0m\u001b[0;34m(\u001b[0m\u001b[0mself\u001b[0m\u001b[0;34m,\u001b[0m \u001b[0mlist1\u001b[0m\u001b[0;34m:\u001b[0m \u001b[0mOptional\u001b[0m\u001b[0;34m[\u001b[0m\u001b[0mListNode\u001b[0m\u001b[0;34m]\u001b[0m\u001b[0;34m,\u001b[0m \u001b[0mlist2\u001b[0m\u001b[0;34m:\u001b[0m \u001b[0mOptional\u001b[0m\u001b[0;34m[\u001b[0m\u001b[0mListNode\u001b[0m\u001b[0;34m]\u001b[0m\u001b[0;34m)\u001b[0m \u001b[0;34m->\u001b[0m \u001b[0mOptional\u001b[0m\u001b[0;34m[\u001b[0m\u001b[0mListNode\u001b[0m\u001b[0;34m]\u001b[0m\u001b[0;34m:\u001b[0m\u001b[0;34m\u001b[0m\u001b[0;34m\u001b[0m\u001b[0m\n\u001b[1;32m     17\u001b[0m         \u001b[0;31m# add your code\u001b[0m\u001b[0;34m\u001b[0m\u001b[0;34m\u001b[0m\u001b[0;34m\u001b[0m\u001b[0m\n",
      "\u001b[0;32m/var/folders/38/bgjzx19n7z50tbjs_n3vpgdw0000gn/T/ipykernel_9353/2821333008.py\u001b[0m in \u001b[0;36mSolution\u001b[0;34m()\u001b[0m\n\u001b[1;32m     14\u001b[0m \u001b[0;34m\u001b[0m\u001b[0m\n\u001b[1;32m     15\u001b[0m \u001b[0;32mclass\u001b[0m \u001b[0mSolution\u001b[0m\u001b[0;34m:\u001b[0m\u001b[0;34m\u001b[0m\u001b[0;34m\u001b[0m\u001b[0m\n\u001b[0;32m---> 16\u001b[0;31m     \u001b[0;32mdef\u001b[0m \u001b[0mmergeTwoLists\u001b[0m\u001b[0;34m(\u001b[0m\u001b[0mself\u001b[0m\u001b[0;34m,\u001b[0m \u001b[0mlist1\u001b[0m\u001b[0;34m:\u001b[0m \u001b[0mOptional\u001b[0m\u001b[0;34m[\u001b[0m\u001b[0mListNode\u001b[0m\u001b[0;34m]\u001b[0m\u001b[0;34m,\u001b[0m \u001b[0mlist2\u001b[0m\u001b[0;34m:\u001b[0m \u001b[0mOptional\u001b[0m\u001b[0;34m[\u001b[0m\u001b[0mListNode\u001b[0m\u001b[0;34m]\u001b[0m\u001b[0;34m)\u001b[0m \u001b[0;34m->\u001b[0m \u001b[0mOptional\u001b[0m\u001b[0;34m[\u001b[0m\u001b[0mListNode\u001b[0m\u001b[0;34m]\u001b[0m\u001b[0;34m:\u001b[0m\u001b[0;34m\u001b[0m\u001b[0;34m\u001b[0m\u001b[0m\n\u001b[0m\u001b[1;32m     17\u001b[0m         \u001b[0;31m# add your code\u001b[0m\u001b[0;34m\u001b[0m\u001b[0;34m\u001b[0m\u001b[0;34m\u001b[0m\u001b[0m\n\u001b[1;32m     18\u001b[0m         \u001b[0;32mpass\u001b[0m\u001b[0;34m\u001b[0m\u001b[0;34m\u001b[0m\u001b[0m\n",
      "\u001b[0;31mNameError\u001b[0m: name 'ListNode' is not defined"
     ]
    }
   ],
   "source": [
    "\"\"\"Exercise 3: Merge Two Sorted Linked Lists (Coding Interview: Google).\n",
    "Description: You are given the heads of two sorted linked lists list1 and list2.\n",
    "             Merge the two lists in a one sorted list. \n",
    "             The list should be made by splicing together the nodes of the first two lists.\n",
    "             Return the head of the merged linked list.\n",
    "             \n",
    "INPUT:\n",
    "list1 = LinkedListNode(1, LinkedListNode(2, LinkedListNode(3)))\n",
    "list2 = LinkedListNode(1, LinkedListNode(3, LinkedListNode(4)))\n",
    "\n",
    "OUTPUT:\n",
    "LinkedListNode(1, LinkedListNode(1, LinkedListNode(2, LinkedListNode(3, LinkedListNode(4, LinkedListNode(4))))))\n",
    "\"\"\"\n",
    "\n",
    "class Solution:\n",
    "    def mergeTwoLists(self, list1: Optional[ListNode], list2: Optional[ListNode]) -> Optional[ListNode]:\n",
    "        # add your code\n",
    "        pass"
   ]
  }
 ],
 "metadata": {
  "kernelspec": {
   "display_name": "Python 3 (ipykernel)",
   "language": "python",
   "name": "python3"
  },
  "language_info": {
   "codemirror_mode": {
    "name": "ipython",
    "version": 3
   },
   "file_extension": ".py",
   "mimetype": "text/x-python",
   "name": "python",
   "nbconvert_exporter": "python",
   "pygments_lexer": "ipython3",
   "version": "3.8.10"
  }
 },
 "nbformat": 4,
 "nbformat_minor": 2
}
