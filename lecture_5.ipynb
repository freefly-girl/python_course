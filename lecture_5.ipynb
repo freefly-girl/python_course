{
 "cells": [
  {
   "cell_type": "markdown",
   "metadata": {},
   "source": [
    "# Lecture 5: Decorators\n",
    "\n",
    "> Assigning Functions to Variables\n",
    "\n",
    "> Defining Functions Inside other Functions\n",
    "\n",
    "> Passing Functions as Arguments to other Functions\n",
    "\n",
    "> Functions Returning other Functions\n",
    "\n",
    "> Nested Functions have access to the Enclosing Function's Variable Scope\n",
    "\n",
    "> Creating Decorators\n",
    "\n",
    "> Applying Multiple Decorators to a Single Function\n",
    "\n",
    "> Accepting Arguments in Decorator Functions\n",
    "\n",
    "> Defining General Purpose Decorators\n",
    "\n",
    "> Passing Arguments to the Decorator\n",
    "\n",
    "> Debugging Decorators\n",
    "\n",
    "> Decorator: @lru_cache()\n",
    "\n",
    "> Decorator: @cached_property()\n",
    "\n",
    "> Python Decorators Summary\n",
    "\n",
    "> Example: Measure performance of a function\n",
    "\n",
    "> References"
   ]
  },
  {
   "cell_type": "code",
   "execution_count": 1,
   "metadata": {},
   "outputs": [
    {
     "data": {
      "text/plain": "'Decorator:\\nA decorator is a design pattern in Python that allows a user to add new functionality \\nto an existing object without modifying its structure.\\n\\nDecorators are usually called before the definition of a function you want to decorate.\\n'"
     },
     "execution_count": 1,
     "metadata": {},
     "output_type": "execute_result"
    }
   ],
   "source": [
    "\"\"\"Decorator:\n",
    "A decorator is a design pattern in Python that allows a user to add new functionality \n",
    "to an existing object without modifying its structure.\n",
    "\n",
    "Decorators are usually called before the definition of a function you want to decorate.\n",
    "\"\"\""
   ]
  },
  {
   "cell_type": "markdown",
   "metadata": {},
   "source": [
    "### Assigning Functions to Variables"
   ]
  },
  {
   "cell_type": "code",
   "execution_count": 2,
   "metadata": {},
   "outputs": [
    {
     "data": {
      "text/plain": "6"
     },
     "execution_count": 2,
     "metadata": {},
     "output_type": "execute_result"
    }
   ],
   "source": [
    "def plus_one(number):\n",
    "    return number + 1\n",
    "\n",
    "add_one = plus_one\n",
    "add_one(5) # => plus_one(5)"
   ]
  },
  {
   "cell_type": "markdown",
   "metadata": {},
   "source": [
    "### Defining Functions Inside other Functions"
   ]
  },
  {
   "cell_type": "code",
   "execution_count": 3,
   "metadata": {},
   "outputs": [
    {
     "data": {
      "text/plain": "5"
     },
     "execution_count": 3,
     "metadata": {},
     "output_type": "execute_result"
    }
   ],
   "source": [
    "def plus_one(number):\n",
    "    def add_one(number):\n",
    "        return number + 1\n",
    "    \n",
    "    result = add_one(number)\n",
    "    return result\n",
    "\n",
    "plus_one(4)"
   ]
  },
  {
   "cell_type": "markdown",
   "metadata": {},
   "source": [
    "### Passing Functions as Arguments to other Functions\n",
    "\n",
    "Functions can also be passed as parameters to other functions."
   ]
  },
  {
   "cell_type": "code",
   "execution_count": 4,
   "metadata": {},
   "outputs": [
    {
     "data": {
      "text/plain": "6"
     },
     "execution_count": 4,
     "metadata": {},
     "output_type": "execute_result"
    }
   ],
   "source": [
    "def plus_one(number):\n",
    "    return number + 1\n",
    "\n",
    "def function_call(function):\n",
    "    number_to_add = 5\n",
    "    return function(number_to_add)\n",
    "\n",
    "function_call(plus_one)"
   ]
  },
  {
   "cell_type": "markdown",
   "metadata": {},
   "source": [
    "### Functions Returning other Functions\n",
    "\n",
    "A function can also generate another function."
   ]
  },
  {
   "cell_type": "code",
   "execution_count": 5,
   "metadata": {},
   "outputs": [
    {
     "data": {
      "text/plain": "'Hi'"
     },
     "execution_count": 5,
     "metadata": {},
     "output_type": "execute_result"
    }
   ],
   "source": [
    "def hello_function():\n",
    "    def say_hi():\n",
    "        return \"Hi\"\n",
    "    \n",
    "    return say_hi\n",
    "\n",
    "hello = hello_function()\n",
    "hello()"
   ]
  },
  {
   "cell_type": "code",
   "execution_count": 6,
   "metadata": {},
   "outputs": [],
   "source": [
    "# hello_function()()"
   ]
  },
  {
   "cell_type": "markdown",
   "metadata": {},
   "source": [
    "### Nested Functions have access to the Enclosing Function's Variable Scope\n",
    "\n",
    "Python allows a nested function to access the outer scope of the enclosing function. \n",
    "\n",
    "This is a critical concept in decorators - this pattern is known as a Closure."
   ]
  },
  {
   "cell_type": "code",
   "execution_count": 7,
   "metadata": {},
   "outputs": [
    {
     "name": "stdout",
     "output_type": "stream",
     "text": [
      "Some random message\n"
     ]
    }
   ],
   "source": [
    "def print_message(message):\n",
    "    \"Enclosong Function\"\n",
    "    def message_sender():\n",
    "        \"Nested Function\"\n",
    "        print(message)\n",
    "    \n",
    "    message_sender()\n",
    "\n",
    "print_message(\"Some random message\")"
   ]
  },
  {
   "cell_type": "markdown",
   "metadata": {},
   "source": [
    "### Creating Decorators"
   ]
  },
  {
   "cell_type": "code",
   "execution_count": 8,
   "metadata": {},
   "outputs": [],
   "source": [
    "def uppercase_decorator(function):\n",
    "    def wrapper():\n",
    "        func = function()\n",
    "        make_uppercase = func.upper()\n",
    "        return make_uppercase\n",
    "    return wrapper"
   ]
  },
  {
   "cell_type": "code",
   "execution_count": 9,
   "metadata": {},
   "outputs": [
    {
     "data": {
      "text/plain": "'HELLO THERE'"
     },
     "execution_count": 9,
     "metadata": {},
     "output_type": "execute_result"
    }
   ],
   "source": [
    "def say_hi():\n",
    "    return 'hello there'\n",
    "\n",
    "decorate = uppercase_decorator(say_hi)\n",
    "decorate()"
   ]
  },
  {
   "cell_type": "code",
   "execution_count": 10,
   "metadata": {},
   "outputs": [
    {
     "data": {
      "text/plain": "\"\\nHowever, Python provides a much easier way for us to apply decorators.\\nWe simply use the '@' symbol before the function we'd like to decorate.\\n\""
     },
     "execution_count": 10,
     "metadata": {},
     "output_type": "execute_result"
    }
   ],
   "source": [
    "\"\"\"\n",
    "However, Python provides a much easier way for us to apply decorators.\n",
    "We simply use the '@' symbol before the function we'd like to decorate.\n",
    "\"\"\""
   ]
  },
  {
   "cell_type": "code",
   "execution_count": 11,
   "metadata": {},
   "outputs": [
    {
     "data": {
      "text/plain": "'HELLO THERE'"
     },
     "execution_count": 11,
     "metadata": {},
     "output_type": "execute_result"
    }
   ],
   "source": [
    "@uppercase_decorator\n",
    "def say_hi():\n",
    "    return 'hello there'\n",
    "\n",
    "say_hi()"
   ]
  },
  {
   "cell_type": "markdown",
   "metadata": {},
   "source": [
    "### Applying Multiple Decorators to a Single Function\n",
    "\n",
    "We can use multiple decorators to a single function.\n",
    "\n",
    "However, the decorators will be applied in the order that we've called them. "
   ]
  },
  {
   "cell_type": "code",
   "execution_count": 12,
   "metadata": {},
   "outputs": [],
   "source": [
    "def split_string(function):\n",
    "    def wrapper():\n",
    "        func = function()\n",
    "        splitted_string = func.split()\n",
    "        return splitted_string\n",
    "    return wrapper"
   ]
  },
  {
   "cell_type": "code",
   "execution_count": 13,
   "metadata": {},
   "outputs": [
    {
     "data": {
      "text/plain": "['HELLO', 'THERE']"
     },
     "execution_count": 13,
     "metadata": {},
     "output_type": "execute_result"
    }
   ],
   "source": [
    "@split_string\n",
    "@uppercase_decorator\n",
    "def say_hi():\n",
    "    return 'hello there'\n",
    "\n",
    "say_hi()"
   ]
  },
  {
   "cell_type": "code",
   "execution_count": 14,
   "metadata": {},
   "outputs": [],
   "source": [
    "# @uppercase_decorator\n",
    "# @split_string\n",
    "# def say_hi():\n",
    "#     return 'hello there'\n",
    "\n",
    "# say_hi()"
   ]
  },
  {
   "cell_type": "markdown",
   "metadata": {},
   "source": [
    "### Accepting Arguments in Decorator Functions\n",
    "\n",
    "Sometimes we might need to define a decorator that accepts arguments. \n",
    "\n",
    "We achieve this by passing the arguments to the wrapper function."
   ]
  },
  {
   "cell_type": "code",
   "execution_count": 15,
   "metadata": {},
   "outputs": [
    {
     "name": "stdout",
     "output_type": "stream",
     "text": [
      "Arguments: Moscow, Saint Petersburg\n",
      "Cities I love are Moscow and Saint Petersburg\n"
     ]
    }
   ],
   "source": [
    "def decorator_with_arguments(function):\n",
    "    def wrapper_accepting_arguments(arg1, arg2):\n",
    "        print(f\"Arguments: {arg1}, {arg2}\")\n",
    "        function(arg1, arg2)\n",
    "    return wrapper_accepting_arguments\n",
    "\n",
    "\n",
    "@decorator_with_arguments\n",
    "def cities(city_one, city_two, city_three=\"Perm\"):\n",
    "    print(f\"Cities I love are {city_one} and {city_two}\")\n",
    "\n",
    "cities(\"Moscow\", \"Saint Petersburg\")"
   ]
  },
  {
   "cell_type": "markdown",
   "metadata": {},
   "source": [
    "### Defining General Purpose Decorators\n",
    "\n",
    "To define a general purpose decorator that can be applied to any function we use *args and **kwargs.\n",
    "\n",
    "*args and **kwargs collect all positional and keyword arguments and stores them in the args and kwargs variables. \n",
    "\n",
    "*args and **kwargs allow us to pass as many arguments as we would like during function calls."
   ]
  },
  {
   "cell_type": "code",
   "execution_count": 16,
   "metadata": {},
   "outputs": [],
   "source": [
    "def a_decorator_passing_arbitrary_arguments(function_to_decorate):\n",
    "    def a_wrapper_accepting_arbitrary_arguments(*args, **kwargs):\n",
    "        print(f'The positional arguments are {args}')\n",
    "        print(f'The keyword arguments are {kwargs}')\n",
    "        function_to_decorate(*args)\n",
    "    return a_wrapper_accepting_arbitrary_arguments"
   ]
  },
  {
   "cell_type": "code",
   "execution_count": 17,
   "metadata": {},
   "outputs": [
    {
     "name": "stdout",
     "output_type": "stream",
     "text": [
      "The positional arguments are ()\n",
      "The keyword arguments are {}\n",
      "No arguments here.\n"
     ]
    }
   ],
   "source": [
    "@a_decorator_passing_arbitrary_arguments\n",
    "def function_with_no_argument():\n",
    "    print(\"No arguments here.\")\n",
    "\n",
    "function_with_no_argument()"
   ]
  },
  {
   "cell_type": "code",
   "execution_count": 18,
   "metadata": {},
   "outputs": [
    {
     "name": "stdout",
     "output_type": "stream",
     "text": [
      "The positional arguments are (1, 2, 3)\n",
      "The keyword arguments are {}\n",
      "1 2 3\n"
     ]
    }
   ],
   "source": [
    "# the decorator using positional arguments\n",
    "\n",
    "@a_decorator_passing_arbitrary_arguments\n",
    "def function_with_arguments(a, b, c):\n",
    "    print(a, b, c)\n",
    "\n",
    "function_with_arguments(1, 2, 3)"
   ]
  },
  {
   "cell_type": "code",
   "execution_count": 19,
   "metadata": {},
   "outputs": [
    {
     "name": "stdout",
     "output_type": "stream",
     "text": [
      "The positional arguments are ()\n",
      "The keyword arguments are {'first_name': 'Artur', 'last_name': 'Saakyan'}\n",
      "This has shown keyword arguments\n"
     ]
    }
   ],
   "source": [
    "# the decorator using keyword arguments\n",
    "\n",
    "@a_decorator_passing_arbitrary_arguments\n",
    "def function_with_keyword_arguments():\n",
    "    print(\"This has shown keyword arguments\")\n",
    "\n",
    "function_with_keyword_arguments(first_name=\"Artur\", last_name=\"Saakyan\")"
   ]
  },
  {
   "cell_type": "markdown",
   "metadata": {},
   "source": [
    "### Passing Arguments to the Decorator\n",
    "\n",
    "We define a decorator maker that accepts arguments then define a decorator inside it.\n",
    "\n",
    "We then define a wrapper function inside the decorator as we did earlier."
   ]
  },
  {
   "cell_type": "code",
   "execution_count": 20,
   "metadata": {},
   "outputs": [],
   "source": [
    "def decorator_maker_with_arguments(decorator_arg1, decorator_arg2=\"Numpy\", decorator_arg3=\"Scikit-Learn\"):\n",
    "    def decorator(func):\n",
    "        def wrapper(function_arg1, function_arg2, function_arg3):\n",
    "            \"This is the wrapper function\"\n",
    "            print(\"The wrapper can access all the variables\\n\"\n",
    "                  \"\\t- from the decorator maker: {0} {1} {2}\\n\"\n",
    "                  \"\\t- from the function call: {3} {4} {5}\\n\"\n",
    "                  \"and pass them to the decorated function\"\n",
    "                  .format(decorator_arg1, decorator_arg2, decorator_arg3,\n",
    "                          function_arg1, function_arg2, function_arg3))\n",
    "            \n",
    "            return func(function_arg1, function_arg2, function_arg3)\n",
    "\n",
    "        return wrapper\n",
    "\n",
    "    return decorator"
   ]
  },
  {
   "cell_type": "code",
   "execution_count": 21,
   "metadata": {},
   "outputs": [
    {
     "name": "stdout",
     "output_type": "stream",
     "text": [
      "The wrapper can access all the variables\n",
      "\t- from the decorator maker: Pandas Numpy Scikit-Learn\n",
      "\t- from the function call: Pandas Science Tools\n",
      "and pass them to the decorated function\n",
      "This is the decorated function and it only knows about its arguments: Pandas Science Tools\n"
     ]
    }
   ],
   "source": [
    "pandas = \"Pandas\"\n",
    "\n",
    "@decorator_maker_with_arguments(pandas, \"Numpy\", \"Scikit-Learn\")\n",
    "def decorated_function_with_arguments(function_arg1, function_arg2, function_arg3):\n",
    "    print(\"This is the decorated function and it only knows about its arguments: {0}\"\n",
    "           \" {1}\" \" {2}\".format(function_arg1, function_arg2, function_arg3))\n",
    "\n",
    "decorated_function_with_arguments(pandas, \"Science\", \"Tools\")"
   ]
  },
  {
   "cell_type": "markdown",
   "metadata": {},
   "source": [
    "### Debugging Decorators\n",
    "\n",
    "As we have noticed, decorators wrap functions. \n",
    "\n",
    "- the original function name\n",
    "- its docstring\n",
    "- parameter list\n",
    "\n",
    "are all hidden by the wrapper closure.\n",
    "\n",
    "For example, when we try to access the decorated_function_with_arguments metadata, we'll see the wrapper closure's metadata.\n",
    "\n",
    "This presents a challenge when debugging."
   ]
  },
  {
   "cell_type": "code",
   "execution_count": 22,
   "metadata": {},
   "outputs": [
    {
     "data": {
      "text/plain": "['__annotations__', '__call__', '__class__', '__closure__', '__code__']"
     },
     "execution_count": 22,
     "metadata": {},
     "output_type": "execute_result"
    }
   ],
   "source": [
    "dir(decorated_function_with_arguments)[:5]"
   ]
  },
  {
   "cell_type": "code",
   "execution_count": 23,
   "metadata": {},
   "outputs": [
    {
     "data": {
      "text/plain": "'wrapper'"
     },
     "execution_count": 23,
     "metadata": {},
     "output_type": "execute_result"
    }
   ],
   "source": [
    "decorated_function_with_arguments.__name__"
   ]
  },
  {
   "cell_type": "code",
   "execution_count": 24,
   "metadata": {},
   "outputs": [
    {
     "data": {
      "text/plain": "'This is the wrapper function'"
     },
     "execution_count": 24,
     "metadata": {},
     "output_type": "execute_result"
    }
   ],
   "source": [
    "decorated_function_with_arguments.__doc__"
   ]
  },
  {
   "cell_type": "code",
   "execution_count": 25,
   "metadata": {},
   "outputs": [
    {
     "data": {
      "text/plain": "\"\\nIn order to solve this challenge Python provides a 'functools.wraps' decorator.\\nThis decorator copies the lost metadata from the undecorated function to the decorated closure.\\n\""
     },
     "execution_count": 25,
     "metadata": {},
     "output_type": "execute_result"
    }
   ],
   "source": [
    "\"\"\"\n",
    "In order to solve this challenge Python provides a 'functools.wraps' decorator.\n",
    "This decorator copies the lost metadata from the undecorated function to the decorated closure.\n",
    "\"\"\""
   ]
  },
  {
   "cell_type": "code",
   "execution_count": 26,
   "metadata": {},
   "outputs": [],
   "source": [
    "import functools\n",
    "\n",
    "def uppercase_decorator(func):\n",
    "    \n",
    "    @functools.wraps(func)\n",
    "    def wrapper():\n",
    "        return func().upper()\n",
    "    \n",
    "    return wrapper"
   ]
  },
  {
   "cell_type": "code",
   "execution_count": 27,
   "metadata": {},
   "outputs": [
    {
     "data": {
      "text/plain": "'HELLO THERE'"
     },
     "execution_count": 27,
     "metadata": {},
     "output_type": "execute_result"
    }
   ],
   "source": [
    "@uppercase_decorator\n",
    "def say_hi():\n",
    "    \"This will say hi\"\n",
    "    return 'hello there'\n",
    "\n",
    "say_hi()"
   ]
  },
  {
   "cell_type": "code",
   "execution_count": 28,
   "metadata": {},
   "outputs": [
    {
     "data": {
      "text/plain": "('say_hi', 'This will say hi')"
     },
     "execution_count": 28,
     "metadata": {},
     "output_type": "execute_result"
    }
   ],
   "source": [
    "\"\"\"\n",
    "It is advisable and good practice to always use 'functools.wraps' when defining decorators. \n",
    "It will save you a lot of headache in debugging.\n",
    "\"\"\"\n",
    "\n",
    "say_hi.__name__, say_hi.__doc__"
   ]
  },
  {
   "cell_type": "markdown",
   "metadata": {},
   "source": [
    "### Decorator:  @lru_cache()\n",
    "\n",
    "lru_cache() is one such function in functools module which helps in reducing the execution time of the function by using memoization technique.\n",
    "\n",
    "**Syntax:**\n",
    "\n",
    "@lru_cache(maxsize=128, typed=False)\n",
    "\n",
    "\n",
    "**Parameters:**\n",
    "\n",
    "**maxsize**: This parameter sets the size of the cache, the cache can store upto maxsize most recent function calls, if maxsize is set to None, the LRU feature will be disabled and the cache can grow without any limitations\n",
    "\n",
    "**typed**: If typed is set to 'True', function arguments of different types will be cached separately. \n",
    "\n",
    "For example, f(3) and f(3.0) will be treated as distinct calls with distinct results and they will be stored in two separate entries in the cache"
   ]
  },
  {
   "cell_type": "code",
   "execution_count": 29,
   "metadata": {},
   "outputs": [
    {
     "name": "stdout",
     "output_type": "stream",
     "text": [
      "Time taken to execute the function without lru_cache is 0.368914 sec\n"
     ]
    }
   ],
   "source": [
    "import time\n",
    "\n",
    "# Function that computes Fibonacci numbers without lru_cache\n",
    "def fib_without_cache(n):\n",
    "    if n < 2:\n",
    "        return n\n",
    "    return fib_without_cache(n - 1) + fib_without_cache(n - 2)\n",
    "\n",
    "start = time.time()\n",
    "fib_without_cache(30)\n",
    "end = time.time()\n",
    "\n",
    "without_cache = end - start\n",
    "\n",
    "print(f\"Time taken to execute the function without lru_cache is {without_cache:.6f} sec\")"
   ]
  },
  {
   "cell_type": "code",
   "execution_count": 30,
   "metadata": {},
   "outputs": [
    {
     "name": "stdout",
     "output_type": "stream",
     "text": [
      "Time taken to execute the function with lru_cache is 0.000073\n"
     ]
    }
   ],
   "source": [
    "# Function that computes Fibonacci numbers with lru_cache\n",
    "\n",
    "import time\n",
    "from functools import lru_cache\n",
    "\n",
    "@lru_cache()\n",
    "def fib_with_cache(n):\n",
    "    if n < 2:\n",
    "        return n\n",
    "    return fib_with_cache(n - 1) + fib_with_cache(n - 2)\n",
    "\n",
    "start = time.time()\n",
    "fib_with_cache(30)\n",
    "end = time.time()\n",
    "\n",
    "with_cache = end - start\n",
    "\n",
    "print(f\"Time taken to execute the function with lru_cache is {with_cache:.6f}\")"
   ]
  },
  {
   "cell_type": "code",
   "execution_count": 31,
   "metadata": {},
   "outputs": [
    {
     "data": {
      "text/plain": "5056.0"
     },
     "execution_count": 31,
     "metadata": {},
     "output_type": "execute_result"
    }
   ],
   "source": [
    "without_cache // with_cache"
   ]
  },
  {
   "cell_type": "markdown",
   "metadata": {},
   "source": [
    "### Decorator: @cached_property()\n",
    "\n",
    "The @cached_property is a decorator which transforms a method of a class into a property whose value is computed only once and then cached as a normal attribute. Therefore, the cached result will be available as long as the instance will persist and we can use that method as an attribute of a class i.e\n",
    "\n",
    "Writing    : instance.method\n",
    "\n",
    "Instead of : instance.method()\n",
    "\n",
    "It is similar to @property(), but @cached_property() comes with an extra feature and that is caching.\n",
    "\n",
    "**Why caching?**\n",
    "\n",
    "The cache memory is a high-speed memory available inside CPU in order to speed up access to data and instructions. \n",
    "\n",
    "Therefore, the cache is a place that is quick to access. The result can be computed and stored once and from next time, the result can be accessed without recomputing it again. So, it is useful in case of expensive computations."
   ]
  },
  {
   "cell_type": "markdown",
   "metadata": {},
   "source": [
    "#### Difference between @property and @cached_property"
   ]
  },
  {
   "cell_type": "code",
   "execution_count": 32,
   "metadata": {},
   "outputs": [],
   "source": [
    "# Using @property\n",
    "\n",
    "class Sample():\n",
    "    def __init__(self):\n",
    "        self.result = 50\n",
    "    \n",
    "    @property\n",
    "    def increase(self):\n",
    "        self.result += 50\n",
    "        return self.result"
   ]
  },
  {
   "cell_type": "code",
   "execution_count": 33,
   "metadata": {},
   "outputs": [
    {
     "name": "stdout",
     "output_type": "stream",
     "text": [
      "100 150 200\n",
      "CPU times: user 308 µs, sys: 144 µs, total: 452 µs\n",
      "Wall time: 353 µs\n"
     ]
    }
   ],
   "source": [
    "%%time\n",
    "obj = Sample()\n",
    "print(obj.increase, obj.increase, obj.increase)"
   ]
  },
  {
   "cell_type": "code",
   "execution_count": 34,
   "metadata": {},
   "outputs": [],
   "source": [
    "# Using @cached_property\n",
    "\n",
    "from functools import cached_property\n",
    "\n",
    "\n",
    "class Sample():\n",
    "    def __init__(self):\n",
    "        self.result = 50\n",
    "    \n",
    "    @cached_property\n",
    "    def increase(self):\n",
    "        self.result += 50\n",
    "        return self.result"
   ]
  },
  {
   "cell_type": "code",
   "execution_count": 35,
   "metadata": {},
   "outputs": [
    {
     "name": "stdout",
     "output_type": "stream",
     "text": [
      "100 100 100\n",
      "CPU times: user 1.06 ms, sys: 1.09 ms, total: 2.14 ms\n",
      "Wall time: 1.58 ms\n"
     ]
    }
   ],
   "source": [
    "%%time\n",
    "obj = Sample()\n",
    "print(obj.increase, obj.increase, obj.increase)"
   ]
  },
  {
   "cell_type": "markdown",
   "metadata": {},
   "source": [
    "### Example: Measure performance of a function\n",
    "\n",
    "We will use the decorator to test the performance list generation using four methods:\n",
    "\n",
    "- range\n",
    "- list comprehension\n",
    "- append\n",
    "- concatenation"
   ]
  },
  {
   "cell_type": "code",
   "execution_count": 36,
   "metadata": {},
   "outputs": [],
   "source": [
    "import tracemalloc\n",
    "from functools import wraps\n",
    "from time import perf_counter\n",
    "\n",
    "\n",
    "def measure_performance(func):\n",
    "    '''Measure performance of a function'''\n",
    "    \n",
    "    @wraps(func)\n",
    "    def wrapper(*args, **kwargs):\n",
    "        tracemalloc.start()\n",
    "        start_time = perf_counter()\n",
    "        func(*args, **kwargs)\n",
    "        current, peak = tracemalloc.get_traced_memory()\n",
    "        finish_time = perf_counter()\n",
    "        print(f'Function: {func.__name__}')\n",
    "        print(f'Method:   {func.__doc__}')\n",
    "        print(f'Memory usage:        {current / 10**6:.6f} MB \\n'\n",
    "              f'Peak memory usage:   {peak / 10**6:.6f} MB ')\n",
    "        print(f'Time elapsed:        {finish_time - start_time:.6f} sec')\n",
    "        print(f'{\"-\" * 40}')\n",
    "        tracemalloc.stop()\n",
    "    \n",
    "    return wrapper"
   ]
  },
  {
   "cell_type": "code",
   "execution_count": 37,
   "metadata": {},
   "outputs": [],
   "source": [
    "@measure_performance\n",
    "def make_list1():\n",
    "    '''Range'''\n",
    "    \n",
    "    my_list = list(range(100_000))\n",
    "\n",
    "\n",
    "@measure_performance\n",
    "def make_list2():\n",
    "    '''List comprehension'''\n",
    "\n",
    "    my_list = [l for l in range(100_000)]\n",
    "\n",
    "\n",
    "@measure_performance\n",
    "def make_list3():\n",
    "    '''Append'''\n",
    "\n",
    "    my_list = []\n",
    "    for item in range(100_000):\n",
    "        my_list.append(item)\n",
    "\n",
    "\n",
    "@measure_performance\n",
    "def make_list4():\n",
    "    '''Concatenation'''\n",
    "\n",
    "    my_list = []\n",
    "    for item in range(100_000):\n",
    "        my_list = my_list + [item]"
   ]
  },
  {
   "cell_type": "code",
   "execution_count": 38,
   "metadata": {},
   "outputs": [
    {
     "name": "stdout",
     "output_type": "stream",
     "text": [
      "Function: make_list1\n",
      "Method:   Range\n",
      "Memory usage:        0.005528 MB \n",
      "Peak memory usage:   3.598332 MB \n",
      "Time elapsed:        0.050014 sec\n",
      "----------------------------------------\n",
      "None\n",
      "Function: make_list2\n",
      "Method:   List comprehension\n",
      "Memory usage:        0.001713 MB \n",
      "Peak memory usage:   3.618598 MB \n",
      "Time elapsed:        0.044352 sec\n",
      "----------------------------------------\n",
      "None\n",
      "Function: make_list3\n",
      "Method:   Append\n",
      "Memory usage:        0.000432 MB \n",
      "Peak memory usage:   3.617684 MB \n",
      "Time elapsed:        0.050409 sec\n",
      "----------------------------------------\n",
      "None\n",
      "Function: make_list4\n",
      "Method:   Concatenation\n",
      "Memory usage:        0.000867 MB \n",
      "Peak memory usage:   4.393719 MB \n",
      "Time elapsed:        29.125270 sec\n",
      "----------------------------------------\n",
      "None\n"
     ]
    }
   ],
   "source": [
    "print(make_list1())\n",
    "print(make_list2())\n",
    "print(make_list3())\n",
    "print(make_list4())"
   ]
  },
  {
   "cell_type": "markdown",
   "metadata": {},
   "source": [
    "### Python Decorators Summary\n",
    "\n",
    "Decorators dynamically alter the functionality of a function, method, or class without having to directly use subclasses or change the source code of the function being decorated.\n",
    "\n",
    "Using decorators in Python also ensures that your code is DRY (Don't Repeat Yourself). \n",
    "\n",
    "Decorators have several use cases such as:\n",
    "- Authorization in Python frameworks such as Flask and Django (is this person authorized or not?!)\n",
    "- Logging\n",
    "- Measuring execution time"
   ]
  },
  {
   "cell_type": "markdown",
   "metadata": {},
   "source": [
    "### References\n",
    "<ol>\n",
    "<li> <a href=\"https://www.datacamp.com/community/tutorials/decorators-python?utm_source=adwords_ppc&utm_campaignid=1455363063&utm_adgroupid=65083631748&utm_device=c&utm_keyword=&utm_matchtype=b&utm_network=g&utm_adpostion=&utm_creative=278443377095&utm_targetid=aud-299261629574:dsa-429603003980&utm_loc_interest_ms=&utm_loc_physical_ms=9047064&gclid=Cj0KCQjwiNSLBhCPARIsAKNS4_dREIkpGsPXvvQZ97TnbCHlnotEmdpDpAj5KqvdI-A8foCcuso4QgYaAvdhEALw_wcB\">Decorators in Python</a> </li>\n",
    "<li> <a href=\"https://www.geeksforgeeks.org/python-functools-lru_cache/\">Python Functools - @lru_cache()</a> </li>\n",
    "<li> <a href=\"https://www.geeksforgeeks.org/python-functools-cached_property/\">Python Functools - @cached_property()</a> </li>\n",
    "</ol>"
   ]
  }
 ],
 "metadata": {
  "kernelspec": {
   "display_name": "Python 3 (ipykernel)",
   "language": "python",
   "name": "python3"
  },
  "language_info": {
   "codemirror_mode": {
    "name": "ipython",
    "version": 3
   },
   "file_extension": ".py",
   "mimetype": "text/x-python",
   "name": "python",
   "nbconvert_exporter": "python",
   "pygments_lexer": "ipython3",
   "version": "3.8.10"
  }
 },
 "nbformat": 4,
 "nbformat_minor": 2
}