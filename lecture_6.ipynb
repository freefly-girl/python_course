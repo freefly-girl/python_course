{
 "cells": [
  {
   "cell_type": "markdown",
   "metadata": {},
   "source": [
    "# Lecture 6: Errors and Exceptions\n",
    "\n",
    "Python provides two very important features to handle any unexpected error in your Python programs and to add debugging capabilities in them:\n",
    "\n",
    "- Exception Handling\n",
    "- Assertions"
   ]
  },
  {
   "cell_type": "code",
   "execution_count": 1,
   "metadata": {},
   "outputs": [
    {
     "data": {
      "text/plain": [
       "[Exception,\n",
       " GeneratorExit,\n",
       " SystemExit,\n",
       " KeyboardInterrupt,\n",
       " asyncio.exceptions.CancelledError,\n",
       " _pydev_imps._pydev_saved_modules.DebuggerInitializationError]"
      ]
     },
     "execution_count": 1,
     "metadata": {},
     "output_type": "execute_result"
    }
   ],
   "source": [
    "BaseException.__subclasses__()"
   ]
  },
  {
   "cell_type": "code",
   "execution_count": 2,
   "metadata": {},
   "outputs": [
    {
     "data": {
      "text/plain": [
       "120"
      ]
     },
     "execution_count": 2,
     "metadata": {},
     "output_type": "execute_result"
    }
   ],
   "source": [
    "len(Exception.__subclasses__())"
   ]
  },
  {
   "cell_type": "code",
   "execution_count": 3,
   "metadata": {},
   "outputs": [
    {
     "data": {
      "text/plain": [
       "[TypeError, StopAsyncIteration, StopIteration, ImportError, OSError]"
      ]
     },
     "execution_count": 3,
     "metadata": {},
     "output_type": "execute_result"
    }
   ],
   "source": [
    "Exception.__subclasses__()[:5]"
   ]
  },
  {
   "cell_type": "code",
   "execution_count": 4,
   "metadata": {},
   "outputs": [
    {
     "ename": "ZeroDivisionError",
     "evalue": "division by zero",
     "output_type": "error",
     "traceback": [
      "\u001B[0;31m---------------------------------------------------------------------------\u001B[0m",
      "\u001B[0;31mZeroDivisionError\u001B[0m                         Traceback (most recent call last)",
      "\u001B[0;32m/var/folders/38/bgjzx19n7z50tbjs_n3vpgdw0000gn/T/ipykernel_9253/2444630372.py\u001B[0m in \u001B[0;36m<module>\u001B[0;34m\u001B[0m\n\u001B[0;32m----> 1\u001B[0;31m \u001B[0mprint\u001B[0m\u001B[0;34m(\u001B[0m\u001B[0;36m0\u001B[0m \u001B[0;34m/\u001B[0m \u001B[0;36m0\u001B[0m\u001B[0;34m)\u001B[0m\u001B[0;34m\u001B[0m\u001B[0;34m\u001B[0m\u001B[0m\n\u001B[0m",
      "\u001B[0;31mZeroDivisionError\u001B[0m: division by zero"
     ]
    }
   ],
   "source": [
    "print(0 / 0)"
   ]
  },
  {
   "cell_type": "code",
   "execution_count": 5,
   "metadata": {},
   "outputs": [
    {
     "name": "stdout",
     "output_type": "stream",
     "text": [
      "division by zero\n"
     ]
    }
   ],
   "source": [
    "# catch all exceptions\n",
    "try:\n",
    "    print(0 / 0)\n",
    "except Exception as error:\n",
    "    print(error)"
   ]
  },
  {
   "cell_type": "markdown",
   "metadata": {},
   "source": [
    "### Exceptions versus Syntax Errors"
   ]
  },
  {
   "cell_type": "code",
   "execution_count": 6,
   "metadata": {},
   "outputs": [
    {
     "ename": "SyntaxError",
     "evalue": "unmatched ')' (17332830.py, line 5)",
     "output_type": "error",
     "traceback": [
      "\u001B[0;36m  File \u001B[0;32m\"/var/folders/38/bgjzx19n7z50tbjs_n3vpgdw0000gn/T/ipykernel_9253/17332830.py\"\u001B[0;36m, line \u001B[0;32m5\u001B[0m\n\u001B[0;31m    print(0 / 0))\u001B[0m\n\u001B[0m                ^\u001B[0m\n\u001B[0;31mSyntaxError\u001B[0m\u001B[0;31m:\u001B[0m unmatched ')'\n"
     ]
    }
   ],
   "source": [
    "\"\"\"Syntax Error\n",
    "Syntax errors occur when the parser detects an incorrect statement.\n",
    "\"\"\"\n",
    "\n",
    "print(0 / 0))"
   ]
  },
  {
   "cell_type": "code",
   "execution_count": 7,
   "metadata": {},
   "outputs": [
    {
     "ename": "ZeroDivisionError",
     "evalue": "division by zero",
     "output_type": "error",
     "traceback": [
      "\u001B[0;31m---------------------------------------------------------------------------\u001B[0m",
      "\u001B[0;31mZeroDivisionError\u001B[0m                         Traceback (most recent call last)",
      "\u001B[0;32m/var/folders/38/bgjzx19n7z50tbjs_n3vpgdw0000gn/T/ipykernel_9253/2420165891.py\u001B[0m in \u001B[0;36m<module>\u001B[0;34m\u001B[0m\n\u001B[1;32m      4\u001B[0m \"\"\"\n\u001B[1;32m      5\u001B[0m \u001B[0;34m\u001B[0m\u001B[0m\n\u001B[0;32m----> 6\u001B[0;31m \u001B[0mprint\u001B[0m\u001B[0;34m(\u001B[0m\u001B[0;36m0\u001B[0m \u001B[0;34m/\u001B[0m \u001B[0;36m0\u001B[0m\u001B[0;34m)\u001B[0m\u001B[0;34m\u001B[0m\u001B[0;34m\u001B[0m\u001B[0m\n\u001B[0m",
      "\u001B[0;31mZeroDivisionError\u001B[0m: division by zero"
     ]
    }
   ],
   "source": [
    "\"\"\"Exception Error\n",
    "This type of error occurs whenever syntactically correct Python code results in an error.\n",
    "The last line of the message indicated what type of exception error you ran into.\n",
    "\"\"\"\n",
    "\n",
    "print(0 / 0)"
   ]
  },
  {
   "cell_type": "markdown",
   "metadata": {},
   "source": [
    "### Raising an Exception\n",
    "\n",
    "The raise keyword is used to raise an exception.\n",
    "\n",
    "You can define what kind of error to raise, and the text to print to the user."
   ]
  },
  {
   "cell_type": "code",
   "execution_count": 8,
   "metadata": {},
   "outputs": [
    {
     "ename": "Exception",
     "evalue": "x should not exceed 5. The value of x was: 10",
     "output_type": "error",
     "traceback": [
      "\u001B[0;31m---------------------------------------------------------------------------\u001B[0m",
      "\u001B[0;31mException\u001B[0m                                 Traceback (most recent call last)",
      "\u001B[0;32m/var/folders/38/bgjzx19n7z50tbjs_n3vpgdw0000gn/T/ipykernel_9253/3821211953.py\u001B[0m in \u001B[0;36m<module>\u001B[0;34m\u001B[0m\n\u001B[1;32m      9\u001B[0m \u001B[0mx\u001B[0m \u001B[0;34m=\u001B[0m \u001B[0;36m10\u001B[0m\u001B[0;34m\u001B[0m\u001B[0;34m\u001B[0m\u001B[0m\n\u001B[1;32m     10\u001B[0m \u001B[0;32mif\u001B[0m \u001B[0mx\u001B[0m \u001B[0;34m>\u001B[0m \u001B[0;36m5\u001B[0m\u001B[0;34m:\u001B[0m\u001B[0;34m\u001B[0m\u001B[0;34m\u001B[0m\u001B[0m\n\u001B[0;32m---> 11\u001B[0;31m     \u001B[0;32mraise\u001B[0m \u001B[0mException\u001B[0m\u001B[0;34m(\u001B[0m\u001B[0;34mf\"x should not exceed 5. The value of x was: {x}\"\u001B[0m\u001B[0;34m)\u001B[0m\u001B[0;34m\u001B[0m\u001B[0;34m\u001B[0m\u001B[0m\n\u001B[0m",
      "\u001B[0;31mException\u001B[0m: x should not exceed 5. The value of x was: 10"
     ]
    }
   ],
   "source": [
    "\"\"\"\n",
    "We can use 'raise' to throw an exception if a condition occurs.\n",
    "The statement can be complemented with a custom exception.\n",
    "\n",
    "The program comes to a halt and displays our exception to screen,\n",
    "offering clues about what went wrong.\n",
    "\"\"\"\n",
    "\n",
    "x = 10\n",
    "if x > 5:\n",
    "    raise Exception(f\"x should not exceed 5. The value of x was: {x}\")"
   ]
  },
  {
   "cell_type": "markdown",
   "metadata": {},
   "source": [
    "### The AssertionError Exception\n",
    "\n",
    "Assertions are simply boolean expressions that check if the conditions return True or False. \n",
    "\n",
    "If it is True, the program does nothing and moves to the next line of code. \n",
    "However, if it's False, the program stops and throws an error."
   ]
  },
  {
   "cell_type": "code",
   "execution_count": 9,
   "metadata": {},
   "outputs": [
    {
     "ename": "AssertionError",
     "evalue": "This code runs on Linux only.",
     "output_type": "error",
     "traceback": [
      "\u001B[0;31m---------------------------------------------------------------------------\u001B[0m",
      "\u001B[0;31mAssertionError\u001B[0m                            Traceback (most recent call last)",
      "\u001B[0;32m/var/folders/38/bgjzx19n7z50tbjs_n3vpgdw0000gn/T/ipykernel_9253/2765281814.py\u001B[0m in \u001B[0;36m<module>\u001B[0;34m\u001B[0m\n\u001B[1;32m      9\u001B[0m \u001B[0;34m\u001B[0m\u001B[0m\n\u001B[1;32m     10\u001B[0m \u001B[0;32mimport\u001B[0m \u001B[0msys\u001B[0m\u001B[0;34m\u001B[0m\u001B[0;34m\u001B[0m\u001B[0m\n\u001B[0;32m---> 11\u001B[0;31m \u001B[0;32massert\u001B[0m \u001B[0;34m(\u001B[0m\u001B[0;34m\"linux\"\u001B[0m \u001B[0;32min\u001B[0m \u001B[0msys\u001B[0m\u001B[0;34m.\u001B[0m\u001B[0mplatform\u001B[0m\u001B[0;34m)\u001B[0m\u001B[0;34m,\u001B[0m \u001B[0;34m\"This code runs on Linux only.\"\u001B[0m\u001B[0;34m\u001B[0m\u001B[0;34m\u001B[0m\u001B[0m\n\u001B[0m",
      "\u001B[0;31mAssertionError\u001B[0m: This code runs on Linux only."
     ]
    }
   ],
   "source": [
    "\"\"\"Assert Syntax: assert <condition>, <error message>\n",
    "\n",
    "Instead of waiting for a program to crash midway, you can also start by making an assertion in Python. \n",
    "\n",
    "We assert that a certain condition is met. If this condition turns out to be True, then that is excellent!\n",
    "The program can continue. If the condition turns out to be False,\n",
    "you can have the program throw an 'AssertionError' exception.\n",
    "\"\"\"\n",
    "\n",
    "import sys\n",
    "assert (\"linux\" in sys.platform), \"This code runs on Linux only.\""
   ]
  },
  {
   "cell_type": "code",
   "execution_count": 10,
   "metadata": {},
   "outputs": [
    {
     "data": {
      "text/plain": [
       "'\\nIf you run this code on a Linux machine, the assertion passes.\\nIf you were to run this code on a Windows machine, the outcome of the assertion would be False \\nand the result would be the following:\\n'"
      ]
     },
     "execution_count": 10,
     "metadata": {},
     "output_type": "execute_result"
    }
   ],
   "source": [
    "\"\"\"\n",
    "If you run this code on a Linux machine, the assertion passes.\n",
    "If you were to run this code on a Windows machine, the outcome of the assertion would be False \n",
    "and the result would be the following:\n",
    "\"\"\""
   ]
  },
  {
   "cell_type": "code",
   "execution_count": 11,
   "metadata": {},
   "outputs": [
    {
     "ename": "AssertionError",
     "evalue": "This code runs on Linux only.",
     "output_type": "error",
     "traceback": [
      "\u001B[0;31m---------------------------------------------------------------------------\u001B[0m",
      "\u001B[0;31mAssertionError\u001B[0m                            Traceback (most recent call last)",
      "\u001B[0;32m/var/folders/38/bgjzx19n7z50tbjs_n3vpgdw0000gn/T/ipykernel_9253/1539106983.py\u001B[0m in \u001B[0;36m<module>\u001B[0;34m\u001B[0m\n\u001B[1;32m      1\u001B[0m \u001B[0;31m# If you run this code on a Linux machine, the assertion passes.\u001B[0m\u001B[0;34m\u001B[0m\u001B[0;34m\u001B[0m\u001B[0;34m\u001B[0m\u001B[0m\n\u001B[1;32m      2\u001B[0m \u001B[0;32mimport\u001B[0m \u001B[0msys\u001B[0m\u001B[0;34m\u001B[0m\u001B[0;34m\u001B[0m\u001B[0m\n\u001B[0;32m----> 3\u001B[0;31m \u001B[0;32massert\u001B[0m \u001B[0;34m(\u001B[0m\u001B[0;34m\"linux\"\u001B[0m \u001B[0;32min\u001B[0m \u001B[0msys\u001B[0m\u001B[0;34m.\u001B[0m\u001B[0mplatform\u001B[0m\u001B[0;34m)\u001B[0m\u001B[0;34m,\u001B[0m \u001B[0;34m\"This code runs on Linux only.\"\u001B[0m\u001B[0;34m\u001B[0m\u001B[0;34m\u001B[0m\u001B[0m\n\u001B[0m\u001B[1;32m      4\u001B[0m \u001B[0;34m\u001B[0m\u001B[0m\n\u001B[1;32m      5\u001B[0m \"\"\"\n",
      "\u001B[0;31mAssertionError\u001B[0m: This code runs on Linux only."
     ]
    }
   ],
   "source": [
    "# If you run this code on a Linux machine, the assertion passes.\n",
    "import sys\n",
    "assert (\"linux\" in sys.platform), \"This code runs on Linux only.\"\n",
    "\n",
    "\"\"\"\n",
    "If you were to run this code on a Windows machine, the outcome of the assertion would be False \n",
    "and the result would be the following:\n",
    "\n",
    "---------------------------------------------------------------------------\n",
    "AssertionError                            Traceback (most recent call last)\n",
    "<ipython-input-7-3481e9e2cdd6> in <module>()\n",
    "      8 \n",
    "      9 import sys\n",
    "---> 10 assert (\"linux\" in sys.platform), \"This code runs on Linux only.\"\n",
    "\n",
    "AssertionError: This code runs on Linux only.\n",
    "\"\"\""
   ]
  },
  {
   "cell_type": "code",
   "execution_count": 12,
   "metadata": {},
   "outputs": [
    {
     "data": {
      "text/plain": [
       "\"\\nIn this example, throwing an 'AssertionError' exception is the last thing that the program will do. \\n\\nThe program will come to halt and will not continue.\\nWhat if that is not what you want?\\n\""
      ]
     },
     "execution_count": 12,
     "metadata": {},
     "output_type": "execute_result"
    }
   ],
   "source": [
    "\"\"\"\n",
    "In this example, throwing an 'AssertionError' exception is the last thing that the program will do. \n",
    "\n",
    "The program will come to halt and will not continue.\n",
    "What if that is not what you want?\n",
    "\"\"\""
   ]
  },
  {
   "cell_type": "markdown",
   "metadata": {},
   "source": [
    "**Key points (Assert):**\n",
    "\n",
    "- assertions are the condition or boolean expression which are always supposed to be true in the code.\n",
    "- assert statement takes an expression and optional message.\n",
    "- assert statement is used to check types, values of argument and the output of the function.\n",
    "- assert statement is used as debugging tool as it halts the program at the point where an error occurs."
   ]
  },
  {
   "cell_type": "markdown",
   "metadata": {},
   "source": [
    "### The 'try' and 'except' Block: Handling Exceptions\n",
    "\n",
    "The try and except block in Python is used to catch and handle exceptions. \n",
    "\n",
    "Python executes code following the try statement as a “normal” part of the program. The code that follows the except statement is the program’s response to any exceptions in the preceding try clause."
   ]
  },
  {
   "cell_type": "code",
   "execution_count": 13,
   "metadata": {},
   "outputs": [],
   "source": [
    "def linux_interaction():\n",
    "    assert ('linux' in sys.platform), \"Function can only run on Linux systems.\"\n",
    "    print('Doing something.')"
   ]
  },
  {
   "cell_type": "code",
   "execution_count": 14,
   "metadata": {},
   "outputs": [],
   "source": [
    "try:\n",
    "    linux_interaction()\n",
    "except:\n",
    "    pass"
   ]
  },
  {
   "cell_type": "code",
   "execution_count": 15,
   "metadata": {},
   "outputs": [
    {
     "name": "stdout",
     "output_type": "stream",
     "text": [
      "linux_interaction() function was not executed!\n"
     ]
    }
   ],
   "source": [
    "\"\"\"\n",
    "The good thing here is that the program did not crash. \n",
    "\n",
    "But it would be nice to see if some type of exception occurred whenever you ran your code. \n",
    "\n",
    "To this end, you can change the pass into something that would generate an informative message, like so:\n",
    "\"\"\"\n",
    "\n",
    "try:\n",
    "    linux_interaction()\n",
    "except:\n",
    "    print('linux_interaction() function was not executed!')"
   ]
  },
  {
   "cell_type": "code",
   "execution_count": 16,
   "metadata": {},
   "outputs": [
    {
     "name": "stdout",
     "output_type": "stream",
     "text": [
      "Function can only run on Linux systems.\n",
      "The linux_interaction() function was not executed!\n"
     ]
    }
   ],
   "source": [
    "\"\"\"\n",
    "What you did not get to see was the type of error that was thrown as a result of the function call. \n",
    "In order to see exactly what went wrong, you would need to catch the error that the function threw.\n",
    "\"\"\"\n",
    "import sys\n",
    "\n",
    "try:\n",
    "    linux_interaction()\n",
    "except AssertionError as error:\n",
    "    print(error)\n",
    "    print('The linux_interaction() function was not executed!')"
   ]
  },
  {
   "cell_type": "code",
   "execution_count": 17,
   "metadata": {},
   "outputs": [
    {
     "name": "stdout",
     "output_type": "stream",
     "text": [
      "Could not open file.log\n"
     ]
    }
   ],
   "source": [
    "# here’s another example\n",
    "try:\n",
    "    with open('file.log') as file:\n",
    "        read_data = file.read()\n",
    "except:\n",
    "    print('Could not open file.log')"
   ]
  },
  {
   "cell_type": "code",
   "execution_count": 18,
   "metadata": {},
   "outputs": [
    {
     "name": "stdout",
     "output_type": "stream",
     "text": [
      "[Errno 2] No such file or directory: 'file.log'\n",
      "Hello\n"
     ]
    }
   ],
   "source": [
    "try:\n",
    "    with open('file.log') as file:\n",
    "        read_data = file.read()\n",
    "except FileNotFoundError as fnf_error:\n",
    "    print(fnf_error)\n",
    "\n",
    "print(\"Hello\")"
   ]
  },
  {
   "cell_type": "code",
   "execution_count": 19,
   "metadata": {},
   "outputs": [
    {
     "name": "stdout",
     "output_type": "stream",
     "text": [
      "Function can only run on Linux systems.\n",
      "Linux linux_interaction() function was not executed!\n",
      "Hello\n"
     ]
    }
   ],
   "source": [
    "\"\"\"\n",
    "You can have more than one function call in your try clause and anticipate catching various exceptions.\n",
    "\n",
    "A thing to note here is that the code in the try clause will stop as soon as an exception is encountered.\n",
    "\"\"\"\n",
    "\n",
    "try:\n",
    "    linux_interaction()\n",
    "    with open('file.log') as file:\n",
    "        read_data = file.read()\n",
    "except FileNotFoundError as fnf_error:\n",
    "    print(fnf_error)\n",
    "except AssertionError as error:\n",
    "    print(error)\n",
    "    print('Linux linux_interaction() function was not executed!')\n",
    "\n",
    "print(\"Hello\")"
   ]
  },
  {
   "cell_type": "code",
   "execution_count": 20,
   "metadata": {},
   "outputs": [
    {
     "ename": "AssertionError",
     "evalue": "Function can only run on Linux systems.",
     "output_type": "error",
     "traceback": [
      "\u001B[0;31m---------------------------------------------------------------------------\u001B[0m",
      "\u001B[0;31mAssertionError\u001B[0m                            Traceback (most recent call last)",
      "\u001B[0;32m/var/folders/38/bgjzx19n7z50tbjs_n3vpgdw0000gn/T/ipykernel_9253/691858841.py\u001B[0m in \u001B[0;36m<module>\u001B[0;34m\u001B[0m\n\u001B[0;32m----> 1\u001B[0;31m \u001B[0mlinux_interaction\u001B[0m\u001B[0;34m(\u001B[0m\u001B[0;34m)\u001B[0m\u001B[0;34m\u001B[0m\u001B[0;34m\u001B[0m\u001B[0m\n\u001B[0m\u001B[1;32m      2\u001B[0m \u001B[0;32mwith\u001B[0m \u001B[0mopen\u001B[0m\u001B[0;34m(\u001B[0m\u001B[0;34m'file.log'\u001B[0m\u001B[0;34m)\u001B[0m \u001B[0;32mas\u001B[0m \u001B[0mfile\u001B[0m\u001B[0;34m:\u001B[0m\u001B[0;34m\u001B[0m\u001B[0;34m\u001B[0m\u001B[0m\n\u001B[1;32m      3\u001B[0m     \u001B[0mread_data\u001B[0m \u001B[0;34m=\u001B[0m \u001B[0mfile\u001B[0m\u001B[0;34m.\u001B[0m\u001B[0mread\u001B[0m\u001B[0;34m(\u001B[0m\u001B[0;34m)\u001B[0m\u001B[0;34m\u001B[0m\u001B[0;34m\u001B[0m\u001B[0m\n\u001B[1;32m      4\u001B[0m \u001B[0;34m\u001B[0m\u001B[0m\n\u001B[1;32m      5\u001B[0m \u001B[0mprint\u001B[0m\u001B[0;34m(\u001B[0m\u001B[0;34m\"Hello\"\u001B[0m\u001B[0;34m)\u001B[0m\u001B[0;34m\u001B[0m\u001B[0;34m\u001B[0m\u001B[0m\n",
      "\u001B[0;32m/var/folders/38/bgjzx19n7z50tbjs_n3vpgdw0000gn/T/ipykernel_9253/3837151904.py\u001B[0m in \u001B[0;36mlinux_interaction\u001B[0;34m()\u001B[0m\n\u001B[1;32m      1\u001B[0m \u001B[0;32mdef\u001B[0m \u001B[0mlinux_interaction\u001B[0m\u001B[0;34m(\u001B[0m\u001B[0;34m)\u001B[0m\u001B[0;34m:\u001B[0m\u001B[0;34m\u001B[0m\u001B[0;34m\u001B[0m\u001B[0m\n\u001B[0;32m----> 2\u001B[0;31m     \u001B[0;32massert\u001B[0m \u001B[0;34m(\u001B[0m\u001B[0;34m'linux'\u001B[0m \u001B[0;32min\u001B[0m \u001B[0msys\u001B[0m\u001B[0;34m.\u001B[0m\u001B[0mplatform\u001B[0m\u001B[0;34m)\u001B[0m\u001B[0;34m,\u001B[0m \u001B[0;34m\"Function can only run on Linux systems.\"\u001B[0m\u001B[0;34m\u001B[0m\u001B[0;34m\u001B[0m\u001B[0m\n\u001B[0m\u001B[1;32m      3\u001B[0m     \u001B[0mprint\u001B[0m\u001B[0;34m(\u001B[0m\u001B[0;34m'Doing something.'\u001B[0m\u001B[0;34m)\u001B[0m\u001B[0;34m\u001B[0m\u001B[0;34m\u001B[0m\u001B[0m\n",
      "\u001B[0;31mAssertionError\u001B[0m: Function can only run on Linux systems."
     ]
    }
   ],
   "source": [
    "linux_interaction()\n",
    "with open('file.log') as file:\n",
    "    read_data = file.read()\n",
    "    \n",
    "print(\"Hello\")"
   ]
  },
  {
   "cell_type": "markdown",
   "metadata": {},
   "source": [
    "### The else Clause\n",
    "\n",
    "In Python, using the else statement, you can instruct a program to execute a certain block of code only in the absence of exceptions."
   ]
  },
  {
   "cell_type": "code",
   "execution_count": 21,
   "metadata": {},
   "outputs": [
    {
     "name": "stdout",
     "output_type": "stream",
     "text": [
      "Function can only run on Linux systems.\n"
     ]
    }
   ],
   "source": [
    "try:\n",
    "    linux_interaction()\n",
    "except AssertionError as error:\n",
    "    print(error)\n",
    "else:\n",
    "    print('Executing the else clause.')"
   ]
  },
  {
   "cell_type": "code",
   "execution_count": 22,
   "metadata": {},
   "outputs": [
    {
     "name": "stdout",
     "output_type": "stream",
     "text": [
      "Hello, World!\n",
      "Executing the else clause.\n"
     ]
    }
   ],
   "source": [
    "# Because the program did not run into any exceptions, the else clause was executed.\n",
    "try:\n",
    "    print(\"Hello, World!\")\n",
    "except AssertionError as error:\n",
    "    print(error)\n",
    "else:\n",
    "    print('Executing the else clause.')"
   ]
  },
  {
   "cell_type": "code",
   "execution_count": 23,
   "metadata": {},
   "outputs": [
    {
     "name": "stdout",
     "output_type": "stream",
     "text": [
      "Hello, World!\n",
      "[Errno 2] No such file or directory: 'file.log'\n"
     ]
    }
   ],
   "source": [
    "try:\n",
    "    print(\"Hello, World!\")\n",
    "except AssertionError as error:\n",
    "    print(error)\n",
    "else:\n",
    "    try:\n",
    "        with open('file.log') as file:\n",
    "            read_data = file.read()\n",
    "    except FileNotFoundError as fnf_error:\n",
    "        print(fnf_error)"
   ]
  },
  {
   "cell_type": "markdown",
   "metadata": {},
   "source": [
    "### Cleaning Up After Using finally\n",
    "\n",
    "Imagine that you always had to implement some sort of action to clean up after executing your code. Python enables you to do so using the finally clause."
   ]
  },
  {
   "cell_type": "code",
   "execution_count": 24,
   "metadata": {},
   "outputs": [
    {
     "name": "stdout",
     "output_type": "stream",
     "text": [
      "Function can only run on Linux systems.\n",
      "Cleaning up, irrespective of any exceptions.\n"
     ]
    }
   ],
   "source": [
    "try:\n",
    "    linux_interaction()\n",
    "except AssertionError as error:\n",
    "    print(error)\n",
    "else:\n",
    "    try:\n",
    "        with open('file.log') as file:\n",
    "            read_data = file.read()\n",
    "    except FileNotFoundError as fnf_error:\n",
    "        print(fnf_error)\n",
    "finally:\n",
    "    print('Cleaning up, irrespective of any exceptions.')"
   ]
  },
  {
   "cell_type": "markdown",
   "metadata": {},
   "source": [
    "### Creating Own Exceptions"
   ]
  },
  {
   "cell_type": "code",
   "execution_count": 25,
   "metadata": {},
   "outputs": [
    {
     "ename": "SalaryNotInRangeError",
     "evalue": "100000 -> Salary is not in (5000, 15000) range",
     "output_type": "error",
     "traceback": [
      "\u001B[0;31m---------------------------------------------------------------------------\u001B[0m",
      "\u001B[0;31mSalaryNotInRangeError\u001B[0m                     Traceback (most recent call last)",
      "\u001B[0;32m/var/folders/38/bgjzx19n7z50tbjs_n3vpgdw0000gn/T/ipykernel_9253/2808813248.py\u001B[0m in \u001B[0;36m<module>\u001B[0;34m\u001B[0m\n\u001B[1;32m     18\u001B[0m \u001B[0msalary\u001B[0m \u001B[0;34m=\u001B[0m \u001B[0;36m100_000\u001B[0m\u001B[0;34m\u001B[0m\u001B[0;34m\u001B[0m\u001B[0m\n\u001B[1;32m     19\u001B[0m \u001B[0;32mif\u001B[0m \u001B[0;32mnot\u001B[0m \u001B[0;36m5_000\u001B[0m \u001B[0;34m<\u001B[0m \u001B[0msalary\u001B[0m \u001B[0;34m<\u001B[0m \u001B[0;36m15_000\u001B[0m\u001B[0;34m:\u001B[0m\u001B[0;34m\u001B[0m\u001B[0;34m\u001B[0m\u001B[0m\n\u001B[0;32m---> 20\u001B[0;31m     \u001B[0;32mraise\u001B[0m \u001B[0mSalaryNotInRangeError\u001B[0m\u001B[0;34m(\u001B[0m\u001B[0msalary\u001B[0m\u001B[0;34m)\u001B[0m\u001B[0;34m\u001B[0m\u001B[0;34m\u001B[0m\u001B[0m\n\u001B[0m",
      "\u001B[0;31mSalaryNotInRangeError\u001B[0m: 100000 -> Salary is not in (5000, 15000) range"
     ]
    }
   ],
   "source": [
    "class SalaryNotInRangeError(Exception):\n",
    "    \"\"\"Exception raised for errors in the input salary.\n",
    "    \n",
    "    Attributes:\n",
    "        salary -- input salary which caused the error\n",
    "        message -- explanation of the error\n",
    "    \"\"\"\n",
    "\n",
    "    def __init__(self, salary, message=\"Salary is not in (5000, 15000) range\"):\n",
    "        self.salary = salary\n",
    "        self.message = message\n",
    "        super().__init__(self.message)\n",
    "        \n",
    "    def __str__(self):\n",
    "        return f'{self.salary} -> {self.message}'\n",
    "\n",
    "\n",
    "salary = 100_000\n",
    "if not 5_000 < salary < 15_000:\n",
    "    raise SalaryNotInRangeError(salary)"
   ]
  },
  {
   "cell_type": "markdown",
   "metadata": {},
   "source": [
    "### Summing Up\n",
    "\n",
    "After seeing the difference between syntax errors and exceptions, you learned about various ways to raise, catch, and handle exceptions in Python.\n",
    "\n",
    "- 'raise' allows you to throw an exception at any time.\n",
    "- 'assert' enables you to verify if a certain condition is met and throw an exception if it isn’t.\n",
    "- in the 'try' clause, all statements are executed until an exception is encountered.\n",
    "- 'except' is used to catch and handle the exception(s) that are encountered in the try clause.\n",
    "- 'else' lets you code sections that should run only when no exceptions are encountered in the try clause.\n",
    "- 'finally' enables you to execute sections of code that should always run, with or without any previously encountered exceptions."
   ]
  },
  {
   "cell_type": "markdown",
   "metadata": {},
   "source": [
    "### References\n",
    "<ol>\n",
    "<li> <a href=\"https://realpython.com/python-exceptions/\">Python Exceptions: An Introduction</a> </li>\n",
    "<li> <a href=\"https://docs.python.org/3.9/library/exceptions.html#exception-hierarchy\">Exception hierarchy</a> </li>\n",
    "</ol>"
   ]
  }
 ],
 "metadata": {
  "kernelspec": {
   "display_name": "Python 3 (ipykernel)",
   "language": "python",
   "name": "python3"
  },
  "language_info": {
   "codemirror_mode": {
    "name": "ipython",
    "version": 3
   },
   "file_extension": ".py",
   "mimetype": "text/x-python",
   "name": "python",
   "nbconvert_exporter": "python",
   "pygments_lexer": "ipython3",
   "version": "3.8.10"
  }
 },
 "nbformat": 4,
 "nbformat_minor": 2
}