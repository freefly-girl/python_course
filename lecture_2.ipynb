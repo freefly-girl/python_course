{
 "cells": [
  {
   "cell_type": "markdown",
   "metadata": {},
   "source": [
    "# Lecture 2: Functions (Part 1)\n",
    "\n",
    "> Syntax of Function\n",
    "\n",
    "> Function Arguments\n",
    "\n",
    "> Scope of Variables\n",
    "\n",
    "> Keywords: global and nonlocal\n",
    "\n",
    "> LEGB rule"
   ]
  },
  {
   "cell_type": "markdown",
   "metadata": {},
   "source": [
    "### Syntax of Function"
   ]
  },
  {
   "cell_type": "code",
   "execution_count": 1,
   "metadata": {},
   "outputs": [],
   "source": [
    "\"\"\"Defining a Function\n",
    "\n",
    "There are simple rules to define a function in Python:\n",
    "\n",
    "> Function blocks begin with the keyword 'def' followed by the function name and parentheses '( )'.\n",
    "\n",
    "> Any input parameters or arguments should be placed within these parentheses. \n",
    "  You can also define parameters inside these parentheses.\n",
    "\n",
    "> The code block within every function starts with a colon ':' and is indented.\n",
    "\n",
    "> The statement 'return [expression]' exits a function, optionally passing back an expression to the caller. \n",
    "  A return statement with no arguments is the same as 'return None'.\n",
    "\"\"\"\n",
    "\n",
    "# example 1\n",
    "def add(a, b):\n",
    "    return a + b\n",
    "\n",
    "# example 2\n",
    "def add(a, b):\n",
    "    print(a + b)"
   ]
  },
  {
   "cell_type": "code",
   "execution_count": 2,
   "metadata": {},
   "outputs": [
    {
     "name": "stdout",
     "output_type": "stream",
     "text": [
      "3\n"
     ]
    }
   ],
   "source": [
    "\"\"\"Calling a Function\n",
    "\n",
    "Description: Defining a function only gives it a name, specifies the parameters\n",
    "             that are to be included in the function and structures the blocks of code.\n",
    "\"\"\"\n",
    "\n",
    "def add(a, b):\n",
    "    return a + b\n",
    "\n",
    "print(add(1, 2))"
   ]
  },
  {
   "cell_type": "markdown",
   "metadata": {},
   "source": [
    "### Function Arguments"
   ]
  },
  {
   "cell_type": "code",
   "execution_count": 3,
   "metadata": {},
   "outputs": [
    {
     "data": {
      "text/plain": "'Function Arguments\\n\\nThere are 4 types of arguments:\\n    > Required arguments\\n    > Keyword arguments\\n    > Default arguments\\n    > Variable-length arguments\\n'"
     },
     "execution_count": 3,
     "metadata": {},
     "output_type": "execute_result"
    }
   ],
   "source": [
    "\"\"\"Function Arguments\n",
    "\n",
    "There are 4 types of arguments:\n",
    "    > Required arguments\n",
    "    > Keyword arguments\n",
    "    > Default arguments\n",
    "    > Variable-length arguments\n",
    "\"\"\""
   ]
  },
  {
   "cell_type": "code",
   "execution_count": 4,
   "metadata": {},
   "outputs": [
    {
     "name": "stdout",
     "output_type": "stream",
     "text": [
      "1\n",
      "-1\n"
     ]
    }
   ],
   "source": [
    "\"\"\"Required arguments\n",
    "\n",
    "Description: Required arguments are the arguments passed to a function in correct positional order.\n",
    "\"\"\"\n",
    "\n",
    "def minus(a, b):\n",
    "    return a - b\n",
    "\n",
    "print(minus(2, 1))\n",
    "print(minus(1, 2))"
   ]
  },
  {
   "cell_type": "code",
   "execution_count": 5,
   "metadata": {},
   "outputs": [
    {
     "name": "stdout",
     "output_type": "stream",
     "text": [
      "1\n",
      "1\n"
     ]
    }
   ],
   "source": [
    "\"\"\"Keyword arguments\n",
    "\n",
    "Description: Keyword arguments are related to the function calls.\n",
    "             When you use keyword arguments in a function call,\n",
    "             the caller identifies the arguments by the parameter name.\n",
    "\"\"\"\n",
    "\n",
    "def minus(a, b):\n",
    "    return a - b\n",
    "\n",
    "print(minus(a = 2, b = 1))\n",
    "print(minus(b = 1, a = 2))"
   ]
  },
  {
   "cell_type": "code",
   "execution_count": 6,
   "metadata": {},
   "outputs": [
    {
     "name": "stdout",
     "output_type": "stream",
     "text": [
      "Name: Elon\n",
      "Age: 50\n",
      "Name: Elon\n",
      "Age: 35\n"
     ]
    }
   ],
   "source": [
    "\"\"\"Default arguments\n",
    "\n",
    "Description: A default argument is an argument that assumes a default value\n",
    "             if a value is not provided in the function call for that argument.\n",
    "\"\"\"\n",
    "\n",
    "def print_info(name, age=35):\n",
    "    print(f\"Name: {name}\")\n",
    "    print(f\"Age: {age}\")\n",
    "\n",
    "print_info(age=50, name=\"Elon\")\n",
    "print_info(name=\"Elon\")"
   ]
  },
  {
   "cell_type": "code",
   "execution_count": 7,
   "metadata": {},
   "outputs": [
    {
     "name": "stdout",
     "output_type": "stream",
     "text": [
      "Elon\n",
      "Musk\n",
      "name : Elon\n",
      "surname : Musk\n"
     ]
    }
   ],
   "source": [
    "\"\"\"Variable-length arguments (*args, **kwargs)\n",
    "\n",
    "Description: We may need to process a function for more arguments than you specified while defining the function. \n",
    "             These arguments are called variable-length arguments and are not named in the function definition, \n",
    "             unlike required and default arguments.\n",
    "\n",
    "*args:    Receive multiple arguments as a tuple;\n",
    "**kwargs: Receive multiple keyword arguments as a dictionary.\n",
    "\"\"\"\n",
    "\n",
    "# examples\n",
    "def print_info(*args):\n",
    "    for argument in args:\n",
    "        print(argument)\n",
    "\n",
    "print_info(\"Elon\", \"Musk\")\n",
    "\n",
    "\n",
    "def print_info(**kwargs):\n",
    "    for key, value in kwargs.items():\n",
    "        print(f\"{key} : {value}\")\n",
    "\n",
    "print_info(name=\"Elon\", surname=\"Musk\")"
   ]
  },
  {
   "cell_type": "markdown",
   "metadata": {},
   "source": [
    "### Scope of Variables"
   ]
  },
  {
   "cell_type": "code",
   "execution_count": 8,
   "metadata": {},
   "outputs": [
    {
     "name": "stdout",
     "output_type": "stream",
     "text": [
      "Inside the function local total: 30\n",
      "Outside the function global total: 0\n"
     ]
    }
   ],
   "source": [
    "\"\"\"Scope of Variables\n",
    "\n",
    "There are two basic scopes of variables in Python: Global variables and Local variables.\n",
    "\n",
    "Description: All variables in a program may not be accessible at all locations in that program. \n",
    "             This depends on where you have declared a variable.\n",
    "             Variables that are defined inside a function body have a local scope,\n",
    "             and those defined outside have a global scope.\n",
    "\"\"\"\n",
    "\n",
    "total = 0  # this is global variable\n",
    "def add(a, b):\n",
    "    total = a + b  # here total is local variable\n",
    "    print(f\"Inside the function local total: {total}\")\n",
    "    return total\n",
    "\n",
    "add(10, 20)\n",
    "print(f\"Outside the function global total: {total}\")"
   ]
  },
  {
   "cell_type": "markdown",
   "metadata": {},
   "source": [
    "#### Keyword: global"
   ]
  },
  {
   "cell_type": "code",
   "execution_count": 9,
   "metadata": {},
   "outputs": [
    {
     "name": "stdout",
     "output_type": "stream",
     "text": [
      "1\n"
     ]
    }
   ],
   "source": [
    "\"\"\"Global Keyword\n",
    "\n",
    "Description: In Python, 'global' keyword allows you to modify the variable outside of the current scope.\n",
    "             It is used to create a global variable and make changes to the variable in a local context.\n",
    "\"\"\"\n",
    "\n",
    "\n",
    "\"\"\"Example 1: Accessing Global Variable From Inside a Function\"\"\"\n",
    "\n",
    "c = 1 # global variable\n",
    "\n",
    "def add():\n",
    "    print(c)\n",
    "\n",
    "add()"
   ]
  },
  {
   "cell_type": "code",
   "execution_count": 10,
   "metadata": {},
   "outputs": [
    {
     "ename": "UnboundLocalError",
     "evalue": "local variable 'c' referenced before assignment",
     "output_type": "error",
     "traceback": [
      "\u001B[0;31m---------------------------------------------------------------------------\u001B[0m",
      "\u001B[0;31mUnboundLocalError\u001B[0m                         Traceback (most recent call last)",
      "\u001B[0;32m/var/folders/38/bgjzx19n7z50tbjs_n3vpgdw0000gn/T/ipykernel_8871/3087629379.py\u001B[0m in \u001B[0;36m<module>\u001B[0;34m\u001B[0m\n\u001B[1;32m      7\u001B[0m     \u001B[0mprint\u001B[0m\u001B[0;34m(\u001B[0m\u001B[0mc\u001B[0m\u001B[0;34m)\u001B[0m\u001B[0;34m\u001B[0m\u001B[0;34m\u001B[0m\u001B[0m\n\u001B[1;32m      8\u001B[0m \u001B[0;34m\u001B[0m\u001B[0m\n\u001B[0;32m----> 9\u001B[0;31m \u001B[0madd\u001B[0m\u001B[0;34m(\u001B[0m\u001B[0;34m)\u001B[0m\u001B[0;34m\u001B[0m\u001B[0;34m\u001B[0m\u001B[0m\n\u001B[0m\u001B[1;32m     10\u001B[0m \u001B[0;34m\u001B[0m\u001B[0m\n",
      "\u001B[0;32m/var/folders/38/bgjzx19n7z50tbjs_n3vpgdw0000gn/T/ipykernel_8871/3087629379.py\u001B[0m in \u001B[0;36madd\u001B[0;34m()\u001B[0m\n\u001B[1;32m      4\u001B[0m \u001B[0;34m\u001B[0m\u001B[0m\n\u001B[1;32m      5\u001B[0m \u001B[0;32mdef\u001B[0m \u001B[0madd\u001B[0m\u001B[0;34m(\u001B[0m\u001B[0;34m)\u001B[0m\u001B[0;34m:\u001B[0m\u001B[0;34m\u001B[0m\u001B[0;34m\u001B[0m\u001B[0m\n\u001B[0;32m----> 6\u001B[0;31m     \u001B[0mc\u001B[0m \u001B[0;34m+=\u001B[0m \u001B[0;36m2\u001B[0m  \u001B[0;31m# c = c + 2\u001B[0m\u001B[0;34m\u001B[0m\u001B[0;34m\u001B[0m\u001B[0m\n\u001B[0m\u001B[1;32m      7\u001B[0m     \u001B[0mprint\u001B[0m\u001B[0;34m(\u001B[0m\u001B[0mc\u001B[0m\u001B[0;34m)\u001B[0m\u001B[0;34m\u001B[0m\u001B[0;34m\u001B[0m\u001B[0m\n\u001B[1;32m      8\u001B[0m \u001B[0;34m\u001B[0m\u001B[0m\n",
      "\u001B[0;31mUnboundLocalError\u001B[0m: local variable 'c' referenced before assignment"
     ]
    }
   ],
   "source": [
    "\"\"\"Example 2: Modifying Global Variable From Inside the Function\"\"\"\n",
    "\n",
    "c = 1 # global variable\n",
    "    \n",
    "def add():\n",
    "    c += 2  # c = c + 2\n",
    "    print(c)\n",
    "\n",
    "add()"
   ]
  },
  {
   "cell_type": "code",
   "execution_count": null,
   "metadata": {},
   "outputs": [],
   "source": [
    "\"\"\"Example 3: Changing Global Variable From Inside a Function using global\"\"\"\n",
    "\n",
    "c = 0  # global variable\n",
    "\n",
    "def add():\n",
    "    global c\n",
    "    c += 2\n",
    "    print(f\"Inside add: {c}\")\n",
    "\n",
    "add()\n",
    "print(f\"In main: {c}\")"
   ]
  },
  {
   "cell_type": "markdown",
   "metadata": {},
   "source": [
    "#### Keyword: nonlocal"
   ]
  },
  {
   "cell_type": "code",
   "execution_count": null,
   "metadata": {},
   "outputs": [],
   "source": [
    "\"\"\"Nonlocal Keyword\n",
    "\n",
    "Description: The 'nonlocal' keyword is used to work with variables inside nested functions, \n",
    "             where the variable should not belong to the inner function.\n",
    "\"\"\""
   ]
  },
  {
   "cell_type": "code",
   "execution_count": null,
   "metadata": {},
   "outputs": [],
   "source": [
    "\"\"\"Example 1: Without the 'nonlocal' keyword\"\"\"\n",
    "\n",
    "def myfunc1():\n",
    "    x = \"John\"\n",
    "    \n",
    "    def myfunc2():\n",
    "        x = \"hello\"\n",
    "    \n",
    "    myfunc2()\n",
    "    return x\n",
    "\n",
    "print(myfunc1())"
   ]
  },
  {
   "cell_type": "code",
   "execution_count": null,
   "metadata": {},
   "outputs": [],
   "source": [
    "\"\"\"Example 2: To use the variable x as a non local variable\"\"\"\n",
    "\n",
    "def myfunc1():\n",
    "    x = \"John\"\n",
    "    \n",
    "    def myfunc2():\n",
    "        nonlocal x\n",
    "        x = \"hello\"\n",
    "    \n",
    "    myfunc2()\n",
    "    return x\n",
    "\n",
    "print(myfunc1())"
   ]
  },
  {
   "cell_type": "markdown",
   "metadata": {},
   "source": [
    "### LEGB rule"
   ]
  },
  {
   "cell_type": "code",
   "execution_count": null,
   "metadata": {},
   "outputs": [],
   "source": [
    "\"\"\"LEGB rule\n",
    "\n",
    "Description: In Python, the LEGB rule is used to decide the order in which the namespaces are to be searched \n",
    "             for scope resolution. The scopes are listed below in terms of hierarchy:\n",
    "\n",
    "> Local (L):    Defined inside function/class\n",
    "> Enclosed (E): Defined inside enclosing functions (Nested function concept)\n",
    "> Global (G):   Defined at the uppermost level\n",
    "> Built-in (B): Reserved names in Python built-in modules.\n",
    "\"\"\""
   ]
  },
  {
   "cell_type": "code",
   "execution_count": null,
   "metadata": {},
   "outputs": [],
   "source": [
    "\"\"\"Local Scope\n",
    "\n",
    "Description: Local scope refers to variables defined in current function. \n",
    "             Always, a function will first look up for a variable name in its local scope. \n",
    "             Only if it does not find it there, the outer scopes are checked.\n",
    "\"\"\"\n",
    "\n",
    "# Local Scope\n",
    "pi = 'global pi variable'\n",
    "def inner():\n",
    "    pi = 'inner pi variable'\n",
    "    print(pi)\n",
    "\n",
    "inner()"
   ]
  },
  {
   "cell_type": "code",
   "execution_count": null,
   "metadata": {},
   "outputs": [],
   "source": [
    "\"\"\"Local and Global Scopes\n",
    "\n",
    "Description: If a variable is not defined in local scope, then,\n",
    "             it is checked for in the higher scope, in this case, the global scope.\n",
    "\"\"\"\n",
    "\n",
    "# Global Scope\n",
    "pi = 'global pi variable'\n",
    "def inner():\n",
    "    pi = 'inner pi variable'\n",
    "    print(pi)\n",
    "\n",
    "inner()\n",
    "print(pi)"
   ]
  },
  {
   "cell_type": "code",
   "execution_count": null,
   "metadata": {},
   "outputs": [],
   "source": [
    "\"\"\"Local, Enclosed and Global Scopes\n",
    "\n",
    "Description: For the enclosed scope, we need to define an outer function enclosing the inner function, \n",
    "             comment out the local 'pi' variable of inner function and refer to 'pi' using the nonlocal keyword.\n",
    "\"\"\"\n",
    "\n",
    "# Enclosed Scope\n",
    "pi = 'global pi variable'\n",
    "def outer():\n",
    "    pi = 'outer pi variable'\n",
    "    def inner():\n",
    "        # pi = 'inner pi variable'\n",
    "        print(pi)\n",
    "    inner()\n",
    "\n",
    "outer()\n",
    "print(pi)"
   ]
  },
  {
   "cell_type": "code",
   "execution_count": null,
   "metadata": {},
   "outputs": [],
   "source": [
    "\"\"\"Local, Enclosed, Global and Built-in Scopes\n",
    "\n",
    "Description: The final check can be done by importing 'pi' from math module \n",
    "             and commenting the global, enclosed and local 'pi' variables.\n",
    "\"\"\"\n",
    "\n",
    "# Built-in Scope\n",
    "from math import pi\n",
    "\n",
    "# pi = 'global pi variable'\n",
    "def outer():\n",
    "    # pi = 'outer pi variable'\n",
    "    def inner():\n",
    "        # pi = 'inner pi variable'\n",
    "        print(pi)\n",
    "    inner()\n",
    "\n",
    "outer()"
   ]
  },
  {
   "cell_type": "markdown",
   "metadata": {},
   "source": [
    "### References:\n",
    "<ol>\n",
    "<li> <a href=\"https://www.tutorialspoint.com/python/python_functions.htm\">Python Functions</a> </li>\n",
    "<li> <a href=\"https://www.geeksforgeeks.org/scope-resolution-in-python-legb-rule/\">LEGB Rule</a> </li>\n",
    "<li> <a href=\"https://www.programiz.com/python-programming/global-keyword\">Python Global Keyword</a> </li>\n",
    "<li> <a href=\"https://www.w3schools.com/python/ref_keyword_nonlocal.asp\">Python Nonlocal Keyword</a> </li>\n",
    "</ol>"
   ]
  }
 ],
 "metadata": {
  "kernelspec": {
   "display_name": "Python 3",
   "language": "python",
   "name": "python3"
  },
  "language_info": {
   "codemirror_mode": {
    "name": "ipython",
    "version": 3
   },
   "file_extension": ".py",
   "mimetype": "text/x-python",
   "name": "python",
   "nbconvert_exporter": "python",
   "pygments_lexer": "ipython3",
   "version": "3.6.4"
  }
 },
 "nbformat": 4,
 "nbformat_minor": 4
}