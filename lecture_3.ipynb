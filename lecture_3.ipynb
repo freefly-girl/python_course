{
 "cells": [
  {
   "cell_type": "markdown",
   "metadata": {},
   "source": [
    "# Lecture 3: Functions (Part 2)\n",
    "\n",
    "> Anonymous/Lambda Function\n",
    "\n",
    "> Built-in Functions: map, filter и zip\n",
    "    \n",
    "> List/dict/set comprehensions\n",
    "\n",
    "> Functional Programming: map, filter и zip (built-in functions)\n",
    "\n",
    "> Type Annotations\n",
    "\n",
    "> Exercises"
   ]
  },
  {
   "cell_type": "markdown",
   "metadata": {},
   "source": [
    "### Anonymous/Lambda Function\n",
    "\n",
    "An anonymous function is a function that is defined without a name.\n",
    "\n",
    "Anonymous functions are defined using the 'lambda' keyword.\n",
    "\n",
    "Anonymous functions are also called lambda functions."
   ]
  },
  {
   "cell_type": "code",
   "execution_count": 1,
   "metadata": {},
   "outputs": [
    {
     "data": {
      "text/plain": [
       "10"
      ]
     },
     "execution_count": 1,
     "metadata": {},
     "output_type": "execute_result"
    }
   ],
   "source": [
    "# a normal function\n",
    "def double(x):\n",
    "    return x * 2\n",
    "\n",
    "# example of Lambda Function\n",
    "double = lambda x: x * 2\n",
    "\n",
    "double(5)"
   ]
  },
  {
   "cell_type": "markdown",
   "metadata": {},
   "source": [
    "### Functional Programming: map, filter и zip (built-in functions)"
   ]
  },
  {
   "cell_type": "code",
   "execution_count": 2,
   "metadata": {},
   "outputs": [
    {
     "data": {
      "text/plain": [
       "(map, filter, zip)"
      ]
     },
     "execution_count": 2,
     "metadata": {},
     "output_type": "execute_result"
    }
   ],
   "source": [
    "# We will consider three built-in functions\n",
    "__builtin__.__dict__['map'], __builtin__.__dict__['filter'], __builtin__.__dict__['zip']"
   ]
  },
  {
   "cell_type": "code",
   "execution_count": 3,
   "metadata": {},
   "outputs": [
    {
     "data": {
      "text/plain": [
       "{'__name__': 'builtins',\n",
       " '__doc__': \"Built-in functions, exceptions, and other objects.\\n\\nNoteworthy: None is the `nil' object; Ellipsis represents `...' in slices.\",\n",
       " '__package__': '',\n",
       " '__loader__': _frozen_importlib.BuiltinImporter,\n",
       " '__spec__': ModuleSpec(name='builtins', loader=<class '_frozen_importlib.BuiltinImporter'>),\n",
       " '__build_class__': <function __build_class__>,\n",
       " '__import__': <function __import__>,\n",
       " 'abs': <function abs(x, /)>,\n",
       " 'all': <function all(iterable, /)>,\n",
       " 'any': <function any(iterable, /)>,\n",
       " 'ascii': <function ascii(obj, /)>,\n",
       " 'bin': <function bin(number, /)>,\n",
       " 'breakpoint': <function breakpoint>,\n",
       " 'callable': <function callable(obj, /)>,\n",
       " 'chr': <function chr(i, /)>,\n",
       " 'compile': <function compile(source, filename, mode, flags=0, dont_inherit=False, optimize=-1, *, _feature_version=-1)>,\n",
       " 'delattr': <function delattr(obj, name, /)>,\n",
       " 'dir': <function dir>,\n",
       " 'divmod': <function divmod(x, y, /)>,\n",
       " 'eval': <function eval(source, globals=None, locals=None, /)>,\n",
       " 'exec': <function exec(source, globals=None, locals=None, /)>,\n",
       " 'format': <function format(value, format_spec='', /)>,\n",
       " 'getattr': <function getattr>,\n",
       " 'globals': <function globals()>,\n",
       " 'hasattr': <function hasattr(obj, name, /)>,\n",
       " 'hash': <function hash(obj, /)>,\n",
       " 'hex': <function hex(number, /)>,\n",
       " 'id': <function id(obj, /)>,\n",
       " 'input': <bound method Kernel.raw_input of <ipykernel.ipkernel.IPythonKernel object at 0x7f83dcdeed60>>,\n",
       " 'isinstance': <function isinstance(obj, class_or_tuple, /)>,\n",
       " 'issubclass': <function issubclass(cls, class_or_tuple, /)>,\n",
       " 'iter': <function iter>,\n",
       " 'len': <function len(obj, /)>,\n",
       " 'locals': <function locals()>,\n",
       " 'max': <function max>,\n",
       " 'min': <function min>,\n",
       " 'next': <function next>,\n",
       " 'oct': <function oct(number, /)>,\n",
       " 'ord': <function ord(c, /)>,\n",
       " 'pow': <function pow(base, exp, mod=None)>,\n",
       " 'print': <function print>,\n",
       " 'repr': <function repr(obj, /)>,\n",
       " 'round': <function round(number, ndigits=None)>,\n",
       " 'setattr': <function setattr(obj, name, value, /)>,\n",
       " 'sorted': <function sorted(iterable, /, *, key=None, reverse=False)>,\n",
       " 'sum': <function sum(iterable, /, start=0)>,\n",
       " 'vars': <function vars>,\n",
       " 'None': None,\n",
       " 'Ellipsis': Ellipsis,\n",
       " 'NotImplemented': NotImplemented,\n",
       " 'False': False,\n",
       " 'True': True,\n",
       " 'bool': bool,\n",
       " 'memoryview': memoryview,\n",
       " 'bytearray': bytearray,\n",
       " 'bytes': bytes,\n",
       " 'classmethod': classmethod,\n",
       " 'complex': complex,\n",
       " 'dict': dict,\n",
       " 'enumerate': enumerate,\n",
       " 'filter': filter,\n",
       " 'float': float,\n",
       " 'frozenset': frozenset,\n",
       " 'property': property,\n",
       " 'int': int,\n",
       " 'list': list,\n",
       " 'map': map,\n",
       " 'object': object,\n",
       " 'range': range,\n",
       " 'reversed': reversed,\n",
       " 'set': set,\n",
       " 'slice': slice,\n",
       " 'staticmethod': staticmethod,\n",
       " 'str': str,\n",
       " 'super': super,\n",
       " 'tuple': tuple,\n",
       " 'type': type,\n",
       " 'zip': zip,\n",
       " '__debug__': True,\n",
       " 'BaseException': BaseException,\n",
       " 'Exception': Exception,\n",
       " 'TypeError': TypeError,\n",
       " 'StopAsyncIteration': StopAsyncIteration,\n",
       " 'StopIteration': StopIteration,\n",
       " 'GeneratorExit': GeneratorExit,\n",
       " 'SystemExit': SystemExit,\n",
       " 'KeyboardInterrupt': KeyboardInterrupt,\n",
       " 'ImportError': ImportError,\n",
       " 'ModuleNotFoundError': ModuleNotFoundError,\n",
       " 'OSError': OSError,\n",
       " 'EnvironmentError': OSError,\n",
       " 'IOError': OSError,\n",
       " 'EOFError': EOFError,\n",
       " 'RuntimeError': RuntimeError,\n",
       " 'RecursionError': RecursionError,\n",
       " 'NotImplementedError': NotImplementedError,\n",
       " 'NameError': NameError,\n",
       " 'UnboundLocalError': UnboundLocalError,\n",
       " 'AttributeError': AttributeError,\n",
       " 'SyntaxError': SyntaxError,\n",
       " 'IndentationError': IndentationError,\n",
       " 'TabError': TabError,\n",
       " 'LookupError': LookupError,\n",
       " 'IndexError': IndexError,\n",
       " 'KeyError': KeyError,\n",
       " 'ValueError': ValueError,\n",
       " 'UnicodeError': UnicodeError,\n",
       " 'UnicodeEncodeError': UnicodeEncodeError,\n",
       " 'UnicodeDecodeError': UnicodeDecodeError,\n",
       " 'UnicodeTranslateError': UnicodeTranslateError,\n",
       " 'AssertionError': AssertionError,\n",
       " 'ArithmeticError': ArithmeticError,\n",
       " 'FloatingPointError': FloatingPointError,\n",
       " 'OverflowError': OverflowError,\n",
       " 'ZeroDivisionError': ZeroDivisionError,\n",
       " 'SystemError': SystemError,\n",
       " 'ReferenceError': ReferenceError,\n",
       " 'MemoryError': MemoryError,\n",
       " 'BufferError': BufferError,\n",
       " 'Warning': Warning,\n",
       " 'UserWarning': UserWarning,\n",
       " 'DeprecationWarning': DeprecationWarning,\n",
       " 'PendingDeprecationWarning': PendingDeprecationWarning,\n",
       " 'SyntaxWarning': SyntaxWarning,\n",
       " 'RuntimeWarning': RuntimeWarning,\n",
       " 'FutureWarning': FutureWarning,\n",
       " 'ImportWarning': ImportWarning,\n",
       " 'UnicodeWarning': UnicodeWarning,\n",
       " 'BytesWarning': BytesWarning,\n",
       " 'ResourceWarning': ResourceWarning,\n",
       " 'ConnectionError': ConnectionError,\n",
       " 'BlockingIOError': BlockingIOError,\n",
       " 'BrokenPipeError': BrokenPipeError,\n",
       " 'ChildProcessError': ChildProcessError,\n",
       " 'ConnectionAbortedError': ConnectionAbortedError,\n",
       " 'ConnectionRefusedError': ConnectionRefusedError,\n",
       " 'ConnectionResetError': ConnectionResetError,\n",
       " 'FileExistsError': FileExistsError,\n",
       " 'FileNotFoundError': FileNotFoundError,\n",
       " 'IsADirectoryError': IsADirectoryError,\n",
       " 'NotADirectoryError': NotADirectoryError,\n",
       " 'InterruptedError': InterruptedError,\n",
       " 'PermissionError': PermissionError,\n",
       " 'ProcessLookupError': ProcessLookupError,\n",
       " 'TimeoutError': TimeoutError,\n",
       " 'open': <function io.open(file, mode='r', buffering=-1, encoding=None, errors=None, newline=None, closefd=True, opener=None)>,\n",
       " 'copyright': Copyright (c) 2001-2021 Python Software Foundation.\n",
       " All Rights Reserved.\n",
       " \n",
       " Copyright (c) 2000 BeOpen.com.\n",
       " All Rights Reserved.\n",
       " \n",
       " Copyright (c) 1995-2001 Corporation for National Research Initiatives.\n",
       " All Rights Reserved.\n",
       " \n",
       " Copyright (c) 1991-1995 Stichting Mathematisch Centrum, Amsterdam.\n",
       " All Rights Reserved.,\n",
       " 'credits':     Thanks to CWI, CNRI, BeOpen.com, Zope Corporation and a cast of thousands\n",
       "     for supporting Python development.  See www.python.org for more information.,\n",
       " 'license': Type license() to see the full license text,\n",
       " 'help': Type help() for interactive help, or help(object) for help about object.,\n",
       " 'execfile': <function _pydev_imps._pydev_execfile.execfile(file, glob=None, loc=None)>,\n",
       " 'runfile': <function _pydev_bundle.pydev_umd.runfile(filename, args=None, wdir=None, namespace=None)>,\n",
       " '__IPYTHON__': True,\n",
       " 'display': <function IPython.core.display.display(*objs, include=None, exclude=None, metadata=None, transient=None, display_id=None, **kwargs)>,\n",
       " 'get_ipython': <bound method InteractiveShell.get_ipython of <ipykernel.zmqshell.ZMQInteractiveShell object at 0x7f83dcde8340>>}"
      ]
     },
     "execution_count": 3,
     "metadata": {},
     "output_type": "execute_result"
    }
   ],
   "source": [
    "# all built-in functions\n",
    "__builtin__.__dict__"
   ]
  },
  {
   "cell_type": "markdown",
   "metadata": {},
   "source": [
    "#### map()"
   ]
  },
  {
   "cell_type": "code",
   "execution_count": 4,
   "metadata": {},
   "outputs": [
    {
     "name": "stdout",
     "output_type": "stream",
     "text": [
      "<map object at 0x7f83dceced90>\n",
      "(1, 4, 9, 16)\n"
     ]
    }
   ],
   "source": [
    "\"\"\"The map() function applies a given function to each item of an iterable (list, tuple etc.) and returns an iterator.\n",
    "\n",
    "Syntax: map(function, iterable, ...)\n",
    "        function - a function that perform some action to each element of an iterable;\n",
    "        iterable - an iterable like sets, lists, tuples, etc\n",
    "        You can pass more than one iterable to the map() function.\n",
    "        The map() function returns an object of map class.\n",
    "\n",
    "Link: https://www.programiz.com/python-programming/methods/built-in/map\n",
    "\"\"\"\n",
    "# example 1\n",
    "numbers = (1, 2, 3, 4)\n",
    "\n",
    "def calculate_square(n):\n",
    "    return n * n\n",
    "\n",
    "result = map(calculate_square, numbers)\n",
    "print(result)\n",
    "\n",
    "# converting map object to tuple\n",
    "nums_square = tuple(result)\n",
    "print(nums_square)"
   ]
  },
  {
   "cell_type": "code",
   "execution_count": 5,
   "metadata": {},
   "outputs": [],
   "source": [
    "# help(map)"
   ]
  },
  {
   "cell_type": "code",
   "execution_count": 6,
   "metadata": {},
   "outputs": [
    {
     "name": "stdout",
     "output_type": "stream",
     "text": [
      "<map object at 0x7f83dced8940>\n",
      "(1, 4, 9, 16)\n"
     ]
    }
   ],
   "source": [
    "# example 2\n",
    "numbers = (1, 2, 3, 4)\n",
    "\n",
    "result = map(lambda x: x * x, numbers)\n",
    "print(result)\n",
    "\n",
    "# converting map object to tuple\n",
    "nums_square = tuple(result)\n",
    "print(nums_square)"
   ]
  },
  {
   "cell_type": "markdown",
   "metadata": {},
   "source": [
    "#### filter()"
   ]
  },
  {
   "cell_type": "code",
   "execution_count": 7,
   "metadata": {},
   "outputs": [
    {
     "name": "stdout",
     "output_type": "stream",
     "text": [
      "<filter object at 0x7f83dcea1ee0>\n",
      "('a', 'e', 'i', 'o')\n"
     ]
    }
   ],
   "source": [
    "\"\"\"The filter() function extracts elements from an iterable (list, tuple etc.) for which a function returns True.\n",
    "\n",
    "Syntax: filter(function, iterable)\n",
    "        function - a function;\n",
    "        iterable - an iterable like lists, tuples, sets etc.\n",
    "        The filter() function returns an object of filter class.\n",
    "\n",
    "Link: https://www.programiz.com/python-programming/methods/built-in/filter\n",
    "\"\"\"\n",
    "\n",
    "# example 1\n",
    "letters = ['a', 'b', 'd', 'e', 'i', 'j', 'o']\n",
    "\n",
    "# a function that returns True if letter is vowel\n",
    "def filter_vowels(letter):\n",
    "    vowels = ['a', 'e', 'i', 'o', 'u']\n",
    "    return letter in vowels  # return True if letter in vowels else False\n",
    "\n",
    "filtered_vowels = filter(filter_vowels, letters)\n",
    "print(filtered_vowels)\n",
    "\n",
    "# converting to tuple\n",
    "vowels = tuple(filtered_vowels)\n",
    "print(vowels)"
   ]
  },
  {
   "cell_type": "code",
   "execution_count": 8,
   "metadata": {},
   "outputs": [
    {
     "name": "stdout",
     "output_type": "stream",
     "text": [
      "[2, 4, 6]\n"
     ]
    }
   ],
   "source": [
    "# example 2\n",
    "numbers = range(1, 8)  # numbers = [1, 2, 3, 4, 5, 6, 7]\n",
    "\n",
    "# the lambda function returns True for even numbers \n",
    "even_numbers_iterator = filter(lambda x: x % 2 == 0, numbers)\n",
    "\n",
    "# converting to list\n",
    "even_numbers = list(even_numbers_iterator)\n",
    "\n",
    "print(even_numbers)"
   ]
  },
  {
   "cell_type": "markdown",
   "metadata": {},
   "source": [
    "#### zip()"
   ]
  },
  {
   "cell_type": "code",
   "execution_count": 9,
   "metadata": {},
   "outputs": [
    {
     "name": "stdout",
     "output_type": "stream",
     "text": [
      "((1, 'one'), (2, 'two'), (3, 'three'))\n",
      "<zip object at 0x7f83dcea9ac0>\n",
      "[]\n"
     ]
    }
   ],
   "source": [
    "\"\"\"The zip() function takes iterables (can be zero or more), aggregates them in a tuple, and returns it.\n",
    "\n",
    "Syntax: zip(*iterables)\n",
    "        iterables can be built-in iterables (like: list, string, dict), or user-defined iterables.\n",
    "        The zip() function returns an object of zip class.\n",
    "        \n",
    "Link: https://www.programiz.com/python-programming/methods/built-in/zip\n",
    "\"\"\"\n",
    "\n",
    "# example 1\n",
    "number_list = [1, 2, 3]\n",
    "str_list = ['one', 'two', 'three']\n",
    "\n",
    "# Two iterables are passed\n",
    "result = zip(number_list, str_list)\n",
    "\n",
    "# Converting iterator to tuple\n",
    "result_tuple = tuple(result)\n",
    "print(result_tuple)\n",
    "\n",
    "print(result)\n",
    "\n",
    "# Converting iterator to set\n",
    "result_set = list(result)\n",
    "print(result_set)\n",
    "\n",
    "# result_set is empty because zip is generator (see https://docs.python.org/3/library/functions.html#zip)"
   ]
  },
  {
   "cell_type": "code",
   "execution_count": 10,
   "metadata": {},
   "outputs": [
    {
     "name": "stdout",
     "output_type": "stream",
     "text": [
      "[(1, 'ONE'), (2, 'TWO'), (3, 'THREE')]\n",
      "[(1, 'one', 'ONE'), (2, 'two', 'TWO')]\n"
     ]
    }
   ],
   "source": [
    "# example 2: Different number of iterable elements\n",
    "nums_list = [1, 2, 3]\n",
    "str_list = ['one', 'two']\n",
    "nums_tuple = ('ONE', 'TWO', 'THREE', 'FOUR')\n",
    "\n",
    "# Notice, the size of num_list and numbers_tuple is different\n",
    "result = zip(nums_list, nums_tuple)\n",
    "\n",
    "# Converting to list\n",
    "result_list = list(result)\n",
    "print(result_list)\n",
    "\n",
    "result = zip(nums_list, str_list, nums_tuple)\n",
    "\n",
    "# Converting to list\n",
    "result_list = list(result)\n",
    "print(result_list)"
   ]
  },
  {
   "cell_type": "code",
   "execution_count": 11,
   "metadata": {},
   "outputs": [
    {
     "name": "stdout",
     "output_type": "stream",
     "text": [
      "<zip object at 0x7f83dcea5bc0>\n",
      "[('x', 3), ('y', 4), ('z', 5)]\n",
      "c = ('x', 'y', 'z')\n",
      "v = (3, 4, 5)\n"
     ]
    }
   ],
   "source": [
    "# example 3: Unzipping the Value Using zip()\n",
    "coordinate = ['x', 'y', 'z']\n",
    "value = [3, 4, 5]\n",
    "\n",
    "result = zip(coordinate, value)\n",
    "print(result)\n",
    "\n",
    "result_list = list(result)\n",
    "print(result_list)\n",
    "\n",
    "c, v = zip(*result_list)\n",
    "print(f\"c = {c}\")\n",
    "print(f\"v = {v}\")"
   ]
  },
  {
   "cell_type": "markdown",
   "metadata": {},
   "source": [
    "### Comprehensions in Python\n",
    "\n",
    "There are three comprehensions in Python:\n",
    "\n",
    "1. List Comprehension\n",
    "\n",
    "2. Set Comprehension\n",
    "\n",
    "3. Dictionary Comprehension"
   ]
  },
  {
   "cell_type": "markdown",
   "metadata": {},
   "source": [
    "#### 1. List Comprehension\n",
    "\n",
    "List comprehensions provide a concise and readable way to create lists.\n",
    "\n",
    "Syntax: [expression for item in iterable if conditional]\n",
    "\n",
    "Common applications:\n",
    "- to make new lists where each element is the result of some operations applied to each member of another sequence \n",
    "  or iterable;\n",
    "- to create a subsequence of those elements that satisfy a certain condition.\n",
    "\n",
    "Link: https://docs.python.org/3/tutorial/datastructures.html#list-comprehensions"
   ]
  },
  {
   "cell_type": "code",
   "execution_count": 12,
   "metadata": {},
   "outputs": [
    {
     "name": "stdout",
     "output_type": "stream",
     "text": [
      "CPU times: user 518 ms, sys: 32.3 ms, total: 550 ms\n",
      "Wall time: 612 ms\n"
     ]
    },
    {
     "data": {
      "text/plain": [
       "[0, 1, 4, 9, 16]"
      ]
     },
     "execution_count": 12,
     "metadata": {},
     "output_type": "execute_result"
    }
   ],
   "source": [
    "%%time\n",
    "n = 1_000_000\n",
    "squares = []\n",
    "for x in range(n):\n",
    "    squares.append(x ** 2)\n",
    "\n",
    "squares[:5]"
   ]
  },
  {
   "cell_type": "code",
   "execution_count": 13,
   "metadata": {},
   "outputs": [
    {
     "name": "stdout",
     "output_type": "stream",
     "text": [
      "CPU times: user 450 ms, sys: 30.1 ms, total: 480 ms\n",
      "Wall time: 505 ms\n"
     ]
    }
   ],
   "source": [
    "%%time\n",
    "squares = list(map(lambda x: x ** 2, range(n)))"
   ]
  },
  {
   "cell_type": "code",
   "execution_count": 14,
   "metadata": {},
   "outputs": [
    {
     "name": "stdout",
     "output_type": "stream",
     "text": [
      "CPU times: user 377 ms, sys: 25.2 ms, total: 403 ms\n",
      "Wall time: 403 ms\n"
     ]
    }
   ],
   "source": [
    "%%time\n",
    "squares = [x ** 2 for x in range(n)]"
   ]
  },
  {
   "cell_type": "code",
   "execution_count": 15,
   "metadata": {},
   "outputs": [
    {
     "name": "stdout",
     "output_type": "stream",
     "text": [
      "['hello', 'hello']\n"
     ]
    }
   ],
   "source": [
    "# Syntax: new_list = [expression for member in iterable (if conditional)]\n",
    "sentence = 'the rocket came back home hello from mars hello'\n",
    "\n",
    "result = [word for word in sentence.split() if word == 'hello']\n",
    "print(result)"
   ]
  },
  {
   "cell_type": "code",
   "execution_count": 16,
   "metadata": {},
   "outputs": [],
   "source": [
    "# split()"
   ]
  },
  {
   "cell_type": "code",
   "execution_count": 17,
   "metadata": {},
   "outputs": [
    {
     "name": "stdout",
     "output_type": "stream",
     "text": [
      "[1.25, 0, 10.22, 3.78, 0, 1.16]\n"
     ]
    }
   ],
   "source": [
    "# Syntax: new_list = [expression (if conditional) for member in iterable]\n",
    "original_prices = [1.25, -9.45, 10.22, 3.78, -5.92, 1.16]\n",
    "\n",
    "prices = [original_price if original_price > 0 else 0 for original_price in original_prices]\n",
    "print(prices)"
   ]
  },
  {
   "cell_type": "markdown",
   "metadata": {},
   "source": [
    "#### 2. Set Comprehension"
   ]
  },
  {
   "cell_type": "code",
   "execution_count": 18,
   "metadata": {},
   "outputs": [
    {
     "data": {
      "text/plain": [
       "{'d', 'r'}"
      ]
     },
     "execution_count": 18,
     "metadata": {},
     "output_type": "execute_result"
    }
   ],
   "source": [
    "a = {x for x in 'abracadabra' if x not in 'abc'}\n",
    "a"
   ]
  },
  {
   "cell_type": "markdown",
   "metadata": {},
   "source": [
    "#### 3. Dictionary Comprehension"
   ]
  },
  {
   "cell_type": "code",
   "execution_count": 19,
   "metadata": {},
   "outputs": [
    {
     "name": "stdout",
     "output_type": "stream",
     "text": [
      "{'t1': -34.44444444444444, 't2': -28.88888888888889, 't3': -23.333333333333336, 't4': -17.77777777777778}\n"
     ]
    }
   ],
   "source": [
    "# Initialize the 'fahrenheit' dictionary\n",
    "fahrenheit = {'t1': -30, 't2': -20, 't3': -10, 't4': 0}\n",
    "\n",
    "# Get the corresponding 'celsius' values and create the new dictionary\n",
    "celsius = {k: (float(5) / 9) * (v - 32) for (k, v) in fahrenheit.items()}\n",
    "\n",
    "print(celsius)"
   ]
  },
  {
   "cell_type": "code",
   "execution_count": 20,
   "metadata": {},
   "outputs": [
    {
     "name": "stdout",
     "output_type": "stream",
     "text": [
      "{'t1': -34.44444444444444, 't2': -28.88888888888889, 't3': -23.333333333333336, 't4': -17.77777777777778}\n"
     ]
    }
   ],
   "source": [
    "# Initialize 'fahrenheit' dictionary\n",
    "fahrenheit = {'t1': -30, 't2': -20, 't3': -10, 't4': 0}\n",
    "\n",
    "# Get the corresponding 'celsius' values\n",
    "celsius = map(lambda x: (float(5) / 9) * (x - 32), fahrenheit.values())\n",
    "\n",
    "# Create the 'celsius' dictionary\n",
    "celsius_dict = dict(zip(fahrenheit.keys(), celsius))\n",
    "\n",
    "print(celsius_dict)"
   ]
  },
  {
   "cell_type": "markdown",
   "metadata": {},
   "source": [
    "## Type Annotations\n",
    "\n",
    "Type Annotations are a new feature in python that allow for adding type hints to variables.\n",
    "\n",
    "Question: Why use them?\n",
    "\n",
    "Answer: Declaring types makes our code more explicit, and if done well, easier to read — both for ourselves and others."
   ]
  },
  {
   "cell_type": "code",
   "execution_count": 21,
   "metadata": {},
   "outputs": [
    {
     "data": {
      "text/plain": [
       "3"
      ]
     },
     "execution_count": 21,
     "metadata": {},
     "output_type": "execute_result"
    }
   ],
   "source": [
    "# example\n",
    "def get_sum(a, b):\n",
    "    return a + b\n",
    "\n",
    "get_sum(1, 2)"
   ]
  },
  {
   "cell_type": "code",
   "execution_count": 22,
   "metadata": {},
   "outputs": [
    {
     "data": {
      "text/plain": [
       "'12'"
      ]
     },
     "execution_count": 22,
     "metadata": {},
     "output_type": "execute_result"
    }
   ],
   "source": [
    "get_sum(\"1\", \"2\")"
   ]
  },
  {
   "cell_type": "code",
   "execution_count": 23,
   "metadata": {},
   "outputs": [
    {
     "data": {
      "text/plain": [
       "3"
      ]
     },
     "execution_count": 23,
     "metadata": {},
     "output_type": "execute_result"
    }
   ],
   "source": [
    "def get_sum(a: int, b: int) -> int:\n",
    "    return a + b\n",
    "\n",
    "get_sum(1, 2)"
   ]
  },
  {
   "cell_type": "code",
   "execution_count": 24,
   "metadata": {},
   "outputs": [
    {
     "data": {
      "text/plain": [
       "'12'"
      ]
     },
     "execution_count": 24,
     "metadata": {},
     "output_type": "execute_result"
    }
   ],
   "source": [
    "get_sum(\"1\", \"2\")  # doesn't work for 3.10 ?!"
   ]
  },
  {
   "cell_type": "code",
   "execution_count": 25,
   "metadata": {},
   "outputs": [
    {
     "name": "stdout",
     "output_type": "stream",
     "text": [
      "Python 3.8.10\r\n"
     ]
    }
   ],
   "source": [
    "# Get python version\n",
    "! python3 --version"
   ]
  },
  {
   "cell_type": "markdown",
   "metadata": {},
   "source": [
    "## Exercises"
   ]
  },
  {
   "cell_type": "markdown",
   "metadata": {},
   "source": [
    "#### 1. N-th Tribonacci Number\n",
    "\n",
    "The Tribonacci sequence T_n is defined as follows: \n",
    "\n",
    "T(0) = 0, T(1) = 1, T(2) = 1, and T(n+3) = T(n) + T(n + 1) + T(n + 2) for n >= 0.\n",
    "\n",
    "Given n, return the value of T(n)."
   ]
  },
  {
   "cell_type": "code",
   "execution_count": 26,
   "metadata": {},
   "outputs": [],
   "source": [
    "def tribonacci(n: int) -> int:\n",
    "    pass"
   ]
  },
  {
   "cell_type": "code",
   "execution_count": null,
   "metadata": {},
   "outputs": [],
   "source": []
  },
  {
   "cell_type": "markdown",
   "metadata": {},
   "source": [
    "#### 2. Two sum\n",
    "\n",
    "Given an array of integers <i>nums</i> and an integer <i>target</i>, return indices of the two numbers such that they add up to <i>target</i>.\n",
    "\n",
    "You may assume that each input would have exactly one solution, and you may not use the same element twice.\n",
    "\n",
    "You can return the answer in any order.\n",
    "\n",
    "Example 1:\n",
    "> Input: nums = [2,7,11,15], target = 9 &#8658; Output: [0,1]\n",
    "\n",
    "> Explanation: Because nums[0] + nums[1] == 9, we return [0, 1].\n",
    "\n",
    "Example 2:\n",
    "> Input: nums = [3,2,4], target = 6 &#8658; Output: [1,2]\n",
    "\n",
    "Example 3:\n",
    "> Input: nums = [3,3], target = 6 &#8658; Output: [0,1]"
   ]
  },
  {
   "cell_type": "code",
   "execution_count": 27,
   "metadata": {},
   "outputs": [],
   "source": [
    "from typing import List\n",
    "\n",
    "# Brute Force\n",
    "def two_sum1(nums: List[int], target: int) -> List[int]:\n",
    "    \"\"\"\n",
    "    Time  Complexity: O(n ** 2)\n",
    "    Space Complexity: O(1)\n",
    "    \"\"\"\n",
    "    n = len(nums)\n",
    "    for i in range(n):\n",
    "        for j in range(i + 1, n):\n",
    "            if nums[i] + nums[j] == target:\n",
    "                return [i, j]"
   ]
  },
  {
   "cell_type": "code",
   "execution_count": 28,
   "metadata": {},
   "outputs": [],
   "source": [
    "# Optimal Solution\n",
    "def two_sum2(nums: List[int], target: int) -> List[int]:\n",
    "    \"\"\"\n",
    "    Time  Complexity: O(n)\n",
    "    Space Complexity: O(k)\n",
    "    \"\"\"\n",
    "    \n",
    "    d = {}  # target - num : index\n",
    "    for i in range(len(nums)):\n",
    "        diff = target - nums[i]\n",
    "        if diff in d.keys():\n",
    "            return [d[diff], i]\n",
    "        else:\n",
    "            d[nums[i]] = i\n",
    "    print(d)"
   ]
  },
  {
   "cell_type": "code",
   "execution_count": 29,
   "metadata": {},
   "outputs": [],
   "source": [
    "n = [11, 15, 11, 15, 7, 2]\n",
    "target = 9"
   ]
  },
  {
   "cell_type": "code",
   "execution_count": 30,
   "metadata": {},
   "outputs": [
    {
     "name": "stdout",
     "output_type": "stream",
     "text": [
      "CPU times: user 11 µs, sys: 0 ns, total: 11 µs\n",
      "Wall time: 13.1 µs\n"
     ]
    },
    {
     "data": {
      "text/plain": [
       "[4, 5]"
      ]
     },
     "execution_count": 30,
     "metadata": {},
     "output_type": "execute_result"
    }
   ],
   "source": [
    "%%time\n",
    "two_sum1(nums=n, target=target)"
   ]
  },
  {
   "cell_type": "code",
   "execution_count": 31,
   "metadata": {},
   "outputs": [
    {
     "name": "stdout",
     "output_type": "stream",
     "text": [
      "CPU times: user 17 µs, sys: 1e+03 ns, total: 18 µs\n",
      "Wall time: 25.7 µs\n"
     ]
    },
    {
     "data": {
      "text/plain": [
       "[4, 5]"
      ]
     },
     "execution_count": 31,
     "metadata": {},
     "output_type": "execute_result"
    }
   ],
   "source": [
    "%%time\n",
    "two_sum2(nums=n, target=target)"
   ]
  },
  {
   "cell_type": "markdown",
   "metadata": {},
   "source": [
    "##### 3. Find Winner on a Tic Tac Toe Game\n",
    "\n",
    "Tic-tac-toe is played by two players <i>A</i> and <i>B</i> on a 3 x 3 grid. The rules of Tic-Tac-Toe are:\n",
    "\n",
    "> Players take turns placing characters into empty squares ' '.\n",
    "\n",
    "> The first player <i>A</i> always places 'X' characters, while the second player <i>B</i> always places 'O' characters. 'X' and 'O' characters are always placed into empty squares, never on filled ones.\n",
    "\n",
    "> The game ends when there are three of the same (non-empty) character filling any row, column, or diagonal. \n",
    "\n",
    "> The game also ends if all squares are non-empty.\n",
    "\n",
    "> No more moves can be played if the game is over. \n",
    "\n",
    "\n",
    "Given a 2D integer array <i>moves</i> where <i>moves[i] = [row_i, col_i]</i> indicates that the <i>ith</i> move will be played on <i>grid[rowi][coli]</i>. \n",
    "\n",
    "Return the winner of the game if it exists (<i>A</i> or <i>B</i>). In case the game ends in a draw return \"Draw\". If there are still movements to play return \"Pending\".\n",
    "\n",
    "You can assume that <i>moves</i> is valid (i.e., it follows the rules of Tic-Tac-Toe), the grid is initially empty, and <i>A</i> will play first.\n",
    "\n",
    "Example 1:\n",
    "> Input: moves = [[0,0],[2,0],[1,1],[2,1],[2,2]]  &#8658;  Output: \"A\"\n",
    "\n",
    "Example 2:\n",
    "> Input: moves = [[0,0],[1,1],[0,1],[0,2],[1,0],[2,0]] &#8658; Output: \"B\"\n",
    "\n",
    "Example 3:\n",
    "> Input: moves = [[0,0],[1,1],[2,0],[1,0],[1,2],[2,1],[0,1],[0,2],[2,2]]  &#8658; Output: \"Draw\"\n",
    "\n",
    "> Explanation: The game ends in a draw since there are no moves to make.\n",
    "\n",
    "Example 4:\n",
    "> Input: moves = [[0,0],[1,1]]  &#8658; Output: \"Pending\"\n",
    "\n",
    "> Explanation: The game has not finished yet."
   ]
  },
  {
   "cell_type": "code",
   "execution_count": 32,
   "metadata": {},
   "outputs": [],
   "source": [
    "def tictactoe(moves: List[List[int]]) -> str:\n",
    "    pass"
   ]
  },
  {
   "cell_type": "markdown",
   "metadata": {},
   "source": [
    "---"
   ]
  }
 ],
 "metadata": {
  "kernelspec": {
   "display_name": "Python 3 (ipykernel)",
   "language": "python",
   "name": "python3"
  },
  "language_info": {
   "codemirror_mode": {
    "name": "ipython",
    "version": 3
   },
   "file_extension": ".py",
   "mimetype": "text/x-python",
   "name": "python",
   "nbconvert_exporter": "python",
   "pygments_lexer": "ipython3",
   "version": "3.8.10"
  }
 },
 "nbformat": 4,
 "nbformat_minor": 4
}
