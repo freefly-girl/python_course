{
 "cells": [
  {
   "cell_type": "markdown",
   "metadata": {},
   "source": [
    "# Lecture 10: Binary Tree\n",
    "\n",
    "A tree is an abstract data type that stores elements hierarchically.\n",
    "\n",
    "With the exception of the top element, each element in a binary tree has a **parent** element and at most two **children** elements. We typically call the top element the **root** of the tree.\n",
    "\n",
    "A tree is **ordered** if there is a meaningful linear order among the children of each node; that is, we purposefully identify the children of a node as being the first, second, third, and so on.\n",
    "\n",
    "A **binary tree** is an ordered tree with the following properties:\n",
    "\n",
    "> 1. Every node has at most two children.\n",
    "\n",
    "> 2. Each child node is labeled as being either a left child or a right child.\n",
    "\n",
    "> 3. A left child precedes a right child in the order of children of a node.\n",
    "\n",
    "Two nodes that are children of the same parent are **siblings**. A node v is **external** if v has no children. A node v is **internal** if it has one or more children. **External** nodes are also known as **leaves**.\n",
    "\n",
    "The subtree rooted at a left or right child of an internal node v is called a **left subtree** or **right subtree**, respectively, of v.\n",
    "\n",
    "A binary tree is **proper** if each node has either zero or two children. Some people also refer to such trees as being **full binary trees**. Thus, in a proper binary tree, every internal node has exactly two children. A binary tree that is not proper is **improper**."
   ]
  },
  {
   "cell_type": "markdown",
   "metadata": {},
   "source": [
    "## Binary Tree Traversals\n",
    "\n",
    "1. Breadth-First Search:\n",
    "\n",
    "> Level-Order\n",
    "\n",
    "2. Depth-First Search:\n",
    "\n",
    "> 2.1 Preorder: root - left - right\n",
    "\n",
    "> 2.2 Inorder: left - root - right\n",
    "\n",
    "> 2.3 Postorder: left - right - root"
   ]
  },
  {
   "cell_type": "code",
   "execution_count": 1,
   "metadata": {},
   "outputs": [],
   "source": [
    "from typing import Optional, List\n",
    "\n",
    "class TreeNode:\n",
    "    \"\"\"Definition for a binary tree node\"\"\"\n",
    "    def __init__(self, val=0, left=None, right=None):\n",
    "        self.val = val\n",
    "        self.left = left\n",
    "        self.right = right"
   ]
  },
  {
   "cell_type": "markdown",
   "metadata": {},
   "source": [
    "## 1. Breadth-First Search\n",
    "\n",
    "**Level Order Traversal** is the algorithm to process all nodes of a tree by traversing through depth, first the root, then the child of the root, etc"
   ]
  },
  {
   "cell_type": "code",
   "execution_count": 2,
   "metadata": {},
   "outputs": [],
   "source": [
    "def level_order(root: Optional[TreeNode]) -> List[List[int]]:\n",
    "    \"\"\"Binary Tree Level Order Traversal\n",
    "    Time Complexity:  O(n)\n",
    "    Space Complexity: O(n)\n",
    "    where n - number of nodes in the binary tree.\n",
    "    \"\"\"\n",
    "    if not root:\n",
    "        return []\n",
    "\n",
    "    queue = [root]\n",
    "    next_queue = []\n",
    "    level = []\n",
    "    result = []\n",
    "    while queue:\n",
    "        for node in queue:\n",
    "            level.append(node.val)\n",
    "            if node.left:\n",
    "                next_queue.append(node.left)\n",
    "            if node.right:\n",
    "                next_queue.append(node.right)\n",
    "        result.append(level)\n",
    "        level = []\n",
    "        queue = next_queue\n",
    "        next_queue = []\n",
    "    return result"
   ]
  },
  {
   "cell_type": "code",
   "execution_count": 3,
   "metadata": {},
   "outputs": [],
   "source": [
    "\"\"\"Example:\n",
    "     1 \n",
    "   /   \\\n",
    "  2     3\n",
    " / \\   /  \\\n",
    "4   5 6    7\n",
    "\"\"\"\n",
    "root = TreeNode(1)\n",
    "root.left = TreeNode(2, TreeNode(4), TreeNode(5))\n",
    "root.right = TreeNode(3, TreeNode(6), TreeNode(7))"
   ]
  },
  {
   "cell_type": "code",
   "execution_count": 4,
   "metadata": {},
   "outputs": [
    {
     "data": {
      "text/plain": [
       "[[1], [2, 3], [4, 5, 6, 7]]"
      ]
     },
     "execution_count": 4,
     "metadata": {},
     "output_type": "execute_result"
    }
   ],
   "source": [
    "level_order(root)"
   ]
  },
  {
   "cell_type": "markdown",
   "metadata": {},
   "source": [
    "## 2. Depth-First Search"
   ]
  },
  {
   "cell_type": "markdown",
   "metadata": {},
   "source": [
    "### 2.1 Pre-order Traversal\n",
    "\n",
    "> Step 1: Visit root node.\n",
    "\n",
    "> Step 2: Recursively traverse left subtree.\n",
    "\n",
    "> Step 3: Recursively traverse right subtree."
   ]
  },
  {
   "cell_type": "markdown",
   "metadata": {},
   "source": [
    "### Recursive procedure"
   ]
  },
  {
   "cell_type": "code",
   "execution_count": 5,
   "metadata": {},
   "outputs": [
    {
     "data": {
      "text/plain": [
       "'Example:\\n     1 \\n   /     2     3\\n / \\\\   /  4   5 6    7\\n'"
      ]
     },
     "execution_count": 5,
     "metadata": {},
     "output_type": "execute_result"
    }
   ],
   "source": [
    "\"\"\"Example:\n",
    "     1 \n",
    "   /   \\\n",
    "  2     3\n",
    " / \\   /  \\\n",
    "4   5 6    7\n",
    "\"\"\"\n",
    "# preorder = [1, 2, 4, 5, 3, 6, 7]"
   ]
  },
  {
   "cell_type": "code",
   "execution_count": 6,
   "metadata": {},
   "outputs": [],
   "source": [
    "preorder = []\n",
    "def preorder_recursive(root: Optional[TreeNode]) -> None:\n",
    "    if root:\n",
    "        # print(root.val)\n",
    "        preorder.append(root.val)\n",
    "        preorder_recursive(root.left)\n",
    "        preorder_recursive(root.right)"
   ]
  },
  {
   "cell_type": "code",
   "execution_count": 7,
   "metadata": {},
   "outputs": [
    {
     "data": {
      "text/plain": [
       "[1, 2, 4, 5, 3, 6, 7]"
      ]
     },
     "execution_count": 7,
     "metadata": {},
     "output_type": "execute_result"
    }
   ],
   "source": [
    "preorder_recursive(root)\n",
    "preorder"
   ]
  },
  {
   "cell_type": "markdown",
   "metadata": {},
   "source": [
    "### Iterative procedure"
   ]
  },
  {
   "cell_type": "code",
   "execution_count": 8,
   "metadata": {},
   "outputs": [],
   "source": [
    "def preorder_iterative(root: Optional[TreeNode]) -> List[List[int]]:\n",
    "    \"\"\"Binary Tree Preorder Traversal\n",
    "    Preorder Traversal: <root><left><right>\n",
    "    Time Complexity:  O(n)\n",
    "    Space Complexity: O(n)\n",
    "    where n - number of nodes in the binary tree.\n",
    "    \"\"\"\n",
    "    stack = [root]\n",
    "    result = []\n",
    "    while stack:\n",
    "        node = stack.pop()\n",
    "        result.append(node.val)\n",
    "        if node.right:\n",
    "            stack.append(node.right)\n",
    "        if node.left:\n",
    "            stack.append(node.left)\n",
    "    return result"
   ]
  },
  {
   "cell_type": "code",
   "execution_count": 9,
   "metadata": {},
   "outputs": [
    {
     "ename": "AttributeError",
     "evalue": "'NoneType' object has no attribute 'val'",
     "output_type": "error",
     "traceback": [
      "\u001b[0;31m---------------------------------------------------------------------------\u001b[0m",
      "\u001b[0;31mAttributeError\u001b[0m                            Traceback (most recent call last)",
      "\u001b[0;32m/var/folders/38/bgjzx19n7z50tbjs_n3vpgdw0000gn/T/ipykernel_9402/950215154.py\u001b[0m in \u001b[0;36m<module>\u001b[0;34m\u001b[0m\n\u001b[1;32m      1\u001b[0m \u001b[0mroot\u001b[0m \u001b[0;34m=\u001b[0m \u001b[0;32mNone\u001b[0m\u001b[0;34m\u001b[0m\u001b[0;34m\u001b[0m\u001b[0m\n\u001b[0;32m----> 2\u001b[0;31m \u001b[0mpreorder_iterative\u001b[0m\u001b[0;34m(\u001b[0m\u001b[0mroot\u001b[0m\u001b[0;34m)\u001b[0m\u001b[0;34m\u001b[0m\u001b[0;34m\u001b[0m\u001b[0m\n\u001b[0m",
      "\u001b[0;32m/var/folders/38/bgjzx19n7z50tbjs_n3vpgdw0000gn/T/ipykernel_9402/1108105922.py\u001b[0m in \u001b[0;36mpreorder_iterative\u001b[0;34m(root)\u001b[0m\n\u001b[1;32m     10\u001b[0m     \u001b[0;32mwhile\u001b[0m \u001b[0mstack\u001b[0m\u001b[0;34m:\u001b[0m\u001b[0;34m\u001b[0m\u001b[0;34m\u001b[0m\u001b[0m\n\u001b[1;32m     11\u001b[0m         \u001b[0mnode\u001b[0m \u001b[0;34m=\u001b[0m \u001b[0mstack\u001b[0m\u001b[0;34m.\u001b[0m\u001b[0mpop\u001b[0m\u001b[0;34m(\u001b[0m\u001b[0;34m)\u001b[0m\u001b[0;34m\u001b[0m\u001b[0;34m\u001b[0m\u001b[0m\n\u001b[0;32m---> 12\u001b[0;31m         \u001b[0mresult\u001b[0m\u001b[0;34m.\u001b[0m\u001b[0mappend\u001b[0m\u001b[0;34m(\u001b[0m\u001b[0mnode\u001b[0m\u001b[0;34m.\u001b[0m\u001b[0mval\u001b[0m\u001b[0;34m)\u001b[0m\u001b[0;34m\u001b[0m\u001b[0;34m\u001b[0m\u001b[0m\n\u001b[0m\u001b[1;32m     13\u001b[0m         \u001b[0;32mif\u001b[0m \u001b[0mnode\u001b[0m\u001b[0;34m.\u001b[0m\u001b[0mright\u001b[0m\u001b[0;34m:\u001b[0m\u001b[0;34m\u001b[0m\u001b[0;34m\u001b[0m\u001b[0m\n\u001b[1;32m     14\u001b[0m             \u001b[0mstack\u001b[0m\u001b[0;34m.\u001b[0m\u001b[0mappend\u001b[0m\u001b[0;34m(\u001b[0m\u001b[0mnode\u001b[0m\u001b[0;34m.\u001b[0m\u001b[0mright\u001b[0m\u001b[0;34m)\u001b[0m\u001b[0;34m\u001b[0m\u001b[0;34m\u001b[0m\u001b[0m\n",
      "\u001b[0;31mAttributeError\u001b[0m: 'NoneType' object has no attribute 'val'"
     ]
    }
   ],
   "source": [
    "root = None\n",
    "preorder_iterative(root)"
   ]
  },
  {
   "cell_type": "markdown",
   "metadata": {},
   "source": [
    "### 2.2 In-order Traversal\n",
    "\n",
    "> Step 1: Recursively traverse left subtree.\n",
    "\n",
    "> Step 2: Visit root node.\n",
    "\n",
    "> Step 3: Recursively traverse right subtree."
   ]
  },
  {
   "cell_type": "markdown",
   "metadata": {},
   "source": [
    "### Recursive procedure"
   ]
  },
  {
   "cell_type": "code",
   "execution_count": 10,
   "metadata": {},
   "outputs": [
    {
     "data": {
      "text/plain": [
       "'Example:\\n     1 \\n   /     2     3\\n / \\\\   /  4   5 6    7\\n'"
      ]
     },
     "execution_count": 10,
     "metadata": {},
     "output_type": "execute_result"
    }
   ],
   "source": [
    "\"\"\"Example:\n",
    "     1 \n",
    "   /   \\\n",
    "  2     3\n",
    " / \\   /  \\\n",
    "4   5 6    7\n",
    "\"\"\"\n",
    "# inorder = [4, 2, 5, 1, 6, 3, 7]"
   ]
  },
  {
   "cell_type": "code",
   "execution_count": 11,
   "metadata": {},
   "outputs": [],
   "source": [
    "inorder = []\n",
    "def inorder_recursive(root: Optional[TreeNode]) -> None:\n",
    "    if root:\n",
    "        inorder_recursive(root.left)\n",
    "        # print(root.val)\n",
    "        inorder.append(root.val)\n",
    "        inorder_recursive(root.right)"
   ]
  },
  {
   "cell_type": "code",
   "execution_count": 12,
   "metadata": {},
   "outputs": [
    {
     "data": {
      "text/plain": [
       "[]"
      ]
     },
     "execution_count": 12,
     "metadata": {},
     "output_type": "execute_result"
    }
   ],
   "source": [
    "inorder_recursive(root)\n",
    "inorder"
   ]
  },
  {
   "cell_type": "markdown",
   "metadata": {},
   "source": [
    "### Iterative procedure"
   ]
  },
  {
   "cell_type": "code",
   "execution_count": 13,
   "metadata": {},
   "outputs": [],
   "source": [
    "def inorder_iterative(root: Optional[TreeNode]) -> List[List[int]]:\n",
    "    \"\"\"Binary Tree Inorder Traversal\n",
    "    Inorder Traversal: <left><root><right>\n",
    "    Time Complexity:  O(n)\n",
    "    Space Complexity: O(n)\n",
    "    where n - number of nodes in the binary tree.\n",
    "    \"\"\"\n",
    "    stack = []\n",
    "    result = []\n",
    "    while root or stack:\n",
    "        while root:\n",
    "            stack.append(root)\n",
    "            root = root.left\n",
    "        root = stack.pop()\n",
    "        result.append(root.val)\n",
    "        root = root.right\n",
    "    return result"
   ]
  },
  {
   "cell_type": "code",
   "execution_count": 14,
   "metadata": {},
   "outputs": [
    {
     "data": {
      "text/plain": [
       "[]"
      ]
     },
     "execution_count": 14,
     "metadata": {},
     "output_type": "execute_result"
    }
   ],
   "source": [
    "# root = None\n",
    "inorder_iterative(root)"
   ]
  },
  {
   "cell_type": "markdown",
   "metadata": {},
   "source": [
    "### 2.3 Post-order Traversal\n",
    "\n",
    "> Step 1 − Recursively traverse left subtree.\n",
    "\n",
    "> Step 2 − Recursively traverse right subtree.\n",
    "\n",
    "> Step 3 − Visit root node."
   ]
  },
  {
   "cell_type": "markdown",
   "metadata": {},
   "source": [
    "### Recursive procedure"
   ]
  },
  {
   "cell_type": "code",
   "execution_count": 15,
   "metadata": {},
   "outputs": [
    {
     "data": {
      "text/plain": [
       "'Example:\\n     1 \\n   /     2     3\\n / \\\\   /  4   5 6    7\\n'"
      ]
     },
     "execution_count": 15,
     "metadata": {},
     "output_type": "execute_result"
    }
   ],
   "source": [
    "\"\"\"Example:\n",
    "     1 \n",
    "   /   \\\n",
    "  2     3\n",
    " / \\   /  \\\n",
    "4   5 6    7\n",
    "\"\"\"\n",
    "# postorder = [4, 5, 2, 6, 7, 3, 1]"
   ]
  },
  {
   "cell_type": "code",
   "execution_count": 16,
   "metadata": {},
   "outputs": [],
   "source": [
    "postorder = []\n",
    "def postorder_recursive(root: Optional[TreeNode]) -> None:\n",
    "    if root:\n",
    "        postorder_recursive(root.left)\n",
    "        postorder_recursive(root.right)\n",
    "        postorder.append(root.val)\n",
    "        # print(root.val)"
   ]
  },
  {
   "cell_type": "code",
   "execution_count": 17,
   "metadata": {},
   "outputs": [
    {
     "data": {
      "text/plain": [
       "[]"
      ]
     },
     "execution_count": 17,
     "metadata": {},
     "output_type": "execute_result"
    }
   ],
   "source": [
    "postorder_recursive(root)\n",
    "postorder"
   ]
  },
  {
   "cell_type": "markdown",
   "metadata": {},
   "source": [
    "### Iterative procedure"
   ]
  },
  {
   "cell_type": "code",
   "execution_count": 18,
   "metadata": {},
   "outputs": [],
   "source": [
    "def postorder_iterative(root: TreeNode) -> List[int]:\n",
    "    \"\"\"Binary Tree Postorder Traversal\n",
    "    Preorder Traversal: <left><right><root>\n",
    "    Time Complexity:  O(n)\n",
    "    Space Complexity: O(n)\n",
    "    where n - number of nodes in the binary tree.\n",
    "    \"\"\"    \n",
    "    if not root:\n",
    "        return []\n",
    "    \n",
    "    stack = [root]\n",
    "    postorder = []\n",
    "    while stack:\n",
    "        node = stack[-1]\n",
    "        if node.left:\n",
    "            stack.append(node.left)\n",
    "            node.left = None\n",
    "            continue\n",
    "        \n",
    "        if node.right:\n",
    "            stack.append(node.right)\n",
    "            node.right = None\n",
    "            continue\n",
    "\n",
    "        postorder.append(stack.pop().val)\n",
    "\n",
    "    return postorder"
   ]
  },
  {
   "cell_type": "code",
   "execution_count": 19,
   "metadata": {},
   "outputs": [
    {
     "data": {
      "text/plain": [
       "[]"
      ]
     },
     "execution_count": 19,
     "metadata": {},
     "output_type": "execute_result"
    }
   ],
   "source": [
    "postorder_iterative(root)"
   ]
  },
  {
   "cell_type": "markdown",
   "metadata": {},
   "source": [
    "## Binary Search Tree (BST)\n",
    "\n",
    "Binary search tree is a data structure that quickly allows us to maintain a sorted list of numbers.\n",
    "\n",
    "It is called a binary tree because each tree node has a maximum of two children.\n",
    "\n",
    "It is called a search tree because it can be used to search for the presence of a number in O(log(n)) time.\n",
    "\n",
    "The properties that separate a binary search tree from a regular binary tree is\n",
    "\n",
    "> All nodes of left subtree are less than the root node\n",
    "\n",
    "> All nodes of right subtree are more than the root node\n",
    "\n",
    "> Both subtrees of each node are also BSTs i.e. they have the above two properties\n",
    "\n",
    "| Data Structure | Retrieval | Insertion | Deletion |\n",
    "| :- | -: | -: | :-: |\n",
    "|    Sorted Array    | O(log(n)) |   O(n)    |    O(n)   |\n",
    "| Sorted Linked List |   O(n)    |   O(n)    |    O(n)   |\n",
    "| Binary Search Tree | O(log(n)) | O(log(n)) | O(log(n)) |"
   ]
  },
  {
   "cell_type": "code",
   "execution_count": 20,
   "metadata": {},
   "outputs": [],
   "source": [
    "# Example of BST:\n",
    "\n",
    "#      11 \n",
    "#    /    \\\n",
    "#   7      12\n",
    "#  / \\    /  \\\n",
    "# 5   9  4   13"
   ]
  },
  {
   "cell_type": "markdown",
   "metadata": {},
   "source": [
    "### Exercises"
   ]
  },
  {
   "cell_type": "code",
   "execution_count": 21,
   "metadata": {},
   "outputs": [],
   "source": [
    "\"\"\"Exercise 1: Univalued Binary Tree (Google)\n",
    "A binary tree is uni-valued if every node in the tree has the same value.\n",
    "Given the root of a binary tree, return true if the given tree is uni-valued, or false otherwise.\n",
    "\n",
    "INPUT:\n",
    "root = TreeNode(1)\n",
    "root.left = TreeNode(1, TreeNode(1), TreeNode(1))\n",
    "root.right = TreeNode(1, TreeNode(1), TreeNode(1))\n",
    "\n",
    "     1 \n",
    "   /   \\\n",
    "  1     1\n",
    " / \\   /  \\\n",
    "1   1 1    1\n",
    "\n",
    "OUTPUT: True\n",
    "\"\"\"\n",
    "\n",
    "class Solution:\n",
    "    def isUnivalTree(self, root: Optional[TreeNode]) -> bool:\n",
    "        if not root:\n",
    "            return []\n",
    "        \n",
    "        value = root.val\n",
    "        queue = [root]\n",
    "        next_queue = []\n",
    "        level = []\n",
    "        while queue:\n",
    "            for node in queue:\n",
    "                level.append(node.val)\n",
    "                if node.left:\n",
    "                    next_queue.append(node.left)\n",
    "                if node.right:\n",
    "                    next_queue.append(node.right)\n",
    "            \n",
    "            if len(set(level)) != 1 or level[0] != value:\n",
    "                return False\n",
    "            \n",
    "            level = []\n",
    "            queue = next_queue\n",
    "            next_queue = []\n",
    "        return True"
   ]
  },
  {
   "cell_type": "code",
   "execution_count": 22,
   "metadata": {},
   "outputs": [],
   "source": [
    "\"\"\"Exercise 2: Average of Levels in Binary Tree\n",
    "Given the root of a binary tree, return the average value of the nodes on each level in the form of an array.\n",
    "\n",
    "INPUT:\n",
    "root = TreeNode(1)\n",
    "root.left = TreeNode(2, TreeNode(4), TreeNode(5))\n",
    "root.right = TreeNode(3, TreeNode(6), TreeNode(7))\n",
    "\n",
    "     1 \n",
    "   /   \\\n",
    "  2     3\n",
    " / \\   /  \\\n",
    "4   5 6    7\n",
    "\n",
    "OUTPUT: [1.0, 2.5, 5.5]\n",
    "\"\"\"\n",
    "\n",
    "class Solution:\n",
    "    def averageOfLevels(self, root: Optional[TreeNode]) -> List[float]:\n",
    "        if not root:\n",
    "            return 0\n",
    "\n",
    "        queue = [root]\n",
    "        next_queue = []\n",
    "        level = []\n",
    "        result = []\n",
    "        while queue:\n",
    "            for node in queue:\n",
    "                level.append(node.val)\n",
    "                if node.left:\n",
    "                    next_queue.append(node.left)\n",
    "                if node.right:\n",
    "                    next_queue.append(node.right)\n",
    "            \n",
    "            result.append(sum(level) / len(level))\n",
    "            \n",
    "            level = []\n",
    "            queue = next_queue\n",
    "            next_queue = []\n",
    "        return result"
   ]
  },
  {
   "cell_type": "code",
   "execution_count": 23,
   "metadata": {},
   "outputs": [],
   "source": [
    "\"\"\"Exercise 3: Find Bottom Left Tree Value\n",
    "Given the root of a binary tree, return the leftmost value in the last row of the tree.\n",
    "\n",
    "INPUT:\n",
    "root = TreeNode(1)\n",
    "root.left = TreeNode(2, TreeNode(4), TreeNode(5))\n",
    "root.right = TreeNode(3, TreeNode(6), TreeNode(7))\n",
    "\n",
    "     1 \n",
    "   /   \\\n",
    "  2     3\n",
    " / \\   /  \\\n",
    "4   5 6    7\n",
    "\n",
    "OUTPUT: 4\n",
    "\"\"\"\n",
    "\n",
    "class Solution:\n",
    "    def findBottomLeftValue(self, root: Optional[TreeNode]) -> int:\n",
    "        queue = [root]\n",
    "        next_queue = []\n",
    "        level = []\n",
    "        \n",
    "        while queue:\n",
    "            for node in queue:\n",
    "                level.append(node.val)\n",
    "                if node.left:\n",
    "                    next_queue.append(node.left)\n",
    "                if node.right:\n",
    "                    next_queue.append(node.right)\n",
    "            \n",
    "            result = level\n",
    "            \n",
    "            level = []\n",
    "            queue = next_queue\n",
    "            next_queue = []\n",
    "        \n",
    "        return result[0]"
   ]
  },
  {
   "cell_type": "code",
   "execution_count": 24,
   "metadata": {},
   "outputs": [],
   "source": [
    "\"\"\"Exercise 4: Binary Tree Right Side View (Facebook)\n",
    "Given the root of a binary tree, imagine yourself standing on the right side of it,\n",
    "return the values of the nodes you can see ordered from top to bottom.\n",
    "\n",
    "INPUT:\n",
    "root = TreeNode(1)\n",
    "root.left = TreeNode(2, TreeNode(4), TreeNode(5))\n",
    "root.right = TreeNode(3, TreeNode(6), TreeNode(7))\n",
    "\n",
    "     1 \n",
    "   /   \\\n",
    "  2     3\n",
    " / \\   /  \\\n",
    "4   5 6    \n",
    "\n",
    "[1, 2, 3, 4, 5, 6]\n",
    "\n",
    "i = 0: 2 ** i + 1 = 2\n",
    "i = 1: 2 ** i + 1 = 3\n",
    "i = 2: 2 ** i + 1 = 5\n",
    "i = 3: 2 ** i + 1 = 9\n",
    "\n",
    "[1, 3, ]\n",
    "\n",
    "\n",
    "# level-order\n",
    "# [[1], [2, 3], [4, 5, 6]]\n",
    "2 ** 0\n",
    "2 ** 1\n",
    "2 ** 2\n",
    "\n",
    "OUTPUT: [1, 3, 7]\n",
    "\"\"\"\n",
    "\n",
    "class Solution:\n",
    "    def rightSideView(self, root: TreeNode) -> List[int]:\n",
    "        # add your code\n",
    "        pass"
   ]
  },
  {
   "cell_type": "code",
   "execution_count": 25,
   "metadata": {},
   "outputs": [],
   "source": [
    "\"\"\"Exercise 5: Deepest Leaves Sum\n",
    "Given the root of a binary tree, return the sum of values of its deepest leaves.\n",
    "\n",
    "INPUT:\n",
    "root = TreeNode(1)\n",
    "root.left = TreeNode(2, TreeNode(4), TreeNode(5))\n",
    "root.right = TreeNode(3, TreeNode(6), TreeNode(7))\n",
    "\n",
    "     1 \n",
    "   /   \\\n",
    "  2     3\n",
    " / \\   /  \\\n",
    "4   5 6    7\n",
    "\n",
    "OUTPUT: 22 (4 + 5 + 6 + 7)\n",
    "\"\"\"\n",
    "\n",
    "class Solution:\n",
    "    def deepestLeavesSum(self, root: Optional[TreeNode]) -> int:\n",
    "        # add your code\n",
    "        pass"
   ]
  },
  {
   "cell_type": "code",
   "execution_count": 26,
   "metadata": {},
   "outputs": [],
   "source": [
    "\"\"\"Exercise 6: Search in a Binary Search Tree\n",
    "You are given the 'root' of a binary search tree (BST) and an integer 'val'.\n",
    "\n",
    "Find the node in the BST that the node's value equals 'val' and\n",
    "return the subtree rooted with that node. If such a node does not exist, return None.\n",
    "\n",
    "INPUT: val = 2\n",
    "root = TreeNode(4)\n",
    "root.left = TreeNode(2, TreeNode(1), TreeNode(3))\n",
    "root.right = TreeNode(7)\n",
    "\n",
    "     4 \n",
    "   /   \\\n",
    "  2     7\n",
    " / \\\n",
    "1   3\n",
    "\n",
    "OUTPUT:\n",
    "root = TreeNode(2)\n",
    "root.left = TreeNode(1)\n",
    "root.right = TreeNode(3)\n",
    "\n",
    "  2\n",
    " / \\\n",
    "1   3\n",
    "\"\"\"\n",
    "\n",
    "class Solution:\n",
    "    def searchBST(self, root: Optional[TreeNode], val: int) -> Optional[TreeNode]:\n",
    "        if not root:\n",
    "            return\n",
    "        \n",
    "        if root.val < val:\n",
    "            return self.searchBST(root.right, val)\n",
    "        elif root.val > val:\n",
    "            return self.searchBST(root.left, val)\n",
    "        return root"
   ]
  },
  {
   "cell_type": "code",
   "execution_count": 27,
   "metadata": {},
   "outputs": [],
   "source": [
    "\"\"\"Exercise 7: Insert into a Binary Search Tree\n",
    "You are given the 'root' node of a binary search tree (BST) and \n",
    "a 'val' to insert into the tree. Return the root node of the BST after the insertion.\n",
    "It is guaranteed that the new value does not exist in the original BST.\n",
    "\n",
    "Notice that there may exist multiple valid ways for the insertion,\n",
    "as long as the tree remains a BST after insertion.\n",
    "You can return any of them.\n",
    "\n",
    "INPUT: val = 5\n",
    "root = TreeNode(4)\n",
    "root.left = TreeNode(2, TreeNode(1), TreeNode(3))\n",
    "root.right = TreeNode(7)\n",
    "\n",
    "     4 \n",
    "   /   \\\n",
    "  2     7\n",
    " / \\\n",
    "1   3\n",
    "\n",
    "OUTPUT:\n",
    "root = TreeNode(4)\n",
    "root.left = TreeNode(2, TreeNode(1), TreeNode(3))\n",
    "root.right = TreeNode(7, TreeNode(5))\n",
    "\n",
    "     4 \n",
    "   /   \\\n",
    "  2     7\n",
    " / \\   /\n",
    "1   3 5\n",
    "\"\"\"\n",
    "\n",
    "class Solution:\n",
    "    def insertIntoBST(self, root: Optional[TreeNode], val: int) -> Optional[TreeNode]:\n",
    "        if not root:\n",
    "            return TreeNode(val)\n",
    "        \n",
    "        if root.val < val:\n",
    "            root.right = self.insertIntoBST(root.right, val)\n",
    "        elif root.val > val:\n",
    "            root.left = self.insertIntoBST(root.left, val)\n",
    "        return root"
   ]
  },
  {
   "cell_type": "code",
   "execution_count": 28,
   "metadata": {},
   "outputs": [],
   "source": [
    "\"\"\"Exercise 8: Validate Binary Search Tree\n",
    "Given the 'root' of a binary tree, determine if it is a valid binary search tree (BST).\n",
    "\n",
    "A valid BST is defined as follows:\n",
    "- The left subtree of a node contains only nodes with keys less than the node's key.\n",
    "- The right subtree of a node contains only nodes with keys greater than the node's key.\n",
    "- Both the left and right subtrees must also be binary search trees.\n",
    "\n",
    "INPUT:\n",
    "root = TreeNode(2)\n",
    "root.left = TreeNode(1)\n",
    "root.right = TreeNode(3)\n",
    "\n",
    "   2 \n",
    " /   \\\n",
    "1     3\n",
    "\n",
    "OUTPUT: True\n",
    "\"\"\"\n",
    "\n",
    "class Solution:\n",
    "    def __init__(self):\n",
    "        self.q = []\n",
    "    \n",
    "    def isValidBST(self, root: Optional[TreeNode]) -> bool:\n",
    "        def dfs(node):\n",
    "            if not node:\n",
    "                return\n",
    "            \n",
    "            dfs(node.left)\n",
    "            self.q.append(node.val)\n",
    "            dfs(node.right)\n",
    "        \n",
    "        dfs(root)\n",
    "        \n",
    "        for i in range(1, len(self.q)):\n",
    "            if self.q[i - 1] >= self.q[i]:\n",
    "                return False\n",
    "        return True"
   ]
  },
  {
   "cell_type": "code",
   "execution_count": 29,
   "metadata": {},
   "outputs": [],
   "source": [
    "\"\"\"Exercise 9: Range Sum of BST\n",
    "Given the 'root' node of a binary search tree and two integers 'low' and 'high',\n",
    "return the sum of values of all nodes with a value in the inclusive range [low, high].\n",
    "\n",
    "INPUT: low = 7, high = 15\n",
    "root = TreeNode(10)\n",
    "root.left = TreeNode(5, TreeNode(3), TreeNode(7))\n",
    "root.right = TreeNode(15, None, TreeNode(18))\n",
    "\n",
    "     10 \n",
    "   /    \\\n",
    "  5      15\n",
    " / \\      \\\n",
    "3   7      18\n",
    "\n",
    "OUTPUT: 32 (7 + 10 + 15)\n",
    "\"\"\"\n",
    "\n",
    "class Solution:\n",
    "    def rangeSumBST(self, root: TreeNode, L: int, R: int) -> int:\n",
    "        # add your code\n",
    "        pass"
   ]
  },
  {
   "cell_type": "code",
   "execution_count": 30,
   "metadata": {},
   "outputs": [],
   "source": [
    "\"\"\"Exercise 10: Convert Sorted Array to Binary Search Tree (Yandex)\n",
    "Given an integer array nums where the elements are sorted in ascending order,\n",
    "convert it to a height-balanced binary search tree.\n",
    "\n",
    "A height-balanced binary tree is a binary tree in which the depth of the two subtrees of every node\n",
    "never differs by more than one.\n",
    "\n",
    "INPUT:\n",
    "nums = [-10, -3, 0, 5, 9]\n",
    "\n",
    "OUTPUT:\n",
    "root = TreeNode(0)\n",
    "root.left = TreeNode(-3, TreeNode(-10), None)\n",
    "root.right = TreeNode(9, TreeNode(5), None)\n",
    "\"\"\"\n",
    "\n",
    "class Solution:\n",
    "    def sortedArrayToBST(self, nums: List[int]) -> Optional[TreeNode]:\n",
    "        # add your code\n",
    "        pass"
   ]
  }
 ],
 "metadata": {
  "kernelspec": {
   "display_name": "Python 3 (ipykernel)",
   "language": "python",
   "name": "python3"
  },
  "language_info": {
   "codemirror_mode": {
    "name": "ipython",
    "version": 3
   },
   "file_extension": ".py",
   "mimetype": "text/x-python",
   "name": "python",
   "nbconvert_exporter": "python",
   "pygments_lexer": "ipython3",
   "version": "3.8.10"
  }
 },
 "nbformat": 4,
 "nbformat_minor": 2
}
