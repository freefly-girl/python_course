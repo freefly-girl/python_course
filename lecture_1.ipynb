{
 "cells": [
  {
   "cell_type": "code",
   "execution_count": 1,
   "metadata": {},
   "outputs": [],
   "source": [
    "# Lecture 1: Data Types and Structures. Statements and Syntax.\n",
    "\n",
    "# + Data types\n",
    "\n",
    "# Data structures\n",
    "\n",
    "# Assignment operators\n",
    "# (https://www.geeksforgeeks.org/assignment-operators-in-python/)\n",
    "\n",
    "# Conditions and if statements\n",
    "# (https://www.w3schools.com/python/python_conditions.asp)\n",
    "\n",
    "# Loop statements\n",
    "\n",
    "# Frequently used functions: range(), split(), join(), replace(), sort(), sorted() and so on."
   ]
  },
  {
   "cell_type": "markdown",
   "metadata": {},
   "source": [
    "# Lecture 1: Data Types and Structures. Statements and Syntax.\n",
    "\n",
    "> Data types\n",
    "\n",
    "> Data structures\n",
    "\n",
    "> Assignment operators\n",
    "\n",
    "> Conditions and if statements\n",
    "\n",
    "> Loop statements"
   ]
  },
  {
   "cell_type": "markdown",
   "metadata": {},
   "source": [
    "### Data types"
   ]
  },
  {
   "cell_type": "code",
   "execution_count": 2,
   "metadata": {},
   "outputs": [
    {
     "name": "stdout",
     "output_type": "stream",
     "text": [
      "<class 'bool'>\n",
      "<class 'bool'>\n",
      "<class 'int'>\n",
      "<class 'float'>\n",
      "<class 'complex'>\n",
      "<class 'str'>\n",
      "<class 'str'>\n"
     ]
    }
   ],
   "source": [
    "\"\"\" Data Types\n",
    "\n",
    "Logical: bool.\n",
    "Numeric: int, float, complex.\n",
    "Text:    str.\n",
    "\"\"\"\n",
    "\n",
    "# Logical:\n",
    "print(type(True))    # bool\n",
    "print(type(False))   # bool\n",
    "\n",
    "# Numeric:\n",
    "print(type(5))       # int\n",
    "print(type(3.14))    # float\n",
    "print(type(1 + 2j))  # complex\n",
    "\n",
    "# Text:\n",
    "print(type('a'))     # str\n",
    "print(type(\"a\"))     # str"
   ]
  },
  {
   "cell_type": "code",
   "execution_count": 3,
   "metadata": {},
   "outputs": [
    {
     "name": "stdout",
     "output_type": "stream",
     "text": [
      "Logical:\n",
      "All mathematical operations are avaliable for 'bool' type.\n",
      "\n",
      "Numeric:\n",
      "All mathematical operations are avaliable for 'int', 'float' and 'complex' types.\n",
      "\n",
      "Text:\n",
      "Addition (concatenate) is avaliable for 'str': \t abc\n",
      "\n",
      "Types combination:\n",
      "Combination of 'str' and 'int': hellohellohello\n",
      "\n",
      "Other operations:\n",
      "String is indexed: b, a, c\n",
      "String slicing: bc, ab, bc\n"
     ]
    }
   ],
   "source": [
    "\"\"\"Mathematical operations\n",
    "\n",
    "Addition:       \"+\"  # adds the values on either side of the operator.\n",
    "Substraction:   \"-\"  # subtracts the value on the right from the one on the left.\n",
    "Multiplication: \"*\"  # multiplies the values on either side of the operator.\n",
    "Division:       \"/\"  # divides the value on the left by the one on the right.\n",
    "Exponentiation: \"**\" # raises the first number to the power of the second.\n",
    "Floor Division: \"//\" # divides and returns the integer value of the quotient.\n",
    "Modulus:        \"%\"  # divides and returns the value of the remainder.\n",
    "\"\"\"\n",
    "\n",
    "print(\"Logical:\")\n",
    "print(\"All mathematical operations are avaliable for 'bool' type.\")\n",
    "\n",
    "print(\"\\nNumeric:\")\n",
    "print(\"All mathematical operations are avaliable for 'int', 'float' and 'complex' types.\")\n",
    "\n",
    "print(\"\\nText:\")\n",
    "print(f\"Addition (concatenate) is avaliable for 'str': \\t {'a' + 'b' + 'c'}\")\n",
    "\n",
    "print(\"\\nTypes combination:\")\n",
    "h = 'hello'\n",
    "print(f\"Combination of 'str' and 'int': {h * 3}\")\n",
    "\n",
    "print(\"\\nOther operations:\")\n",
    "s = 'abc'\n",
    "print(f\"String is indexed: {s[1]}, {s[0]}, {s[-1]}\")\n",
    "print(f\"String slicing: {s[1:3]}, {s[:2]}, {s[1:]}\")"
   ]
  },
  {
   "cell_type": "markdown",
   "metadata": {},
   "source": [
    "### Data structures"
   ]
  },
  {
   "cell_type": "code",
   "execution_count": 4,
   "metadata": {},
   "outputs": [
    {
     "name": "stdout",
     "output_type": "stream",
     "text": [
      "Number of items in the list: 3\n",
      "Indexing by position: 123\n",
      "Slicing a list: ['spam', 1.23]\n",
      "Concatenation: [123, 'spam', 1.23, 1, 2, 3]\n"
     ]
    },
    {
     "data": {
      "text/plain": [
       "'Conclusion (List): positionally ordered collection | mutable'"
      ]
     },
     "execution_count": 4,
     "metadata": {},
     "output_type": "execute_result"
    }
   ],
   "source": [
    "\"\"\"Data Structure: List\n",
    "\n",
    "Description: Lists are positionally ordered collections of arbitrarily typed objects,\n",
    "             and they have no fixed size.\n",
    "             List is mutable (list can be modified in-place by assignment to offsets as well as \n",
    "             a variety of list method calls).\n",
    "\"\"\"\n",
    "\n",
    "# A list of three different-type objects\n",
    "my_list = [123, 'spam', 1.23]\n",
    "\n",
    "print(f\"Number of items in the list: {len(my_list)}\")\n",
    "print(f\"Indexing by position: {my_list[0]}\")\n",
    "print(f\"Slicing a list: {my_list[1:3]}\")       # returns a new list\n",
    "print(f\"Concatenation: {my_list + [1, 2, 3]}\") # concatenation makes a new list too\n",
    "\n",
    "\"Conclusion (List): positionally ordered collection | mutable\""
   ]
  },
  {
   "cell_type": "code",
   "execution_count": 4,
   "metadata": {},
   "outputs": [],
   "source": []
  },
  {
   "cell_type": "markdown",
   "metadata": {},
   "source": [
    "##### Importance of Mutable"
   ]
  },
  {
   "cell_type": "code",
   "execution_count": 5,
   "metadata": {},
   "outputs": [
    {
     "name": "stdout",
     "output_type": "stream",
     "text": [
      "a: 5\n",
      "b: 3\n"
     ]
    }
   ],
   "source": [
    "a = 3\n",
    "b = a\n",
    "a = a + 2\n",
    "print(f\"a: {a}\")\n",
    "print(f\"b: {b}\")"
   ]
  },
  {
   "cell_type": "code",
   "execution_count": 6,
   "metadata": {},
   "outputs": [
    {
     "name": "stdout",
     "output_type": "stream",
     "text": [
      "l1: [24, 3, 4]\n",
      "l2: [24, 3, 4]\n"
     ]
    }
   ],
   "source": [
    "l1 = [2, 3, 4]      # A mutable object\n",
    "l2 = l1             # Make a reference to the same object\n",
    "\n",
    "l1[0] = 24          # An in-place change\n",
    "print(f\"l1: {l1}\")  # L1 is different\n",
    "print(f\"l2: {l2}\")  # But so is L2!"
   ]
  },
  {
   "cell_type": "markdown",
   "metadata": {},
   "source": [
    "---\n",
    "---"
   ]
  }
 ],
 "metadata": {
  "kernelspec": {
   "display_name": "Python 3 (ipykernel)",
   "language": "python",
   "name": "python3"
  },
  "language_info": {
   "codemirror_mode": {
    "name": "ipython",
    "version": 3
   },
   "file_extension": ".py",
   "mimetype": "text/x-python",
   "name": "python",
   "nbconvert_exporter": "python",
   "pygments_lexer": "ipython3",
   "version": "3.8.10"
  }
 },
 "nbformat": 4,
 "nbformat_minor": 4
}